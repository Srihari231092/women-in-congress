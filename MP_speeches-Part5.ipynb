{
 "cells": [
  {
   "cell_type": "markdown",
   "metadata": {
    "deletable": true,
    "editable": true,
    "nbpresent": {
     "id": "f7cf4803-9f51-4045-94af-4d7cb8aa7271"
    },
    "toc": true
   },
   "source": [
    "<h1>Table of Contents<span class=\"tocSkip\"></span></h1>\n",
    "<div class=\"toc\" style=\"margin-top: 1em;\"><ul class=\"toc-item\"><li><span><a href=\"#Part-5:-Analyse-the-results-of-the-LDA-model\" data-toc-modified-id=\"Part-5:-Analyse-the-results-of-the-LDA-model-1\"><span class=\"toc-item-num\">1&nbsp;&nbsp;</span>Part 5: Analyse the results of the LDA model</a></span><ul class=\"toc-item\"><li><ul class=\"toc-item\"><li><span><a href=\"#Load-the-processed-speeches-dataframe\" data-toc-modified-id=\"Load-the-processed-speeches-dataframe-1.0.1\"><span class=\"toc-item-num\">1.0.1&nbsp;&nbsp;</span>Load the processed speeches dataframe</a></span></li></ul></li><li><span><a href=\"#Let's-see-which-topics-have-the-most-words-associated-with-them\" data-toc-modified-id=\"Let's-see-which-topics-have-the-most-words-associated-with-them-1.1\"><span class=\"toc-item-num\">1.1&nbsp;&nbsp;</span>Let's see which topics have the most words associated with them</a></span><ul class=\"toc-item\"><li><span><a href=\"#Select-only-the-topics-that-are-interesting-to-us\" data-toc-modified-id=\"Select-only-the-topics-that-are-interesting-to-us-1.1.1\"><span class=\"toc-item-num\">1.1.1&nbsp;&nbsp;</span>Select only the topics that are interesting to us</a></span></li><li><span><a href=\"#Sum-up-the-total-number-of-words-an-MP-has-said-about-a-topic\" data-toc-modified-id=\"Sum-up-the-total-number-of-words-an-MP-has-said-about-a-topic-1.1.2\"><span class=\"toc-item-num\">1.1.2&nbsp;&nbsp;</span>Sum up the total number of words an MP has said about a topic</a></span></li><li><span><a href=\"#Now-normalise-words-for-each-MP-and-topic-by-the-total-number-of-words-the-MP-has-spoken-(ignoring-stop-words,-etc)\" data-toc-modified-id=\"Now-normalise-words-for-each-MP-and-topic-by-the-total-number-of-words-the-MP-has-spoken-(ignoring-stop-words,-etc)-1.1.3\"><span class=\"toc-item-num\">1.1.3&nbsp;&nbsp;</span>Now normalise words for each MP and topic by the total number of words the MP has spoken (ignoring stop words, etc)</a></span></li></ul></li></ul></li><li><span><a href=\"#How-are-topics-segregated-by-gender?\" data-toc-modified-id=\"How-are-topics-segregated-by-gender?-2\"><span class=\"toc-item-num\">2&nbsp;&nbsp;</span>How are topics segregated by gender?</a></span><ul class=\"toc-item\"><li><span><a href=\"#All-parties\" data-toc-modified-id=\"All-parties-2.1\"><span class=\"toc-item-num\">2.1&nbsp;&nbsp;</span>All parties</a></span></li><li><span><a href=\"#Republicans\" data-toc-modified-id=\"Republicans-2.2\"><span class=\"toc-item-num\">2.2&nbsp;&nbsp;</span>Republicans</a></span></li><li><span><a href=\"#Democrats\" data-toc-modified-id=\"Democrats-2.3\"><span class=\"toc-item-num\">2.3&nbsp;&nbsp;</span>Democrats</a></span></li></ul></li><li><span><a href=\"#Total-words-spoken-by-each-gender-over-time\" data-toc-modified-id=\"Total-words-spoken-by-each-gender-over-time-3\"><span class=\"toc-item-num\">3&nbsp;&nbsp;</span>Total words spoken by each gender over time</a></span></li></ul></div>"
   ]
  },
  {
   "cell_type": "markdown",
   "metadata": {
    "deletable": true,
    "editable": true,
    "nbpresent": {
     "id": "34dd49ee-9e49-46bb-a1fe-fff6b6903503"
    }
   },
   "source": [
    "# Analyse all House of Representative speeches since 1994"
   ]
  },
  {
   "cell_type": "markdown",
   "metadata": {
    "deletable": true,
    "editable": true,
    "nbpresent": {
     "id": "e2a8890a-addb-416e-bd5a-e9db610bfee8"
    }
   },
   "source": [
    "[Part 1: Get a list of MPs and their affiliations](MP_speeches-Part1.ipynb)\n",
    "\n",
    "[Part 2: Download all speeches belonging to MPs in list](MP_speeches-Part2.ipynb)\n",
    "\n",
    "[Part 3: Train bigram and trigram models and use them on all speeches](MP_speeches-Part3.ipynb)\n",
    "\n",
    "[Part 4: Train an LDA topic model and process all speeches with it](MP_speeches-Part4.ipynb)\n",
    "\n",
    "## Part 5: Analyse the results of the LDA model\n",
    "\n",
    "In this notebook, we will use the LDA model we created previously to understand broad trends in parliamentary speeches"
   ]
  },
  {
   "cell_type": "code",
   "execution_count": 1,
   "metadata": {
    "collapsed": false,
    "deletable": true,
    "editable": true,
    "nbpresent": {
     "id": "94b48f26-02ff-4179-a5bc-b30744f83fca"
    }
   },
   "outputs": [],
   "source": [
    "import pandas as pd\n",
    "import numpy as np\n",
    "import bcolz\n",
    "\n",
    "# Read in details of MPs\n",
    "members = pd.read_hdf(\"list_of_members.h5\", \"members\")\n",
    "members[\"full_name\"] = members[\"first_name\"] + \" \" + members[\"last_name\"]"
   ]
  },
  {
   "cell_type": "code",
   "execution_count": 2,
   "metadata": {
    "collapsed": false,
    "deletable": true,
    "editable": true,
    "nbpresent": {
     "id": "f52cf5c2-6408-4273-bd57-d2c4a8354778"
    }
   },
   "outputs": [
    {
     "data": {
      "text/html": [
       "<div>\n",
       "<style scoped>\n",
       "    .dataframe tbody tr th:only-of-type {\n",
       "        vertical-align: middle;\n",
       "    }\n",
       "\n",
       "    .dataframe tbody tr th {\n",
       "        vertical-align: top;\n",
       "    }\n",
       "\n",
       "    .dataframe thead th {\n",
       "        text-align: right;\n",
       "    }\n",
       "</style>\n",
       "<table border=\"1\" class=\"dataframe\">\n",
       "  <thead>\n",
       "    <tr style=\"text-align: right;\">\n",
       "      <th></th>\n",
       "      <th>bioguide_id</th>\n",
       "      <th>full_name</th>\n",
       "      <th>party</th>\n",
       "      <th>gender</th>\n",
       "    </tr>\n",
       "    <tr>\n",
       "      <th>type</th>\n",
       "      <th></th>\n",
       "      <th></th>\n",
       "      <th></th>\n",
       "      <th></th>\n",
       "    </tr>\n",
       "  </thead>\n",
       "  <tbody>\n",
       "    <tr>\n",
       "      <th>rep</th>\n",
       "      <td>288</td>\n",
       "      <td>288</td>\n",
       "      <td>288</td>\n",
       "      <td>288</td>\n",
       "    </tr>\n",
       "    <tr>\n",
       "      <th>sen</th>\n",
       "      <td>51</td>\n",
       "      <td>51</td>\n",
       "      <td>51</td>\n",
       "      <td>51</td>\n",
       "    </tr>\n",
       "  </tbody>\n",
       "</table>\n",
       "</div>"
      ],
      "text/plain": [
       "      bioguide_id  full_name  party  gender\n",
       "type                                       \n",
       "rep           288        288    288     288\n",
       "sen            51         51     51      51"
      ]
     },
     "execution_count": 2,
     "metadata": {},
     "output_type": "execute_result"
    }
   ],
   "source": [
    "# Total number of women who served\n",
    "members.query(\"gender=='F'\")[[\"bioguide_id\", \"full_name\", \"party\", \"gender\", \"type\"]].drop_duplicates().groupby(\"type\").count()"
   ]
  },
  {
   "cell_type": "code",
   "execution_count": 3,
   "metadata": {
    "collapsed": false,
    "deletable": true,
    "editable": true,
    "nbpresent": {
     "id": "3305f331-8862-4204-b100-6123eb7468bd"
    }
   },
   "outputs": [
    {
     "data": {
      "text/html": [
       "<div>\n",
       "<style scoped>\n",
       "    .dataframe tbody tr th:only-of-type {\n",
       "        vertical-align: middle;\n",
       "    }\n",
       "\n",
       "    .dataframe tbody tr th {\n",
       "        vertical-align: top;\n",
       "    }\n",
       "\n",
       "    .dataframe thead th {\n",
       "        text-align: right;\n",
       "    }\n",
       "</style>\n",
       "<table border=\"1\" class=\"dataframe\">\n",
       "  <thead>\n",
       "    <tr style=\"text-align: right;\">\n",
       "      <th></th>\n",
       "      <th>bioguide_id</th>\n",
       "      <th>full_name</th>\n",
       "      <th>party</th>\n",
       "      <th>gender</th>\n",
       "    </tr>\n",
       "    <tr>\n",
       "      <th>type</th>\n",
       "      <th></th>\n",
       "      <th></th>\n",
       "      <th></th>\n",
       "      <th></th>\n",
       "    </tr>\n",
       "  </thead>\n",
       "  <tbody>\n",
       "    <tr>\n",
       "      <th>rep</th>\n",
       "      <td>89</td>\n",
       "      <td>89</td>\n",
       "      <td>89</td>\n",
       "      <td>89</td>\n",
       "    </tr>\n",
       "    <tr>\n",
       "      <th>sen</th>\n",
       "      <td>22</td>\n",
       "      <td>22</td>\n",
       "      <td>22</td>\n",
       "      <td>22</td>\n",
       "    </tr>\n",
       "  </tbody>\n",
       "</table>\n",
       "</div>"
      ],
      "text/plain": [
       "      bioguide_id  full_name  party  gender\n",
       "type                                       \n",
       "rep            89         89     89      89\n",
       "sen            22         22     22      22"
      ]
     },
     "execution_count": 3,
     "metadata": {},
     "output_type": "execute_result"
    }
   ],
   "source": [
    "# Total number of women who are currently serving\n",
    "members.query(\"gender=='F' & term_end > '2018-04-05'\")[[\"bioguide_id\", \"full_name\", \"party\", \"gender\", \"type\"]].drop_duplicates().groupby(\"type\").count()"
   ]
  },
  {
   "cell_type": "code",
   "execution_count": 4,
   "metadata": {
    "collapsed": false,
    "deletable": true,
    "editable": true,
    "nbpresent": {
     "id": "c1f6fff0-65b1-4d95-8508-07f033067af0"
    }
   },
   "outputs": [],
   "source": [
    "# Reformat it and get rid of useless columns\n",
    "members = members.sort_values(\"term_start\").groupby(\"bioguide_id\").last()[[\"full_name\", \"party\", \"gender\"]]"
   ]
  },
  {
   "cell_type": "markdown",
   "metadata": {
    "deletable": true,
    "editable": true,
    "nbpresent": {
     "id": "bebfa287-2750-4bee-9651-eba5f6b2b4d6"
    }
   },
   "source": [
    "Let's start by importing the names of topics in the LDA model"
   ]
  },
  {
   "cell_type": "code",
   "execution_count": 128,
   "metadata": {
    "collapsed": false,
    "deletable": true,
    "editable": true,
    "nbpresent": {
     "id": "6239f433-7a63-4389-8ff5-a7acdf799003"
    },
    "scrolled": true
   },
   "outputs": [],
   "source": [
    "# %load topic_names.py\n",
    "# Dictionary of topic names\n",
    "topic_names_100 = {\n",
    "    0: \"congress terminology\",\n",
    "    1: \"congress terminology+\",\n",
    "    2: \"healthcare\",\n",
    "    3: \"\",\n",
    "    4: \"random names (?)\",\n",
    "    5: \"science\",\n",
    "    6: \"social security\",\n",
    "    7: \"africa?\",\n",
    "    8: \"national security\",\n",
    "    9: \"midwest (?)\",\n",
    "    10: \"government finances\",\n",
    "    11: \"OSHA\",\n",
    "    12: \"honors\",\n",
    "    13: \"congress terminology++\",\n",
    "    14: \"budget\",\n",
    "    15: \"consumer protection\",\n",
    "    16: \"committees\",\n",
    "    17: \"sports\",\n",
    "    18: \"arts & culture\",\n",
    "    19: \"military equipment (?)\",\n",
    "    20: \"coast guard & fishing industry\",\n",
    "    21: \"\",\n",
    "    22: \"judaism\",\n",
    "    23: \"fire fighting\",\n",
    "    24: \"\",\n",
    "    25: \"NASA\",\n",
    "    26: \"homeland security\",\n",
    "    27: \"african-american history\",\n",
    "    28: \"affordable housing\",\n",
    "    29: \"war history (?)\",\n",
    "    30: \"\",\n",
    "    31: \"\",\n",
    "    32: \"\",\n",
    "    33: \"china\",\n",
    "    34: \"census\",\n",
    "    35: \"veteran affairs\",\n",
    "    36: \"agriculture\",\n",
    "    37: \"FEMA\",\n",
    "    38: \"unemployment\",\n",
    "    39: \"\",\n",
    "    40: \"civil rights\",\n",
    "    41: \"transport\",\n",
    "    42: \"\",\n",
    "    43: \"army corps\",\n",
    "    44: \"awards\",\n",
    "    45: \"mexico & turkey (?)\",\n",
    "    46: \"\",\n",
    "    47: \"senior citizens healthcare\",\n",
    "    48: \"abortion\",\n",
    "    49: \"legislation\",\n",
    "    50: \"constitution\",\n",
    "    51: \"california\",\n",
    "    52: \"texas\",\n",
    "    53: \"foreign policy\",\n",
    "    54: \"defense\",\n",
    "    55: \"medicine + campaign finance reform\",\n",
    "    56: \"\",\n",
    "    57: \"native americans\",\n",
    "    58: \"mental health\",\n",
    "    59: \"land management & forestry\",\n",
    "    60: \"drug enforcement\",\n",
    "    61: \"birth control & women's rights\",\n",
    "    62: \"iraq & afghanistan\",\n",
    "    63: \"FCC\",\n",
    "    64: \"EPA\",\n",
    "    65: \"medicare\",\n",
    "    66: \"welfare reform\",\n",
    "    67: \"\",\n",
    "    68: \"\",\n",
    "    69: \"employee-employer relations\",\n",
    "    70: \"\",\n",
    "    71: \"school education\",\n",
    "    72: \"\",\n",
    "    73: \"trade policy\",\n",
    "    74: \"\"\n",
    "}\n",
    "\n",
    "topic_names_50 = {\n",
    "    1: \"israel & palestine\",\n",
    "    2: \"labor relations\",\n",
    "    3: \"transportation\",\n",
    "    4: \"arts & culture\",\n",
    "    5: \"tobacco\",\n",
    "    6: \"aviation\",\n",
    "    7: \"FDA\",\n",
    "    8: \"medicare\",\n",
    "    9: \"fiscal policy\",\n",
    "    10: \"budget\",\n",
    "    12: \"secondary education\",\n",
    "    13: \"wildlife conservation\",\n",
    "    14: \"veteran affairs\",\n",
    "    15: \"nasa & baseball ??\",\n",
    "    16: \"health insurance\",\n",
    "    17: \"agriculture\",\n",
    "    18: \"elections\",\n",
    "    19: \"disease prevention\",\n",
    "    20: \"medicare+\",\n",
    "    21: \"first names (male)\",\n",
    "    22: \"young people\",\n",
    "    23: \"iraq & afghanistan\",\n",
    "    25: \"russia\",\n",
    "    26: \"housing\",\n",
    "    27: \"homeland security\",\n",
    "    28: \"welfare reform\",\n",
    "    29: \"honors\",\n",
    "    30: \"oil & gas\",\n",
    "    31: \"constitional law\",\n",
    "    32: \"EPA\",\n",
    "    33: \"indian affairs\",\n",
    "    34: \"FEMA\",\n",
    "    35: \"energy\",\n",
    "    36: \"honors+\",\n",
    "    37: \"affordable care act (?)\",\n",
    "    38: \"border enforcement\",\n",
    "    39: \"congressional terminology\",\n",
    "    40: \"MURICA\",\n",
    "    41: \"china & india\",\n",
    "    42: \"business & corporate responsibility (?)\",\n",
    "    43: \"congressional terminology+\",\n",
    "    44: \"congressional terminology++\",\n",
    "    45: \"veterans\",\n",
    "    46: \"congressional terminology+++\",\n",
    "    47: \"tax\",\n",
    "    48: \"african-american civil rights\",\n",
    "    49: \"minimum wages\"\n",
    "}\n",
    "\n",
    "topic_names_75 = {\n",
    "    0: \"healthcare\",\n",
    "    1: \"constitution\",\n",
    "    2: \"african-american history\",\n",
    "    3: \"IRS & trafficking\",\n",
    "    5: \"infrastructure & construction\",\n",
    "    7: \"african-americans\",\n",
    "    9: \"military\",\n",
    "    10: \"secondary education\",\n",
    "    11: \"border enforcement\",\n",
    "    12: \"agriculture\",\n",
    "    13: \"cybersecurity\",\n",
    "    14: \"budget\",\n",
    "    15: \"entrepreneurship\",\n",
    "    16: \"transportation\",\n",
    "    17: \"worker welfare\",\n",
    "    18: \"medical research\",\n",
    "    20: \"india & pakistan\",\n",
    "    21: \"congressional terminology\",\n",
    "    23: \"first names\",\n",
    "    26: \"armenian genocide\",\n",
    "    27: \"drugs war\",\n",
    "    28: \"puerto rico\",\n",
    "    29: \"sports\",\n",
    "    30: \"community service\",\n",
    "    31: \"???\",\n",
    "    32: \"tobacco\",\n",
    "    34: \"iraq & afghanistan wars\",\n",
    "    35: \"affordable housing\",\n",
    "    37: \"honors\",\n",
    "    38: \"congressional terminology+\",\n",
    "    39: \"human rights in china\",\n",
    "    40: \"natural disasters\",\n",
    "    42: \"financial sector\",\n",
    "    43: \"congressional terminology++\",\n",
    "    44: \"congressional terminology+++\",\n",
    "    45: \"energy\",\n",
    "    48: \"veteran affairs\",\n",
    "    49: \"child welfare\",\n",
    "    50: \"gun safety & abortion\",\n",
    "    51: \"honors+\",\n",
    "    55: \"veterans\",\n",
    "    56: \"unions\",\n",
    "    57: \"health insurance & medicare\",\n",
    "    59: \"honors++\",\n",
    "    60: \"forestry\",\n",
    "    61: \"arts\",\n",
    "    62: \"nuclear waste\",\n",
    "    63: \"trade\",\n",
    "    68: \"law\",\n",
    "    70: \"terrorism & foreign policy\",\n",
    "    71: \"defense\",\n",
    "    72: \"voting rights & democracy\",\n",
    "    74: \"homeland security\"\n",
    "}\n",
    "\n",
    "topic_names = topic_names_75\n",
    "def topic_dict(topic_number):\n",
    "    \"\"\"\n",
    "    return name of topic where identified\n",
    "    \"\"\"\n",
    "    \n",
    "    try:\n",
    "        return topic_names[topic_number]\n",
    "    except KeyError:\n",
    "        return topic_number\n",
    "    \n",
    "# Reverse the topic names so that we can find them easily\n",
    "reverse_topic_dict = {i[1]:i[0] for i in topic_names.items()}"
   ]
  },
  {
   "cell_type": "markdown",
   "metadata": {
    "deletable": true,
    "editable": true,
    "nbpresent": {
     "id": "0e9117da-0215-4662-91c7-15c4f5b2c579"
    }
   },
   "source": [
    "#### Load the processed speeches dataframe"
   ]
  },
  {
   "cell_type": "code",
   "execution_count": 73,
   "metadata": {
    "collapsed": false,
    "deletable": true,
    "editable": true,
    "nbpresent": {
     "id": "cb002e19-7617-42aa-8ccd-2d8e42d6316c"
    }
   },
   "outputs": [],
   "source": [
    "# Import speeches data (excludes speech texts)\n",
    "speeches = pd.read_hdf(\"processed_speeches_75.h5\", \"speeches\")\n",
    "\n",
    "# Import pointer to speech texts\n",
    "zspeeches = bcolz.open(\"speeches.bcolz\", mode=\"w\")"
   ]
  },
  {
   "cell_type": "markdown",
   "metadata": {
    "deletable": true,
    "editable": true,
    "nbpresent": {
     "id": "127b7395-e2e5-49a5-bb7f-6dd6fcbdff7c"
    }
   },
   "source": [
    "Here's what the speeches dataframe looks like.\n",
    "\n",
    "Each column with a number refers to a particular topic, and the cell contains the probability that the speech is about that particular topic."
   ]
  },
  {
   "cell_type": "code",
   "execution_count": 74,
   "metadata": {
    "collapsed": false,
    "deletable": true,
    "editable": true,
    "nbpresent": {
     "id": "29fa65c3-cffc-456a-a935-1f3bc46717ed"
    }
   },
   "outputs": [
    {
     "data": {
      "text/html": [
       "<div>\n",
       "<style scoped>\n",
       "    .dataframe tbody tr th:only-of-type {\n",
       "        vertical-align: middle;\n",
       "    }\n",
       "\n",
       "    .dataframe tbody tr th {\n",
       "        vertical-align: top;\n",
       "    }\n",
       "\n",
       "    .dataframe thead th {\n",
       "        text-align: right;\n",
       "    }\n",
       "</style>\n",
       "<table border=\"1\" class=\"dataframe\">\n",
       "  <thead>\n",
       "    <tr style=\"text-align: right;\">\n",
       "      <th></th>\n",
       "      <th>date</th>\n",
       "      <th>doc_title</th>\n",
       "      <th>id</th>\n",
       "      <th>speaker</th>\n",
       "      <th>speaker_bioguide</th>\n",
       "      <th>0</th>\n",
       "      <th>1</th>\n",
       "      <th>2</th>\n",
       "      <th>3</th>\n",
       "      <th>4</th>\n",
       "      <th>...</th>\n",
       "      <th>66</th>\n",
       "      <th>67</th>\n",
       "      <th>68</th>\n",
       "      <th>69</th>\n",
       "      <th>70</th>\n",
       "      <th>71</th>\n",
       "      <th>72</th>\n",
       "      <th>73</th>\n",
       "      <th>74</th>\n",
       "      <th>n_words</th>\n",
       "    </tr>\n",
       "  </thead>\n",
       "  <tbody>\n",
       "    <tr>\n",
       "      <th>0</th>\n",
       "      <td>2001-03-30</td>\n",
       "      <td>MARRIAGE PENALTY AND FAMILY TAX RELIEF ACT OF ...</td>\n",
       "      <td>CREC-2001-03-30-pt1-PgE503</td>\n",
       "      <td>Mr. LANGEVIN</td>\n",
       "      <td>L000559</td>\n",
       "      <td>0.0</td>\n",
       "      <td>0.0</td>\n",
       "      <td>0.0</td>\n",
       "      <td>0.0</td>\n",
       "      <td>0.000000</td>\n",
       "      <td>...</td>\n",
       "      <td>0.0</td>\n",
       "      <td>0.0</td>\n",
       "      <td>0.0</td>\n",
       "      <td>0.0</td>\n",
       "      <td>0.0</td>\n",
       "      <td>0.000000</td>\n",
       "      <td>0.000000</td>\n",
       "      <td>0.0</td>\n",
       "      <td>0.0</td>\n",
       "      <td>165</td>\n",
       "    </tr>\n",
       "    <tr>\n",
       "      <th>1</th>\n",
       "      <td>2001-03-30</td>\n",
       "      <td>MARRIAGE PENALTY AND FAMILY TAX RELIEF ACT OF ...</td>\n",
       "      <td>CREC-2001-03-30-pt1-PgE503-2</td>\n",
       "      <td>Mr. BOEHLERT</td>\n",
       "      <td>B000586</td>\n",
       "      <td>0.0</td>\n",
       "      <td>0.0</td>\n",
       "      <td>0.0</td>\n",
       "      <td>0.0</td>\n",
       "      <td>0.000000</td>\n",
       "      <td>...</td>\n",
       "      <td>0.0</td>\n",
       "      <td>0.0</td>\n",
       "      <td>0.0</td>\n",
       "      <td>0.0</td>\n",
       "      <td>0.0</td>\n",
       "      <td>0.000000</td>\n",
       "      <td>0.000000</td>\n",
       "      <td>0.0</td>\n",
       "      <td>0.0</td>\n",
       "      <td>131</td>\n",
       "    </tr>\n",
       "    <tr>\n",
       "      <th>2</th>\n",
       "      <td>2001-03-30</td>\n",
       "      <td>RECOGNIZING EVAN DOBELLE'S CONTRIBUTIONS TO TH...</td>\n",
       "      <td>CREC-2001-03-30-pt1-PgE504</td>\n",
       "      <td>Mr. LARSON of Connecticut</td>\n",
       "      <td>L000557</td>\n",
       "      <td>0.0</td>\n",
       "      <td>0.0</td>\n",
       "      <td>0.0</td>\n",
       "      <td>0.0</td>\n",
       "      <td>0.000000</td>\n",
       "      <td>...</td>\n",
       "      <td>0.0</td>\n",
       "      <td>0.0</td>\n",
       "      <td>0.0</td>\n",
       "      <td>0.0</td>\n",
       "      <td>0.0</td>\n",
       "      <td>0.000000</td>\n",
       "      <td>0.000000</td>\n",
       "      <td>0.0</td>\n",
       "      <td>0.0</td>\n",
       "      <td>253</td>\n",
       "    </tr>\n",
       "    <tr>\n",
       "      <th>3</th>\n",
       "      <td>2001-03-30</td>\n",
       "      <td>MAGGIE LENA WALKER</td>\n",
       "      <td>CREC-2001-03-30-pt1-PgE505</td>\n",
       "      <td>Mr. SCOTT</td>\n",
       "      <td>S000185</td>\n",
       "      <td>0.0</td>\n",
       "      <td>0.0</td>\n",
       "      <td>0.0</td>\n",
       "      <td>0.0</td>\n",
       "      <td>0.000000</td>\n",
       "      <td>...</td>\n",
       "      <td>0.0</td>\n",
       "      <td>0.0</td>\n",
       "      <td>0.0</td>\n",
       "      <td>0.0</td>\n",
       "      <td>0.0</td>\n",
       "      <td>0.000000</td>\n",
       "      <td>0.057343</td>\n",
       "      <td>0.0</td>\n",
       "      <td>0.0</td>\n",
       "      <td>311</td>\n",
       "    </tr>\n",
       "    <tr>\n",
       "      <th>4</th>\n",
       "      <td>2001-03-30</td>\n",
       "      <td>CONCURRENT RESOLUTION ON THE BUDGET, FISCAL YE...</td>\n",
       "      <td>CREC-2001-03-30-pt1-PgE504-2</td>\n",
       "      <td>Mr. LANGEVIN</td>\n",
       "      <td>L000559</td>\n",
       "      <td>0.0</td>\n",
       "      <td>0.0</td>\n",
       "      <td>0.0</td>\n",
       "      <td>0.0</td>\n",
       "      <td>0.038147</td>\n",
       "      <td>...</td>\n",
       "      <td>0.0</td>\n",
       "      <td>0.0</td>\n",
       "      <td>0.0</td>\n",
       "      <td>0.0</td>\n",
       "      <td>0.0</td>\n",
       "      <td>0.036316</td>\n",
       "      <td>0.000000</td>\n",
       "      <td>0.0</td>\n",
       "      <td>0.0</td>\n",
       "      <td>383</td>\n",
       "    </tr>\n",
       "  </tbody>\n",
       "</table>\n",
       "<p>5 rows × 81 columns</p>\n",
       "</div>"
      ],
      "text/plain": [
       "        date                                          doc_title  \\\n",
       "0 2001-03-30  MARRIAGE PENALTY AND FAMILY TAX RELIEF ACT OF ...   \n",
       "1 2001-03-30  MARRIAGE PENALTY AND FAMILY TAX RELIEF ACT OF ...   \n",
       "2 2001-03-30  RECOGNIZING EVAN DOBELLE'S CONTRIBUTIONS TO TH...   \n",
       "3 2001-03-30                                 MAGGIE LENA WALKER   \n",
       "4 2001-03-30  CONCURRENT RESOLUTION ON THE BUDGET, FISCAL YE...   \n",
       "\n",
       "                             id                    speaker speaker_bioguide  \\\n",
       "0    CREC-2001-03-30-pt1-PgE503               Mr. LANGEVIN          L000559   \n",
       "1  CREC-2001-03-30-pt1-PgE503-2               Mr. BOEHLERT          B000586   \n",
       "2    CREC-2001-03-30-pt1-PgE504  Mr. LARSON of Connecticut          L000557   \n",
       "3    CREC-2001-03-30-pt1-PgE505                  Mr. SCOTT          S000185   \n",
       "4  CREC-2001-03-30-pt1-PgE504-2               Mr. LANGEVIN          L000559   \n",
       "\n",
       "     0    1    2    3         4   ...      66   67   68   69   70        71  \\\n",
       "0  0.0  0.0  0.0  0.0  0.000000   ...     0.0  0.0  0.0  0.0  0.0  0.000000   \n",
       "1  0.0  0.0  0.0  0.0  0.000000   ...     0.0  0.0  0.0  0.0  0.0  0.000000   \n",
       "2  0.0  0.0  0.0  0.0  0.000000   ...     0.0  0.0  0.0  0.0  0.0  0.000000   \n",
       "3  0.0  0.0  0.0  0.0  0.000000   ...     0.0  0.0  0.0  0.0  0.0  0.000000   \n",
       "4  0.0  0.0  0.0  0.0  0.038147   ...     0.0  0.0  0.0  0.0  0.0  0.036316   \n",
       "\n",
       "         72   73   74  n_words  \n",
       "0  0.000000  0.0  0.0      165  \n",
       "1  0.000000  0.0  0.0      131  \n",
       "2  0.000000  0.0  0.0      253  \n",
       "3  0.057343  0.0  0.0      311  \n",
       "4  0.000000  0.0  0.0      383  \n",
       "\n",
       "[5 rows x 81 columns]"
      ]
     },
     "execution_count": 74,
     "metadata": {},
     "output_type": "execute_result"
    }
   ],
   "source": [
    "speeches.head()"
   ]
  },
  {
   "cell_type": "code",
   "execution_count": 75,
   "metadata": {
    "collapsed": true,
    "deletable": true,
    "editable": true,
    "nbpresent": {
     "id": "8ab10a4b-dfe1-4309-8003-09fd2520ee82"
    }
   },
   "outputs": [],
   "source": [
    "# Some helper functions\n",
    "def topics_by_mp(mp_id):\n",
    "    \"\"\"Return a histogram of topics mentioned by MP\"\"\"\n",
    "    mp_speeches = speeches[(speeches[\"n_words\"] > 5) &\n",
    "                       (speeches[\"speaker_bioguide\"] == mp_id)]\n",
    "    mp_speeches = pd.melt(mp_speeches, value_vars=list(topic_names.keys())).query('value > 0.4').groupby(\"variable\").size()\n",
    "    return mp_speeches\n",
    "    \n",
    "\n",
    "def topics_by_mp_words(mp_id):\n",
    "    \"\"\"Return a histogram of topics mentioned by MP\"\"\"\n",
    "    mp_speeches = speeches[(speeches[\"speaker_bioguide\"] == mp_id)]\n",
    "    mp_speeches[list(topic_names.keys())] = mp_speeches[list(topic_names.keys())].mul(mp_speeches[\"n_words\"],\n",
    "                                                                                              axis=0)\n",
    "    mp_speeches = mp_speeches[list(topic_names.keys())].sum().sort_values(ascending=False).reset_index()\n",
    "    mp_speeches[\"topic_name\"] = mp_speeches[\"index\"].apply(lambda x: topic_dict(x))\n",
    "    mp_speeches = mp_speeches.set_index(\"index\").rename(columns={0:\"num_words\"})\n",
    "    return mp_speeches"
   ]
  },
  {
   "cell_type": "markdown",
   "metadata": {
    "deletable": true,
    "editable": true,
    "nbpresent": {
     "id": "1ba6f340-5e02-4aa9-a3b0-dd083f21f6ba"
    }
   },
   "source": [
    "### Let's see which topics have the most words associated with them"
   ]
  },
  {
   "cell_type": "code",
   "execution_count": 129,
   "metadata": {
    "collapsed": false,
    "deletable": true,
    "editable": true,
    "nbpresent": {
     "id": "5637be31-1b9f-4e57-8247-859ed2eb4f0a"
    }
   },
   "outputs": [
    {
     "data": {
      "application/vnd.plotly.v1+json": {
       "data": [
        {
         "marker": {
          "color": "rgba(226, 74, 51, 0.6)",
          "line": {
           "color": "rgba(226, 74, 51, 1.0)",
           "width": 1
          }
         },
         "name": "0",
         "orientation": "v",
         "text": "",
         "type": "bar",
         "x": [
          "-???-",
          "-budget-",
          "-congressional terminology+++-",
          "-terrorism & foreign policy-",
          "-honors-",
          "-honors+-",
          "-congressional terminology++-",
          "-secondary education-",
          "-community service-",
          "-entrepreneurship-",
          "-border enforcement-",
          "-health insurance & medicare-",
          "-veterans-",
          "-constitution-",
          "-trade-",
          "-honors++-",
          "-voting rights & democracy-",
          "-energy-",
          "-36-",
          "-forestry-",
          "-congressional terminology+-",
          "-medical research-",
          "-47-",
          "-financial sector-",
          "-worker welfare-",
          "-64-",
          "-african-americans-",
          "-defense-",
          "-congressional terminology-",
          "-65-",
          "-iraq & afghanistan wars-",
          "-child welfare-",
          "-healthcare-",
          "-4-",
          "-law-",
          "-homeland security-",
          "-sports-",
          "-cybersecurity-",
          "-infrastructure & construction-",
          "-agriculture-",
          "-human rights in china-",
          "-natural disasters-",
          "-52-",
          "-puerto rico-",
          "-armenian genocide-",
          "-19-",
          "-african-american history-",
          "-veteran affairs-",
          "-gun safety & abortion-",
          "-33-",
          "-IRS & trafficking-",
          "-military-",
          "-affordable housing-",
          "-41-",
          "-67-",
          "-22-",
          "-69-",
          "-6-",
          "-transportation-",
          "-first names-",
          "-drugs war-",
          "-8-",
          "-46-",
          "-unions-",
          "-25-",
          "-53-",
          "-54-",
          "-nuclear waste-",
          "-india & pakistan-",
          "-tobacco-",
          "-arts-",
          "-66-",
          "-24-",
          "-58-",
          "-73-"
         ],
         "y": [
          7093596.5,
          5750864,
          4219850,
          3758816.25,
          3118631.5,
          2767509.75,
          2577178.5,
          2389616.25,
          2365409.75,
          2228936.75,
          2130462.75,
          2116021.25,
          2047454,
          1998123.75,
          1984244.25,
          1949553.5,
          1910373.625,
          1762647.75,
          1742640.5,
          1728045.625,
          1726828,
          1701366.375,
          1620773.25,
          1540611.5,
          1506672.375,
          1490361.125,
          1426540.75,
          1417174.375,
          1398571,
          1357369.5,
          1298320.875,
          1259993.125,
          1233088,
          1118249.875,
          1109815.875,
          1092060,
          1084818.875,
          1051675.75,
          1025722.0625,
          990476.375,
          948302.875,
          931649.875,
          899931.125,
          898829.125,
          888850.375,
          865629.9375,
          858096.3125,
          779725.6875,
          711489.25,
          695803.25,
          692850.5,
          682612.875,
          668746.0625,
          652878.5,
          618839.4375,
          603302.6875,
          556605.9375,
          544921.75,
          490927.09375,
          485268.875,
          470370.21875,
          454639.09375,
          414217.9375,
          394606.15625,
          362863.59375,
          284869.5625,
          278822.5,
          258861.171875,
          224643.09375,
          192733.28125,
          184591.015625,
          173022.53125,
          153763.40625,
          46823.265625,
          44680.23828125
         ]
        }
       ],
       "layout": {
        "legend": {
         "bgcolor": "#FFFFFF",
         "font": {
          "color": "#666666"
         }
        },
        "margin": {
         "b": 150,
         "l": 100,
         "r": 50,
         "t": 50
        },
        "paper_bgcolor": "#FFFFFF",
        "plot_bgcolor": "#E5E5E5",
        "title": "Total number of words assigned to each topic",
        "titlefont": {
         "color": "#151516"
        },
        "xaxis1": {
         "gridcolor": "#F6F6F6",
         "showgrid": true,
         "tickfont": {
          "color": "#666666"
         },
         "title": "<b>Topic</b>",
         "titlefont": {
          "color": "#666666"
         },
         "zerolinecolor": "#F6F6F6"
        },
        "yaxis1": {
         "gridcolor": "#F6F6F6",
         "showgrid": true,
         "tickfont": {
          "color": "#666666"
         },
         "title": "<b>Number of words</b>",
         "titlefont": {
          "color": "#666666"
         },
         "zerolinecolor": "#F6F6F6"
        }
       }
      },
      "text/html": [
       "<div id=\"8de2b0ec-8867-43be-a1ef-67a1c9d7ce32\" style=\"height: 525px; width: 100%;\" class=\"plotly-graph-div\"></div><script type=\"text/javascript\">require([\"plotly\"], function(Plotly) { window.PLOTLYENV=window.PLOTLYENV || {};window.PLOTLYENV.BASE_URL=\"https://plot.ly\";Plotly.newPlot(\"8de2b0ec-8867-43be-a1ef-67a1c9d7ce32\", [{\"type\": \"bar\", \"x\": [\"-???-\", \"-budget-\", \"-congressional terminology+++-\", \"-terrorism & foreign policy-\", \"-honors-\", \"-honors+-\", \"-congressional terminology++-\", \"-secondary education-\", \"-community service-\", \"-entrepreneurship-\", \"-border enforcement-\", \"-health insurance & medicare-\", \"-veterans-\", \"-constitution-\", \"-trade-\", \"-honors++-\", \"-voting rights & democracy-\", \"-energy-\", \"-36-\", \"-forestry-\", \"-congressional terminology+-\", \"-medical research-\", \"-47-\", \"-financial sector-\", \"-worker welfare-\", \"-64-\", \"-african-americans-\", \"-defense-\", \"-congressional terminology-\", \"-65-\", \"-iraq & afghanistan wars-\", \"-child welfare-\", \"-healthcare-\", \"-4-\", \"-law-\", \"-homeland security-\", \"-sports-\", \"-cybersecurity-\", \"-infrastructure & construction-\", \"-agriculture-\", \"-human rights in china-\", \"-natural disasters-\", \"-52-\", \"-puerto rico-\", \"-armenian genocide-\", \"-19-\", \"-african-american history-\", \"-veteran affairs-\", \"-gun safety & abortion-\", \"-33-\", \"-IRS & trafficking-\", \"-military-\", \"-affordable housing-\", \"-41-\", \"-67-\", \"-22-\", \"-69-\", \"-6-\", \"-transportation-\", \"-first names-\", \"-drugs war-\", \"-8-\", \"-46-\", \"-unions-\", \"-25-\", \"-53-\", \"-54-\", \"-nuclear waste-\", \"-india & pakistan-\", \"-tobacco-\", \"-arts-\", \"-66-\", \"-24-\", \"-58-\", \"-73-\"], \"y\": [7093596.5, 5750864.0, 4219850.0, 3758816.25, 3118631.5, 2767509.75, 2577178.5, 2389616.25, 2365409.75, 2228936.75, 2130462.75, 2116021.25, 2047454.0, 1998123.75, 1984244.25, 1949553.5, 1910373.625, 1762647.75, 1742640.5, 1728045.625, 1726828.0, 1701366.375, 1620773.25, 1540611.5, 1506672.375, 1490361.125, 1426540.75, 1417174.375, 1398571.0, 1357369.5, 1298320.875, 1259993.125, 1233088.0, 1118249.875, 1109815.875, 1092060.0, 1084818.875, 1051675.75, 1025722.0625, 990476.375, 948302.875, 931649.875, 899931.125, 898829.125, 888850.375, 865629.9375, 858096.3125, 779725.6875, 711489.25, 695803.25, 692850.5, 682612.875, 668746.0625, 652878.5, 618839.4375, 603302.6875, 556605.9375, 544921.75, 490927.09375, 485268.875, 470370.21875, 454639.09375, 414217.9375, 394606.15625, 362863.59375, 284869.5625, 278822.5, 258861.171875, 224643.09375, 192733.28125, 184591.015625, 173022.53125, 153763.40625, 46823.265625, 44680.23828125], \"name\": \"0\", \"text\": \"\", \"marker\": {\"color\": \"rgba(226, 74, 51, 0.6)\", \"line\": {\"color\": \"rgba(226, 74, 51, 1.0)\", \"width\": 1}}, \"orientation\": \"v\"}], {\"legend\": {\"bgcolor\": \"#FFFFFF\", \"font\": {\"color\": \"#666666\"}}, \"paper_bgcolor\": \"#FFFFFF\", \"plot_bgcolor\": \"#E5E5E5\", \"yaxis1\": {\"tickfont\": {\"color\": \"#666666\"}, \"gridcolor\": \"#F6F6F6\", \"titlefont\": {\"color\": \"#666666\"}, \"zerolinecolor\": \"#F6F6F6\", \"showgrid\": true, \"title\": \"<b>Number of words</b>\"}, \"xaxis1\": {\"tickfont\": {\"color\": \"#666666\"}, \"gridcolor\": \"#F6F6F6\", \"titlefont\": {\"color\": \"#666666\"}, \"zerolinecolor\": \"#F6F6F6\", \"showgrid\": true, \"title\": \"<b>Topic</b>\"}, \"titlefont\": {\"color\": \"#151516\"}, \"title\": \"Total number of words assigned to each topic\", \"margin\": {\"l\": 100, \"r\": 50, \"b\": 150, \"t\": 50}}, {\"showLink\": true, \"linkText\": \"Export to plot.ly\"})});</script>"
      ],
      "text/vnd.plotly.v1+html": [
       "<div id=\"8de2b0ec-8867-43be-a1ef-67a1c9d7ce32\" style=\"height: 525px; width: 100%;\" class=\"plotly-graph-div\"></div><script type=\"text/javascript\">require([\"plotly\"], function(Plotly) { window.PLOTLYENV=window.PLOTLYENV || {};window.PLOTLYENV.BASE_URL=\"https://plot.ly\";Plotly.newPlot(\"8de2b0ec-8867-43be-a1ef-67a1c9d7ce32\", [{\"type\": \"bar\", \"x\": [\"-???-\", \"-budget-\", \"-congressional terminology+++-\", \"-terrorism & foreign policy-\", \"-honors-\", \"-honors+-\", \"-congressional terminology++-\", \"-secondary education-\", \"-community service-\", \"-entrepreneurship-\", \"-border enforcement-\", \"-health insurance & medicare-\", \"-veterans-\", \"-constitution-\", \"-trade-\", \"-honors++-\", \"-voting rights & democracy-\", \"-energy-\", \"-36-\", \"-forestry-\", \"-congressional terminology+-\", \"-medical research-\", \"-47-\", \"-financial sector-\", \"-worker welfare-\", \"-64-\", \"-african-americans-\", \"-defense-\", \"-congressional terminology-\", \"-65-\", \"-iraq & afghanistan wars-\", \"-child welfare-\", \"-healthcare-\", \"-4-\", \"-law-\", \"-homeland security-\", \"-sports-\", \"-cybersecurity-\", \"-infrastructure & construction-\", \"-agriculture-\", \"-human rights in china-\", \"-natural disasters-\", \"-52-\", \"-puerto rico-\", \"-armenian genocide-\", \"-19-\", \"-african-american history-\", \"-veteran affairs-\", \"-gun safety & abortion-\", \"-33-\", \"-IRS & trafficking-\", \"-military-\", \"-affordable housing-\", \"-41-\", \"-67-\", \"-22-\", \"-69-\", \"-6-\", \"-transportation-\", \"-first names-\", \"-drugs war-\", \"-8-\", \"-46-\", \"-unions-\", \"-25-\", \"-53-\", \"-54-\", \"-nuclear waste-\", \"-india & pakistan-\", \"-tobacco-\", \"-arts-\", \"-66-\", \"-24-\", \"-58-\", \"-73-\"], \"y\": [7093596.5, 5750864.0, 4219850.0, 3758816.25, 3118631.5, 2767509.75, 2577178.5, 2389616.25, 2365409.75, 2228936.75, 2130462.75, 2116021.25, 2047454.0, 1998123.75, 1984244.25, 1949553.5, 1910373.625, 1762647.75, 1742640.5, 1728045.625, 1726828.0, 1701366.375, 1620773.25, 1540611.5, 1506672.375, 1490361.125, 1426540.75, 1417174.375, 1398571.0, 1357369.5, 1298320.875, 1259993.125, 1233088.0, 1118249.875, 1109815.875, 1092060.0, 1084818.875, 1051675.75, 1025722.0625, 990476.375, 948302.875, 931649.875, 899931.125, 898829.125, 888850.375, 865629.9375, 858096.3125, 779725.6875, 711489.25, 695803.25, 692850.5, 682612.875, 668746.0625, 652878.5, 618839.4375, 603302.6875, 556605.9375, 544921.75, 490927.09375, 485268.875, 470370.21875, 454639.09375, 414217.9375, 394606.15625, 362863.59375, 284869.5625, 278822.5, 258861.171875, 224643.09375, 192733.28125, 184591.015625, 173022.53125, 153763.40625, 46823.265625, 44680.23828125], \"name\": \"0\", \"text\": \"\", \"marker\": {\"color\": \"rgba(226, 74, 51, 0.6)\", \"line\": {\"color\": \"rgba(226, 74, 51, 1.0)\", \"width\": 1}}, \"orientation\": \"v\"}], {\"legend\": {\"bgcolor\": \"#FFFFFF\", \"font\": {\"color\": \"#666666\"}}, \"paper_bgcolor\": \"#FFFFFF\", \"plot_bgcolor\": \"#E5E5E5\", \"yaxis1\": {\"tickfont\": {\"color\": \"#666666\"}, \"gridcolor\": \"#F6F6F6\", \"titlefont\": {\"color\": \"#666666\"}, \"zerolinecolor\": \"#F6F6F6\", \"showgrid\": true, \"title\": \"<b>Number of words</b>\"}, \"xaxis1\": {\"tickfont\": {\"color\": \"#666666\"}, \"gridcolor\": \"#F6F6F6\", \"titlefont\": {\"color\": \"#666666\"}, \"zerolinecolor\": \"#F6F6F6\", \"showgrid\": true, \"title\": \"<b>Topic</b>\"}, \"titlefont\": {\"color\": \"#151516\"}, \"title\": \"Total number of words assigned to each topic\", \"margin\": {\"l\": 100, \"r\": 50, \"b\": 150, \"t\": 50}}, {\"showLink\": true, \"linkText\": \"Export to plot.ly\"})});</script>"
      ]
     },
     "metadata": {},
     "output_type": "display_data"
    }
   ],
   "source": [
    "import cufflinks\n",
    "import plotly\n",
    "\n",
    "cufflinks.set_config_file(theme=\"ggplot\")\n",
    "# Plot most popular topics discussed\n",
    "# list(topic_names_100.keys())\n",
    "a = speeches[list(range(75))].mul(speeches[\"n_words\"], axis=0).sum().sort_values(ascending=False).reset_index()\n",
    "a[\"index\"] = a[\"index\"].apply(lambda x: \"-\" + str(topic_dict(x)) + \"-\")\n",
    "a.set_index(\"index\")[0].iplot(kind=\"bar\",\n",
    "                              xTitle=\"<b>Topic</b>\",\n",
    "                              yTitle=\"<b>Number of words</b>\",\n",
    "                              title=\"Total number of words assigned to each topic\",\n",
    "                              margin=(100,50,150,50))"
   ]
  },
  {
   "cell_type": "code",
   "execution_count": 155,
   "metadata": {
    "collapsed": false,
    "deletable": true,
    "editable": true,
    "nbpresent": {
     "id": "0aa90464-c6e2-42b2-984b-1020f0de5e72"
    }
   },
   "outputs": [
    {
     "name": "stdout",
     "output_type": "stream",
     "text": [
      "date                                       1996-03-28 00:00:00\n",
      "doc_title    CONFERENCE REPORT ON H.R. 2854, FEDERAL AGRICU...\n",
      "speaker                              Mr. TAYLOR of Mississippi\n",
      "Name: 246268, dtype: object \n",
      "\n",
      "   Mr. TAYLOR of Mississippi. Mr. Speaker, gentlemen and ladies, last \n",
      "year, during the welfare debate, I heard speaker after speaker come to \n",
      "this floor and say that we had to end the practice of paying people to \n",
      "do nothing, that we should no longer pay people not to work.\n",
      "\n",
      "\n",
      "  Something remarkable happened that day. Every single Member of this \n",
      "body voted to no longer pay people for not working. Many of us \n",
      "supported the coalition plan, the rest of the folks supported the \n",
      "Republican plan, but everyone supported at least one plan that would \n",
      "stop paying people for doing nothing. And it was remarkable, and it was \n",
      "a good thing.\n",
      "  Unfortunately, in this bill there is a plan to pay people up to \n",
      "$80,000 a year per individual for 7 years to do nothing. You do not \n",
      "have to plant a crop, you do not have to work a field, you do not have \n",
      "to work fences, you do not have to start the tractor, you do not have \n",
      "to do anything. You do not even have to try to farm, and you get \n",
      "$80,000 a year.\n",
      "  Earlier today this body by a majority voted to raise the debt limit \n",
      "up to $5.5 trillion. We are spending $2 million every 4 minutes on \n",
      "interest on the national debt. Where do we stop?\n",
      "  I am not going to criticize the whole bill, but I can tell you, \n",
      "freedom to farm is a bad idea, because you can never wean people off \n",
      "Government dependence by paying them to do nothing, whether they are a \n",
      "welfare mother or whether they are a father who happens to be a farmer. \n",
      "It does not work. It does not work with welfare, and it will not work \n",
      "with farming.\n",
      "  Please vote against this bill.   Mr. TAYLOR of Mississippi. I yield to the gentleman from Missouri.   Mr. TAYLOR of Mississippi. Mr. Speaker, reclaiming my time, the new \n",
      "majority came to town promising to balance the budget, and yet this \n",
      "year's budget according to the Congressional Budget Office, will spend \n",
      "$270 billion more than we collect in taxes. If we can cut out anything, \n",
      "let us start with a program that pays people up to $80,000 a year not \n",
      "to go to work. Please vote against this bill.\n"
     ]
    }
   ],
   "source": [
    "topic_id = reverse_topic_dict[\"budget\"]\n",
    "a = speeches[speeches[topic_id] > 0.6][[\"n_words\", \"speaker\", \"doc_title\", topic_id]].sort_values(topic_id, ascending=False)\n",
    "a[\"n_topic_words\"] = a[\"n_words\"] * a[topic_id]\n",
    "speech_index = a.sort_values(\"n_topic_words\", ascending=False).query(\"n_topic_words > 50 & n_topic_words < 100\").sort_values(\"n_words\", ascending=False).sample(1).index[0]\n",
    "print(speeches.iloc[speech_index][[\"date\", \"doc_title\", \"speaker\"]], \"\\n\\n\", zspeeches[speech_index])"
   ]
  },
  {
   "cell_type": "markdown",
   "metadata": {
    "deletable": true,
    "editable": true,
    "nbpresent": {
     "id": "a39b37cf-ee7c-45aa-a8ea-865dd01d00b2"
    }
   },
   "source": [
    "#### Select only the topics that are interesting to us"
   ]
  },
  {
   "cell_type": "code",
   "execution_count": 78,
   "metadata": {
    "collapsed": true,
    "deletable": true,
    "editable": true,
    "nbpresent": {
     "id": "6ce3e492-ac07-4baf-bb48-a9702337ce21"
    }
   },
   "outputs": [],
   "source": [
    "# List of specific topics to index for graphing\n",
    "topics_to_graph = list(topic_names.values())"
   ]
  },
  {
   "cell_type": "markdown",
   "metadata": {
    "deletable": true,
    "editable": true,
    "nbpresent": {
     "id": "b4337786-da62-46a7-a707-6bbbe2b0d230"
    }
   },
   "source": [
    "#### Sum up the total number of words an MP has said about a topic"
   ]
  },
  {
   "cell_type": "code",
   "execution_count": 79,
   "metadata": {
    "collapsed": true,
    "deletable": true,
    "editable": true,
    "nbpresent": {
     "id": "0f0e7260-aad7-40a6-84ef-090559689f19"
    }
   },
   "outputs": [],
   "source": [
    "def get_mp_topic_fraction(df):\n",
    "    # Mutates speech data frame from wide to long format with a row for each speech's topic probability\n",
    "    # then sums up by topic\n",
    "    return df.melt(id_vars=[\"speaker\", \"speaker_bioguide\", \"date\", \"n_words\"],\n",
    "          value_vars=list(range(75)), var_name=\"topic_id\")\\\n",
    "    .assign(n_topic_words = lambda x: x.n_words*x.value)\\\n",
    "    .groupby([\"topic_id\"])\\\n",
    "    [\"n_topic_words\"].sum()\n",
    "\n",
    "mp_topics = speeches.groupby(\"speaker_bioguide\").apply(get_mp_topic_fraction)"
   ]
  },
  {
   "cell_type": "code",
   "execution_count": 80,
   "metadata": {
    "collapsed": false,
    "deletable": true,
    "editable": true,
    "nbpresent": {
     "id": "96d628c9-83a7-4ce2-8a41-388649dcbc64"
    },
    "scrolled": true
   },
   "outputs": [
    {
     "data": {
      "text/html": [
       "<div>\n",
       "<style scoped>\n",
       "    .dataframe tbody tr th:only-of-type {\n",
       "        vertical-align: middle;\n",
       "    }\n",
       "\n",
       "    .dataframe tbody tr th {\n",
       "        vertical-align: top;\n",
       "    }\n",
       "\n",
       "    .dataframe thead th {\n",
       "        text-align: right;\n",
       "    }\n",
       "</style>\n",
       "<table border=\"1\" class=\"dataframe\">\n",
       "  <thead>\n",
       "    <tr style=\"text-align: right;\">\n",
       "      <th>topic_id</th>\n",
       "      <th>0</th>\n",
       "      <th>1</th>\n",
       "      <th>2</th>\n",
       "      <th>3</th>\n",
       "      <th>4</th>\n",
       "      <th>5</th>\n",
       "      <th>6</th>\n",
       "      <th>7</th>\n",
       "      <th>8</th>\n",
       "      <th>9</th>\n",
       "      <th>...</th>\n",
       "      <th>65</th>\n",
       "      <th>66</th>\n",
       "      <th>67</th>\n",
       "      <th>68</th>\n",
       "      <th>69</th>\n",
       "      <th>70</th>\n",
       "      <th>71</th>\n",
       "      <th>72</th>\n",
       "      <th>73</th>\n",
       "      <th>74</th>\n",
       "    </tr>\n",
       "    <tr>\n",
       "      <th>speaker_bioguide</th>\n",
       "      <th></th>\n",
       "      <th></th>\n",
       "      <th></th>\n",
       "      <th></th>\n",
       "      <th></th>\n",
       "      <th></th>\n",
       "      <th></th>\n",
       "      <th></th>\n",
       "      <th></th>\n",
       "      <th></th>\n",
       "      <th></th>\n",
       "      <th></th>\n",
       "      <th></th>\n",
       "      <th></th>\n",
       "      <th></th>\n",
       "      <th></th>\n",
       "      <th></th>\n",
       "      <th></th>\n",
       "      <th></th>\n",
       "      <th></th>\n",
       "      <th></th>\n",
       "    </tr>\n",
       "  </thead>\n",
       "  <tbody>\n",
       "    <tr>\n",
       "      <th>A000014</th>\n",
       "      <td>1348.919434</td>\n",
       "      <td>3516.661621</td>\n",
       "      <td>1574.261597</td>\n",
       "      <td>960.937378</td>\n",
       "      <td>1431.689575</td>\n",
       "      <td>770.114197</td>\n",
       "      <td>658.549194</td>\n",
       "      <td>371.025208</td>\n",
       "      <td>5241.501465</td>\n",
       "      <td>4200.224121</td>\n",
       "      <td>...</td>\n",
       "      <td>821.387756</td>\n",
       "      <td>56.135895</td>\n",
       "      <td>2035.946289</td>\n",
       "      <td>1119.199829</td>\n",
       "      <td>1800.544189</td>\n",
       "      <td>7739.689941</td>\n",
       "      <td>5272.338867</td>\n",
       "      <td>2520.580811</td>\n",
       "      <td>27.163864</td>\n",
       "      <td>834.686523</td>\n",
       "    </tr>\n",
       "    <tr>\n",
       "      <th>A000022</th>\n",
       "      <td>549.084473</td>\n",
       "      <td>2261.854004</td>\n",
       "      <td>1489.754150</td>\n",
       "      <td>272.324677</td>\n",
       "      <td>2325.843750</td>\n",
       "      <td>512.709534</td>\n",
       "      <td>191.480896</td>\n",
       "      <td>1331.155273</td>\n",
       "      <td>184.813965</td>\n",
       "      <td>822.239502</td>\n",
       "      <td>...</td>\n",
       "      <td>1480.219727</td>\n",
       "      <td>137.944336</td>\n",
       "      <td>805.677734</td>\n",
       "      <td>583.712646</td>\n",
       "      <td>603.167603</td>\n",
       "      <td>14340.167969</td>\n",
       "      <td>764.299133</td>\n",
       "      <td>1462.430542</td>\n",
       "      <td>49.419128</td>\n",
       "      <td>1172.055908</td>\n",
       "    </tr>\n",
       "    <tr>\n",
       "      <th>A000055</th>\n",
       "      <td>473.051117</td>\n",
       "      <td>2013.320801</td>\n",
       "      <td>648.001587</td>\n",
       "      <td>240.729568</td>\n",
       "      <td>299.441376</td>\n",
       "      <td>7634.675293</td>\n",
       "      <td>85.422455</td>\n",
       "      <td>1161.929077</td>\n",
       "      <td>300.401733</td>\n",
       "      <td>159.330505</td>\n",
       "      <td>...</td>\n",
       "      <td>2174.373047</td>\n",
       "      <td>1515.252441</td>\n",
       "      <td>142.782288</td>\n",
       "      <td>622.378418</td>\n",
       "      <td>75.604599</td>\n",
       "      <td>1083.712524</td>\n",
       "      <td>4425.603027</td>\n",
       "      <td>600.046814</td>\n",
       "      <td>52.791573</td>\n",
       "      <td>2035.535767</td>\n",
       "    </tr>\n",
       "    <tr>\n",
       "      <th>A000069</th>\n",
       "      <td>54.254456</td>\n",
       "      <td>17.676941</td>\n",
       "      <td>0.000000</td>\n",
       "      <td>12.112305</td>\n",
       "      <td>0.000000</td>\n",
       "      <td>200.768921</td>\n",
       "      <td>23.621399</td>\n",
       "      <td>4.215576</td>\n",
       "      <td>58.201477</td>\n",
       "      <td>12.624329</td>\n",
       "      <td>...</td>\n",
       "      <td>0.000000</td>\n",
       "      <td>0.000000</td>\n",
       "      <td>62.314148</td>\n",
       "      <td>23.395264</td>\n",
       "      <td>112.716583</td>\n",
       "      <td>0.000000</td>\n",
       "      <td>3.771667</td>\n",
       "      <td>11.935303</td>\n",
       "      <td>0.000000</td>\n",
       "      <td>420.172638</td>\n",
       "    </tr>\n",
       "    <tr>\n",
       "      <th>A000109</th>\n",
       "      <td>268.632751</td>\n",
       "      <td>1254.077271</td>\n",
       "      <td>95.525467</td>\n",
       "      <td>327.239685</td>\n",
       "      <td>461.132416</td>\n",
       "      <td>371.682953</td>\n",
       "      <td>319.462219</td>\n",
       "      <td>39.296143</td>\n",
       "      <td>43.559891</td>\n",
       "      <td>4.292664</td>\n",
       "      <td>...</td>\n",
       "      <td>1253.828857</td>\n",
       "      <td>11.231583</td>\n",
       "      <td>329.925354</td>\n",
       "      <td>163.146988</td>\n",
       "      <td>102.852066</td>\n",
       "      <td>201.411575</td>\n",
       "      <td>155.494446</td>\n",
       "      <td>206.628189</td>\n",
       "      <td>5.327393</td>\n",
       "      <td>14.449654</td>\n",
       "    </tr>\n",
       "    <tr>\n",
       "      <th>A000209</th>\n",
       "      <td>203.453522</td>\n",
       "      <td>218.107361</td>\n",
       "      <td>636.802612</td>\n",
       "      <td>72.133118</td>\n",
       "      <td>6.336823</td>\n",
       "      <td>105.006683</td>\n",
       "      <td>34.176025</td>\n",
       "      <td>17.949081</td>\n",
       "      <td>8.865509</td>\n",
       "      <td>0.000000</td>\n",
       "      <td>...</td>\n",
       "      <td>408.051941</td>\n",
       "      <td>0.000000</td>\n",
       "      <td>146.228943</td>\n",
       "      <td>87.068542</td>\n",
       "      <td>182.525024</td>\n",
       "      <td>198.935562</td>\n",
       "      <td>42.745476</td>\n",
       "      <td>12.169846</td>\n",
       "      <td>0.000000</td>\n",
       "      <td>0.000000</td>\n",
       "    </tr>\n",
       "    <tr>\n",
       "      <th>A000210</th>\n",
       "      <td>1997.141235</td>\n",
       "      <td>5145.391602</td>\n",
       "      <td>837.425476</td>\n",
       "      <td>654.209656</td>\n",
       "      <td>1477.536621</td>\n",
       "      <td>1050.253784</td>\n",
       "      <td>584.353699</td>\n",
       "      <td>1874.694946</td>\n",
       "      <td>383.456543</td>\n",
       "      <td>1671.144897</td>\n",
       "      <td>...</td>\n",
       "      <td>1340.070679</td>\n",
       "      <td>164.425873</td>\n",
       "      <td>1017.445618</td>\n",
       "      <td>2399.590332</td>\n",
       "      <td>2047.261963</td>\n",
       "      <td>10635.322266</td>\n",
       "      <td>2567.461182</td>\n",
       "      <td>2045.397461</td>\n",
       "      <td>36.405762</td>\n",
       "      <td>1308.222046</td>\n",
       "    </tr>\n",
       "    <tr>\n",
       "      <th>A000211</th>\n",
       "      <td>3.638916</td>\n",
       "      <td>75.020691</td>\n",
       "      <td>38.297852</td>\n",
       "      <td>10.994629</td>\n",
       "      <td>0.000000</td>\n",
       "      <td>21.591644</td>\n",
       "      <td>51.110840</td>\n",
       "      <td>0.000000</td>\n",
       "      <td>20.898438</td>\n",
       "      <td>9.308350</td>\n",
       "      <td>...</td>\n",
       "      <td>93.535278</td>\n",
       "      <td>0.000000</td>\n",
       "      <td>15.444580</td>\n",
       "      <td>0.000000</td>\n",
       "      <td>8.233032</td>\n",
       "      <td>75.140625</td>\n",
       "      <td>441.670898</td>\n",
       "      <td>59.048004</td>\n",
       "      <td>0.000000</td>\n",
       "      <td>0.000000</td>\n",
       "    </tr>\n",
       "    <tr>\n",
       "      <th>A000214</th>\n",
       "      <td>6.166443</td>\n",
       "      <td>26.720123</td>\n",
       "      <td>15.448792</td>\n",
       "      <td>16.447266</td>\n",
       "      <td>31.677429</td>\n",
       "      <td>176.128662</td>\n",
       "      <td>0.000000</td>\n",
       "      <td>144.582031</td>\n",
       "      <td>8.427246</td>\n",
       "      <td>0.000000</td>\n",
       "      <td>...</td>\n",
       "      <td>114.426514</td>\n",
       "      <td>6.094849</td>\n",
       "      <td>2.192871</td>\n",
       "      <td>414.131836</td>\n",
       "      <td>10.377441</td>\n",
       "      <td>0.000000</td>\n",
       "      <td>10.651520</td>\n",
       "      <td>64.468018</td>\n",
       "      <td>1.281006</td>\n",
       "      <td>0.000000</td>\n",
       "    </tr>\n",
       "    <tr>\n",
       "      <th>A000215</th>\n",
       "      <td>729.942932</td>\n",
       "      <td>803.303833</td>\n",
       "      <td>205.957642</td>\n",
       "      <td>581.281433</td>\n",
       "      <td>1472.128662</td>\n",
       "      <td>323.189026</td>\n",
       "      <td>108.361801</td>\n",
       "      <td>0.000000</td>\n",
       "      <td>86.480713</td>\n",
       "      <td>156.961853</td>\n",
       "      <td>...</td>\n",
       "      <td>296.735291</td>\n",
       "      <td>36.000641</td>\n",
       "      <td>108.402008</td>\n",
       "      <td>178.953857</td>\n",
       "      <td>198.646622</td>\n",
       "      <td>290.439880</td>\n",
       "      <td>198.783386</td>\n",
       "      <td>403.430023</td>\n",
       "      <td>2.393890</td>\n",
       "      <td>277.702087</td>\n",
       "    </tr>\n",
       "    <tr>\n",
       "      <th>A000217</th>\n",
       "      <td>679.615051</td>\n",
       "      <td>2383.434570</td>\n",
       "      <td>734.161987</td>\n",
       "      <td>282.471497</td>\n",
       "      <td>1174.599243</td>\n",
       "      <td>513.852051</td>\n",
       "      <td>120.901482</td>\n",
       "      <td>217.419357</td>\n",
       "      <td>251.023285</td>\n",
       "      <td>147.348236</td>\n",
       "      <td>...</td>\n",
       "      <td>316.721619</td>\n",
       "      <td>453.643250</td>\n",
       "      <td>89.509705</td>\n",
       "      <td>640.115479</td>\n",
       "      <td>930.740540</td>\n",
       "      <td>1103.534180</td>\n",
       "      <td>558.158630</td>\n",
       "      <td>1861.108032</td>\n",
       "      <td>14.071159</td>\n",
       "      <td>841.936157</td>\n",
       "    </tr>\n",
       "    <tr>\n",
       "      <th>A000357</th>\n",
       "      <td>1382.163208</td>\n",
       "      <td>1409.427612</td>\n",
       "      <td>258.654266</td>\n",
       "      <td>467.465118</td>\n",
       "      <td>323.516632</td>\n",
       "      <td>468.485901</td>\n",
       "      <td>2460.035156</td>\n",
       "      <td>87.260071</td>\n",
       "      <td>225.416199</td>\n",
       "      <td>334.357727</td>\n",
       "      <td>...</td>\n",
       "      <td>1210.641235</td>\n",
       "      <td>63.446457</td>\n",
       "      <td>189.879913</td>\n",
       "      <td>322.152100</td>\n",
       "      <td>217.110794</td>\n",
       "      <td>1701.245605</td>\n",
       "      <td>2717.270020</td>\n",
       "      <td>4280.462891</td>\n",
       "      <td>8.188858</td>\n",
       "      <td>290.072418</td>\n",
       "    </tr>\n",
       "    <tr>\n",
       "      <th>A000358</th>\n",
       "      <td>856.800598</td>\n",
       "      <td>4461.259766</td>\n",
       "      <td>1383.512939</td>\n",
       "      <td>593.936829</td>\n",
       "      <td>412.041260</td>\n",
       "      <td>1991.533691</td>\n",
       "      <td>158.080933</td>\n",
       "      <td>928.207275</td>\n",
       "      <td>78.554352</td>\n",
       "      <td>417.628540</td>\n",
       "      <td>...</td>\n",
       "      <td>572.762451</td>\n",
       "      <td>38.363457</td>\n",
       "      <td>438.453949</td>\n",
       "      <td>628.758057</td>\n",
       "      <td>295.681641</td>\n",
       "      <td>1509.580078</td>\n",
       "      <td>4324.243652</td>\n",
       "      <td>675.252502</td>\n",
       "      <td>43.641907</td>\n",
       "      <td>136.673691</td>\n",
       "    </tr>\n",
       "    <tr>\n",
       "      <th>A000359</th>\n",
       "      <td>178.639862</td>\n",
       "      <td>251.916199</td>\n",
       "      <td>49.813087</td>\n",
       "      <td>53.293274</td>\n",
       "      <td>131.061432</td>\n",
       "      <td>326.321350</td>\n",
       "      <td>66.334869</td>\n",
       "      <td>36.984619</td>\n",
       "      <td>63.019562</td>\n",
       "      <td>283.475342</td>\n",
       "      <td>...</td>\n",
       "      <td>387.659241</td>\n",
       "      <td>4.836182</td>\n",
       "      <td>171.162155</td>\n",
       "      <td>65.226074</td>\n",
       "      <td>50.260254</td>\n",
       "      <td>92.657562</td>\n",
       "      <td>411.083069</td>\n",
       "      <td>267.808380</td>\n",
       "      <td>1.571182</td>\n",
       "      <td>105.562134</td>\n",
       "    </tr>\n",
       "    <tr>\n",
       "      <th>A000361</th>\n",
       "      <td>332.725861</td>\n",
       "      <td>81.616302</td>\n",
       "      <td>242.676300</td>\n",
       "      <td>28.599304</td>\n",
       "      <td>82.260323</td>\n",
       "      <td>2131.521973</td>\n",
       "      <td>759.848938</td>\n",
       "      <td>1355.725098</td>\n",
       "      <td>61.186516</td>\n",
       "      <td>156.180969</td>\n",
       "      <td>...</td>\n",
       "      <td>990.335938</td>\n",
       "      <td>10.972397</td>\n",
       "      <td>108.481842</td>\n",
       "      <td>57.084549</td>\n",
       "      <td>2.927887</td>\n",
       "      <td>33.689209</td>\n",
       "      <td>348.888275</td>\n",
       "      <td>24.733444</td>\n",
       "      <td>6.580574</td>\n",
       "      <td>168.816589</td>\n",
       "    </tr>\n",
       "    <tr>\n",
       "      <th>A000362</th>\n",
       "      <td>1012.898499</td>\n",
       "      <td>302.626190</td>\n",
       "      <td>271.672028</td>\n",
       "      <td>227.559204</td>\n",
       "      <td>441.070312</td>\n",
       "      <td>674.623901</td>\n",
       "      <td>75.367073</td>\n",
       "      <td>458.282959</td>\n",
       "      <td>176.367188</td>\n",
       "      <td>894.541016</td>\n",
       "      <td>...</td>\n",
       "      <td>410.194519</td>\n",
       "      <td>61.405899</td>\n",
       "      <td>106.716141</td>\n",
       "      <td>55.047623</td>\n",
       "      <td>70.998192</td>\n",
       "      <td>225.716660</td>\n",
       "      <td>162.076630</td>\n",
       "      <td>408.117798</td>\n",
       "      <td>11.358353</td>\n",
       "      <td>600.416321</td>\n",
       "    </tr>\n",
       "    <tr>\n",
       "      <th>A000363</th>\n",
       "      <td>204.192657</td>\n",
       "      <td>919.468750</td>\n",
       "      <td>100.191589</td>\n",
       "      <td>124.016846</td>\n",
       "      <td>799.130432</td>\n",
       "      <td>538.619263</td>\n",
       "      <td>70.935928</td>\n",
       "      <td>394.532562</td>\n",
       "      <td>223.891022</td>\n",
       "      <td>217.797791</td>\n",
       "      <td>...</td>\n",
       "      <td>1853.672485</td>\n",
       "      <td>238.160034</td>\n",
       "      <td>137.325821</td>\n",
       "      <td>448.674438</td>\n",
       "      <td>38.234001</td>\n",
       "      <td>236.973099</td>\n",
       "      <td>612.835754</td>\n",
       "      <td>499.107788</td>\n",
       "      <td>3.133698</td>\n",
       "      <td>1062.118286</td>\n",
       "    </tr>\n",
       "    <tr>\n",
       "      <th>A000364</th>\n",
       "      <td>31.235229</td>\n",
       "      <td>20.362854</td>\n",
       "      <td>11.280212</td>\n",
       "      <td>30.720322</td>\n",
       "      <td>223.909332</td>\n",
       "      <td>59.863678</td>\n",
       "      <td>29.205437</td>\n",
       "      <td>140.526611</td>\n",
       "      <td>48.734299</td>\n",
       "      <td>132.239197</td>\n",
       "      <td>...</td>\n",
       "      <td>9.738632</td>\n",
       "      <td>4.101715</td>\n",
       "      <td>40.123352</td>\n",
       "      <td>85.090546</td>\n",
       "      <td>0.000000</td>\n",
       "      <td>9.459229</td>\n",
       "      <td>19.824036</td>\n",
       "      <td>0.000000</td>\n",
       "      <td>0.000000</td>\n",
       "      <td>0.000000</td>\n",
       "    </tr>\n",
       "    <tr>\n",
       "      <th>A000365</th>\n",
       "      <td>78.992798</td>\n",
       "      <td>87.113655</td>\n",
       "      <td>111.269508</td>\n",
       "      <td>0.000000</td>\n",
       "      <td>13.113281</td>\n",
       "      <td>49.797806</td>\n",
       "      <td>58.715050</td>\n",
       "      <td>174.900665</td>\n",
       "      <td>78.404610</td>\n",
       "      <td>236.508667</td>\n",
       "      <td>...</td>\n",
       "      <td>142.381256</td>\n",
       "      <td>38.343872</td>\n",
       "      <td>88.752396</td>\n",
       "      <td>138.124146</td>\n",
       "      <td>1.581558</td>\n",
       "      <td>62.787109</td>\n",
       "      <td>393.942444</td>\n",
       "      <td>40.920715</td>\n",
       "      <td>0.000000</td>\n",
       "      <td>114.621979</td>\n",
       "    </tr>\n",
       "    <tr>\n",
       "      <th>A000366</th>\n",
       "      <td>8.304947</td>\n",
       "      <td>30.959839</td>\n",
       "      <td>35.560608</td>\n",
       "      <td>17.728699</td>\n",
       "      <td>53.203369</td>\n",
       "      <td>101.438477</td>\n",
       "      <td>47.343445</td>\n",
       "      <td>18.523590</td>\n",
       "      <td>3.993530</td>\n",
       "      <td>1.422501</td>\n",
       "      <td>...</td>\n",
       "      <td>45.536438</td>\n",
       "      <td>0.000000</td>\n",
       "      <td>11.555664</td>\n",
       "      <td>84.904556</td>\n",
       "      <td>16.007019</td>\n",
       "      <td>197.118164</td>\n",
       "      <td>39.609558</td>\n",
       "      <td>90.768555</td>\n",
       "      <td>16.087402</td>\n",
       "      <td>36.020447</td>\n",
       "    </tr>\n",
       "    <tr>\n",
       "      <th>A000367</th>\n",
       "      <td>0.000000</td>\n",
       "      <td>723.118652</td>\n",
       "      <td>5.742188</td>\n",
       "      <td>16.749390</td>\n",
       "      <td>4.711884</td>\n",
       "      <td>66.871582</td>\n",
       "      <td>17.557983</td>\n",
       "      <td>18.313477</td>\n",
       "      <td>10.360718</td>\n",
       "      <td>42.130112</td>\n",
       "      <td>...</td>\n",
       "      <td>42.273193</td>\n",
       "      <td>0.000000</td>\n",
       "      <td>0.000000</td>\n",
       "      <td>40.775970</td>\n",
       "      <td>0.000000</td>\n",
       "      <td>80.562744</td>\n",
       "      <td>51.716553</td>\n",
       "      <td>39.260132</td>\n",
       "      <td>0.000000</td>\n",
       "      <td>44.011963</td>\n",
       "    </tr>\n",
       "    <tr>\n",
       "      <th>A000369</th>\n",
       "      <td>185.434052</td>\n",
       "      <td>137.442108</td>\n",
       "      <td>66.859177</td>\n",
       "      <td>4.708099</td>\n",
       "      <td>72.712952</td>\n",
       "      <td>92.125900</td>\n",
       "      <td>31.919464</td>\n",
       "      <td>62.647552</td>\n",
       "      <td>76.825470</td>\n",
       "      <td>7.530762</td>\n",
       "      <td>...</td>\n",
       "      <td>226.157532</td>\n",
       "      <td>1.248093</td>\n",
       "      <td>129.904404</td>\n",
       "      <td>17.843994</td>\n",
       "      <td>19.785347</td>\n",
       "      <td>0.000000</td>\n",
       "      <td>57.643341</td>\n",
       "      <td>50.893890</td>\n",
       "      <td>3.270248</td>\n",
       "      <td>82.769867</td>\n",
       "    </tr>\n",
       "    <tr>\n",
       "      <th>A000370</th>\n",
       "      <td>215.919586</td>\n",
       "      <td>454.756836</td>\n",
       "      <td>101.234863</td>\n",
       "      <td>123.407684</td>\n",
       "      <td>53.254486</td>\n",
       "      <td>79.057312</td>\n",
       "      <td>143.194138</td>\n",
       "      <td>788.195190</td>\n",
       "      <td>44.578758</td>\n",
       "      <td>23.072731</td>\n",
       "      <td>...</td>\n",
       "      <td>83.687408</td>\n",
       "      <td>13.830719</td>\n",
       "      <td>1.317673</td>\n",
       "      <td>75.885521</td>\n",
       "      <td>16.977905</td>\n",
       "      <td>87.528229</td>\n",
       "      <td>2.490860</td>\n",
       "      <td>385.391022</td>\n",
       "      <td>6.425674</td>\n",
       "      <td>61.904114</td>\n",
       "    </tr>\n",
       "    <tr>\n",
       "      <th>A000371</th>\n",
       "      <td>56.106628</td>\n",
       "      <td>5.346924</td>\n",
       "      <td>1.068512</td>\n",
       "      <td>6.662582</td>\n",
       "      <td>22.651062</td>\n",
       "      <td>131.494263</td>\n",
       "      <td>12.323624</td>\n",
       "      <td>358.835175</td>\n",
       "      <td>12.681976</td>\n",
       "      <td>137.991821</td>\n",
       "      <td>...</td>\n",
       "      <td>173.796677</td>\n",
       "      <td>13.381348</td>\n",
       "      <td>7.614197</td>\n",
       "      <td>50.850464</td>\n",
       "      <td>10.475586</td>\n",
       "      <td>18.073242</td>\n",
       "      <td>58.354980</td>\n",
       "      <td>264.834473</td>\n",
       "      <td>0.000000</td>\n",
       "      <td>162.095444</td>\n",
       "    </tr>\n",
       "    <tr>\n",
       "      <th>A000372</th>\n",
       "      <td>128.211960</td>\n",
       "      <td>741.137207</td>\n",
       "      <td>37.310425</td>\n",
       "      <td>115.590515</td>\n",
       "      <td>66.532440</td>\n",
       "      <td>104.003006</td>\n",
       "      <td>76.865479</td>\n",
       "      <td>42.996841</td>\n",
       "      <td>11.010132</td>\n",
       "      <td>134.025452</td>\n",
       "      <td>...</td>\n",
       "      <td>66.544373</td>\n",
       "      <td>94.108963</td>\n",
       "      <td>4.536285</td>\n",
       "      <td>48.222595</td>\n",
       "      <td>61.818848</td>\n",
       "      <td>329.122009</td>\n",
       "      <td>147.124084</td>\n",
       "      <td>254.101654</td>\n",
       "      <td>8.962250</td>\n",
       "      <td>60.555298</td>\n",
       "    </tr>\n",
       "    <tr>\n",
       "      <th>A000373</th>\n",
       "      <td>79.906677</td>\n",
       "      <td>28.200653</td>\n",
       "      <td>6.902679</td>\n",
       "      <td>0.000000</td>\n",
       "      <td>9.217125</td>\n",
       "      <td>55.393227</td>\n",
       "      <td>0.000000</td>\n",
       "      <td>100.071640</td>\n",
       "      <td>16.906815</td>\n",
       "      <td>54.662872</td>\n",
       "      <td>...</td>\n",
       "      <td>74.271240</td>\n",
       "      <td>16.272766</td>\n",
       "      <td>326.679504</td>\n",
       "      <td>6.204651</td>\n",
       "      <td>0.000000</td>\n",
       "      <td>99.330811</td>\n",
       "      <td>33.386719</td>\n",
       "      <td>223.276703</td>\n",
       "      <td>4.240860</td>\n",
       "      <td>18.822601</td>\n",
       "    </tr>\n",
       "    <tr>\n",
       "      <th>A000374</th>\n",
       "      <td>119.146210</td>\n",
       "      <td>123.181580</td>\n",
       "      <td>20.132996</td>\n",
       "      <td>23.049316</td>\n",
       "      <td>278.411163</td>\n",
       "      <td>177.683472</td>\n",
       "      <td>134.053253</td>\n",
       "      <td>188.301514</td>\n",
       "      <td>376.566589</td>\n",
       "      <td>118.784332</td>\n",
       "      <td>...</td>\n",
       "      <td>46.528778</td>\n",
       "      <td>8.991882</td>\n",
       "      <td>52.589233</td>\n",
       "      <td>5.699417</td>\n",
       "      <td>5.185303</td>\n",
       "      <td>153.570312</td>\n",
       "      <td>340.110107</td>\n",
       "      <td>18.996216</td>\n",
       "      <td>1.423584</td>\n",
       "      <td>658.655640</td>\n",
       "    </tr>\n",
       "    <tr>\n",
       "      <th>A000375</th>\n",
       "      <td>198.421356</td>\n",
       "      <td>169.792938</td>\n",
       "      <td>39.805389</td>\n",
       "      <td>55.408875</td>\n",
       "      <td>4.700470</td>\n",
       "      <td>27.063187</td>\n",
       "      <td>14.185783</td>\n",
       "      <td>17.737473</td>\n",
       "      <td>27.543823</td>\n",
       "      <td>63.245209</td>\n",
       "      <td>...</td>\n",
       "      <td>85.131714</td>\n",
       "      <td>2.556610</td>\n",
       "      <td>16.499985</td>\n",
       "      <td>0.000000</td>\n",
       "      <td>1.688599</td>\n",
       "      <td>95.967529</td>\n",
       "      <td>110.056870</td>\n",
       "      <td>217.555511</td>\n",
       "      <td>0.000000</td>\n",
       "      <td>33.216156</td>\n",
       "    </tr>\n",
       "    <tr>\n",
       "      <th>B000008</th>\n",
       "      <td>0.000000</td>\n",
       "      <td>0.000000</td>\n",
       "      <td>11.144188</td>\n",
       "      <td>6.581726</td>\n",
       "      <td>6.841736</td>\n",
       "      <td>55.712570</td>\n",
       "      <td>14.702759</td>\n",
       "      <td>0.000000</td>\n",
       "      <td>2.534866</td>\n",
       "      <td>0.000000</td>\n",
       "      <td>...</td>\n",
       "      <td>64.848755</td>\n",
       "      <td>0.000000</td>\n",
       "      <td>0.000000</td>\n",
       "      <td>11.990128</td>\n",
       "      <td>20.234375</td>\n",
       "      <td>39.213135</td>\n",
       "      <td>20.188980</td>\n",
       "      <td>43.359192</td>\n",
       "      <td>0.000000</td>\n",
       "      <td>16.018311</td>\n",
       "    </tr>\n",
       "    <tr>\n",
       "      <th>B000013</th>\n",
       "      <td>690.822083</td>\n",
       "      <td>2779.792480</td>\n",
       "      <td>442.464050</td>\n",
       "      <td>1570.411133</td>\n",
       "      <td>1772.660156</td>\n",
       "      <td>3286.399902</td>\n",
       "      <td>396.679626</td>\n",
       "      <td>1209.594360</td>\n",
       "      <td>719.520447</td>\n",
       "      <td>319.534454</td>\n",
       "      <td>...</td>\n",
       "      <td>2624.550049</td>\n",
       "      <td>1757.248901</td>\n",
       "      <td>330.780334</td>\n",
       "      <td>1588.509399</td>\n",
       "      <td>466.922729</td>\n",
       "      <td>1471.059326</td>\n",
       "      <td>771.699951</td>\n",
       "      <td>666.977051</td>\n",
       "      <td>126.100952</td>\n",
       "      <td>1264.090088</td>\n",
       "    </tr>\n",
       "    <tr>\n",
       "      <th>...</th>\n",
       "      <td>...</td>\n",
       "      <td>...</td>\n",
       "      <td>...</td>\n",
       "      <td>...</td>\n",
       "      <td>...</td>\n",
       "      <td>...</td>\n",
       "      <td>...</td>\n",
       "      <td>...</td>\n",
       "      <td>...</td>\n",
       "      <td>...</td>\n",
       "      <td>...</td>\n",
       "      <td>...</td>\n",
       "      <td>...</td>\n",
       "      <td>...</td>\n",
       "      <td>...</td>\n",
       "      <td>...</td>\n",
       "      <td>...</td>\n",
       "      <td>...</td>\n",
       "      <td>...</td>\n",
       "      <td>...</td>\n",
       "      <td>...</td>\n",
       "    </tr>\n",
       "    <tr>\n",
       "      <th>W000804</th>\n",
       "      <td>321.461426</td>\n",
       "      <td>638.792908</td>\n",
       "      <td>342.694275</td>\n",
       "      <td>138.107559</td>\n",
       "      <td>1011.735291</td>\n",
       "      <td>2475.613281</td>\n",
       "      <td>182.159958</td>\n",
       "      <td>688.215210</td>\n",
       "      <td>430.177490</td>\n",
       "      <td>1694.244995</td>\n",
       "      <td>...</td>\n",
       "      <td>1280.982422</td>\n",
       "      <td>85.976257</td>\n",
       "      <td>1080.773560</td>\n",
       "      <td>141.382996</td>\n",
       "      <td>43.815048</td>\n",
       "      <td>555.554321</td>\n",
       "      <td>4983.859375</td>\n",
       "      <td>211.271057</td>\n",
       "      <td>14.801804</td>\n",
       "      <td>346.201447</td>\n",
       "    </tr>\n",
       "    <tr>\n",
       "      <th>W000805</th>\n",
       "      <td>0.000000</td>\n",
       "      <td>0.000000</td>\n",
       "      <td>0.000000</td>\n",
       "      <td>0.000000</td>\n",
       "      <td>0.000000</td>\n",
       "      <td>0.000000</td>\n",
       "      <td>0.000000</td>\n",
       "      <td>0.000000</td>\n",
       "      <td>0.000000</td>\n",
       "      <td>0.000000</td>\n",
       "      <td>...</td>\n",
       "      <td>0.000000</td>\n",
       "      <td>0.000000</td>\n",
       "      <td>0.000000</td>\n",
       "      <td>0.000000</td>\n",
       "      <td>0.000000</td>\n",
       "      <td>0.000000</td>\n",
       "      <td>10.036011</td>\n",
       "      <td>0.000000</td>\n",
       "      <td>0.000000</td>\n",
       "      <td>0.000000</td>\n",
       "    </tr>\n",
       "    <tr>\n",
       "      <th>W000806</th>\n",
       "      <td>183.216263</td>\n",
       "      <td>196.214355</td>\n",
       "      <td>172.989716</td>\n",
       "      <td>90.343842</td>\n",
       "      <td>399.849670</td>\n",
       "      <td>827.650391</td>\n",
       "      <td>190.280380</td>\n",
       "      <td>606.222656</td>\n",
       "      <td>35.331604</td>\n",
       "      <td>108.216743</td>\n",
       "      <td>...</td>\n",
       "      <td>635.132935</td>\n",
       "      <td>42.357315</td>\n",
       "      <td>150.947067</td>\n",
       "      <td>19.177307</td>\n",
       "      <td>23.428291</td>\n",
       "      <td>14.878876</td>\n",
       "      <td>313.632233</td>\n",
       "      <td>45.171989</td>\n",
       "      <td>7.693039</td>\n",
       "      <td>476.730286</td>\n",
       "    </tr>\n",
       "    <tr>\n",
       "      <th>W000807</th>\n",
       "      <td>45.556015</td>\n",
       "      <td>784.020081</td>\n",
       "      <td>248.312393</td>\n",
       "      <td>36.349701</td>\n",
       "      <td>77.822083</td>\n",
       "      <td>133.534622</td>\n",
       "      <td>401.066193</td>\n",
       "      <td>241.794983</td>\n",
       "      <td>56.083977</td>\n",
       "      <td>315.094604</td>\n",
       "      <td>...</td>\n",
       "      <td>209.100983</td>\n",
       "      <td>7.278809</td>\n",
       "      <td>0.000000</td>\n",
       "      <td>68.997086</td>\n",
       "      <td>15.331444</td>\n",
       "      <td>2538.297363</td>\n",
       "      <td>338.162323</td>\n",
       "      <td>678.051270</td>\n",
       "      <td>0.000000</td>\n",
       "      <td>104.857712</td>\n",
       "    </tr>\n",
       "    <tr>\n",
       "      <th>W000808</th>\n",
       "      <td>241.379913</td>\n",
       "      <td>42.440475</td>\n",
       "      <td>159.231903</td>\n",
       "      <td>75.846855</td>\n",
       "      <td>119.002686</td>\n",
       "      <td>99.106491</td>\n",
       "      <td>9.373192</td>\n",
       "      <td>1227.543213</td>\n",
       "      <td>46.759338</td>\n",
       "      <td>12.804642</td>\n",
       "      <td>...</td>\n",
       "      <td>298.138733</td>\n",
       "      <td>19.098259</td>\n",
       "      <td>65.846191</td>\n",
       "      <td>220.054169</td>\n",
       "      <td>20.336975</td>\n",
       "      <td>666.991394</td>\n",
       "      <td>76.199089</td>\n",
       "      <td>1063.584351</td>\n",
       "      <td>18.658264</td>\n",
       "      <td>93.460663</td>\n",
       "    </tr>\n",
       "    <tr>\n",
       "      <th>W000809</th>\n",
       "      <td>5.919235</td>\n",
       "      <td>232.164307</td>\n",
       "      <td>71.656937</td>\n",
       "      <td>15.087891</td>\n",
       "      <td>15.434143</td>\n",
       "      <td>81.831451</td>\n",
       "      <td>69.056000</td>\n",
       "      <td>147.935028</td>\n",
       "      <td>20.651871</td>\n",
       "      <td>140.140915</td>\n",
       "      <td>...</td>\n",
       "      <td>177.800537</td>\n",
       "      <td>137.310364</td>\n",
       "      <td>65.653656</td>\n",
       "      <td>139.201355</td>\n",
       "      <td>39.184433</td>\n",
       "      <td>255.770874</td>\n",
       "      <td>302.675201</td>\n",
       "      <td>125.036987</td>\n",
       "      <td>5.391960</td>\n",
       "      <td>17.314178</td>\n",
       "    </tr>\n",
       "    <tr>\n",
       "      <th>W000810</th>\n",
       "      <td>395.757111</td>\n",
       "      <td>4926.940430</td>\n",
       "      <td>506.693359</td>\n",
       "      <td>223.405533</td>\n",
       "      <td>869.087463</td>\n",
       "      <td>289.013428</td>\n",
       "      <td>569.442322</td>\n",
       "      <td>58.139618</td>\n",
       "      <td>6.169266</td>\n",
       "      <td>179.327438</td>\n",
       "      <td>...</td>\n",
       "      <td>1018.586670</td>\n",
       "      <td>205.292374</td>\n",
       "      <td>73.927856</td>\n",
       "      <td>790.413330</td>\n",
       "      <td>903.769104</td>\n",
       "      <td>450.947937</td>\n",
       "      <td>386.527954</td>\n",
       "      <td>6373.019043</td>\n",
       "      <td>4.770950</td>\n",
       "      <td>664.527588</td>\n",
       "    </tr>\n",
       "    <tr>\n",
       "      <th>W000811</th>\n",
       "      <td>7.886108</td>\n",
       "      <td>6.509705</td>\n",
       "      <td>0.000000</td>\n",
       "      <td>4.412720</td>\n",
       "      <td>149.580566</td>\n",
       "      <td>54.558533</td>\n",
       "      <td>0.000000</td>\n",
       "      <td>0.000000</td>\n",
       "      <td>2.427979</td>\n",
       "      <td>28.421997</td>\n",
       "      <td>...</td>\n",
       "      <td>35.435928</td>\n",
       "      <td>1.382996</td>\n",
       "      <td>0.000000</td>\n",
       "      <td>12.161865</td>\n",
       "      <td>0.000000</td>\n",
       "      <td>1.607239</td>\n",
       "      <td>0.000000</td>\n",
       "      <td>141.183655</td>\n",
       "      <td>0.000000</td>\n",
       "      <td>190.067047</td>\n",
       "    </tr>\n",
       "    <tr>\n",
       "      <th>W000812</th>\n",
       "      <td>171.707336</td>\n",
       "      <td>796.986572</td>\n",
       "      <td>54.079437</td>\n",
       "      <td>1321.128052</td>\n",
       "      <td>202.906067</td>\n",
       "      <td>56.390656</td>\n",
       "      <td>28.018082</td>\n",
       "      <td>73.286194</td>\n",
       "      <td>61.804634</td>\n",
       "      <td>137.855652</td>\n",
       "      <td>...</td>\n",
       "      <td>68.203354</td>\n",
       "      <td>9.251160</td>\n",
       "      <td>31.497162</td>\n",
       "      <td>390.833069</td>\n",
       "      <td>32.191895</td>\n",
       "      <td>991.486511</td>\n",
       "      <td>327.306732</td>\n",
       "      <td>335.056702</td>\n",
       "      <td>19.254921</td>\n",
       "      <td>124.210648</td>\n",
       "    </tr>\n",
       "    <tr>\n",
       "      <th>W000813</th>\n",
       "      <td>303.747437</td>\n",
       "      <td>341.406342</td>\n",
       "      <td>96.637375</td>\n",
       "      <td>276.847351</td>\n",
       "      <td>179.767029</td>\n",
       "      <td>382.556061</td>\n",
       "      <td>56.638962</td>\n",
       "      <td>470.060059</td>\n",
       "      <td>59.892303</td>\n",
       "      <td>780.037048</td>\n",
       "      <td>...</td>\n",
       "      <td>252.291290</td>\n",
       "      <td>34.110077</td>\n",
       "      <td>123.831055</td>\n",
       "      <td>69.580978</td>\n",
       "      <td>13.591049</td>\n",
       "      <td>1968.892456</td>\n",
       "      <td>501.667969</td>\n",
       "      <td>157.231094</td>\n",
       "      <td>3.278564</td>\n",
       "      <td>190.705490</td>\n",
       "    </tr>\n",
       "    <tr>\n",
       "      <th>W000814</th>\n",
       "      <td>117.802078</td>\n",
       "      <td>456.470825</td>\n",
       "      <td>102.294418</td>\n",
       "      <td>179.439301</td>\n",
       "      <td>147.187927</td>\n",
       "      <td>246.450104</td>\n",
       "      <td>314.524780</td>\n",
       "      <td>16.582954</td>\n",
       "      <td>5.898865</td>\n",
       "      <td>28.233246</td>\n",
       "      <td>...</td>\n",
       "      <td>220.271667</td>\n",
       "      <td>0.000000</td>\n",
       "      <td>87.873657</td>\n",
       "      <td>94.768852</td>\n",
       "      <td>12.568359</td>\n",
       "      <td>690.052673</td>\n",
       "      <td>174.178009</td>\n",
       "      <td>423.457306</td>\n",
       "      <td>6.402710</td>\n",
       "      <td>103.904129</td>\n",
       "    </tr>\n",
       "    <tr>\n",
       "      <th>W000815</th>\n",
       "      <td>449.053040</td>\n",
       "      <td>270.430206</td>\n",
       "      <td>126.183655</td>\n",
       "      <td>129.182312</td>\n",
       "      <td>403.013092</td>\n",
       "      <td>214.103653</td>\n",
       "      <td>42.820648</td>\n",
       "      <td>278.771484</td>\n",
       "      <td>211.239960</td>\n",
       "      <td>379.208984</td>\n",
       "      <td>...</td>\n",
       "      <td>139.410751</td>\n",
       "      <td>29.222672</td>\n",
       "      <td>78.787292</td>\n",
       "      <td>25.778580</td>\n",
       "      <td>24.443604</td>\n",
       "      <td>876.825378</td>\n",
       "      <td>295.286255</td>\n",
       "      <td>268.233643</td>\n",
       "      <td>0.000000</td>\n",
       "      <td>72.344650</td>\n",
       "    </tr>\n",
       "    <tr>\n",
       "      <th>W000816</th>\n",
       "      <td>22.000244</td>\n",
       "      <td>497.006866</td>\n",
       "      <td>77.420456</td>\n",
       "      <td>119.414276</td>\n",
       "      <td>49.504089</td>\n",
       "      <td>180.438446</td>\n",
       "      <td>39.542664</td>\n",
       "      <td>99.191696</td>\n",
       "      <td>52.021469</td>\n",
       "      <td>420.348389</td>\n",
       "      <td>...</td>\n",
       "      <td>89.217270</td>\n",
       "      <td>23.396286</td>\n",
       "      <td>59.926117</td>\n",
       "      <td>30.541260</td>\n",
       "      <td>20.304398</td>\n",
       "      <td>980.203491</td>\n",
       "      <td>316.480438</td>\n",
       "      <td>199.676453</td>\n",
       "      <td>5.560974</td>\n",
       "      <td>269.677673</td>\n",
       "    </tr>\n",
       "    <tr>\n",
       "      <th>W000818</th>\n",
       "      <td>0.000000</td>\n",
       "      <td>0.000000</td>\n",
       "      <td>0.000000</td>\n",
       "      <td>0.000000</td>\n",
       "      <td>0.000000</td>\n",
       "      <td>0.000000</td>\n",
       "      <td>0.000000</td>\n",
       "      <td>0.000000</td>\n",
       "      <td>0.000000</td>\n",
       "      <td>0.000000</td>\n",
       "      <td>...</td>\n",
       "      <td>0.000000</td>\n",
       "      <td>0.000000</td>\n",
       "      <td>0.000000</td>\n",
       "      <td>0.000000</td>\n",
       "      <td>0.000000</td>\n",
       "      <td>0.000000</td>\n",
       "      <td>0.000000</td>\n",
       "      <td>0.000000</td>\n",
       "      <td>0.000000</td>\n",
       "      <td>0.000000</td>\n",
       "    </tr>\n",
       "    <tr>\n",
       "      <th>W000819</th>\n",
       "      <td>112.743164</td>\n",
       "      <td>144.482925</td>\n",
       "      <td>36.870850</td>\n",
       "      <td>168.396759</td>\n",
       "      <td>850.405518</td>\n",
       "      <td>75.580254</td>\n",
       "      <td>11.255173</td>\n",
       "      <td>138.538055</td>\n",
       "      <td>72.096634</td>\n",
       "      <td>37.190468</td>\n",
       "      <td>...</td>\n",
       "      <td>41.917282</td>\n",
       "      <td>15.474472</td>\n",
       "      <td>13.924164</td>\n",
       "      <td>42.077896</td>\n",
       "      <td>39.186836</td>\n",
       "      <td>315.257233</td>\n",
       "      <td>28.802307</td>\n",
       "      <td>404.532990</td>\n",
       "      <td>1.538086</td>\n",
       "      <td>238.781036</td>\n",
       "    </tr>\n",
       "    <tr>\n",
       "      <th>W000820</th>\n",
       "      <td>43.329727</td>\n",
       "      <td>304.692444</td>\n",
       "      <td>153.076355</td>\n",
       "      <td>213.217804</td>\n",
       "      <td>100.649841</td>\n",
       "      <td>173.021667</td>\n",
       "      <td>21.232651</td>\n",
       "      <td>130.024231</td>\n",
       "      <td>46.523148</td>\n",
       "      <td>3.537598</td>\n",
       "      <td>...</td>\n",
       "      <td>74.224945</td>\n",
       "      <td>1.583496</td>\n",
       "      <td>75.404053</td>\n",
       "      <td>60.047485</td>\n",
       "      <td>29.456879</td>\n",
       "      <td>199.783722</td>\n",
       "      <td>61.793304</td>\n",
       "      <td>106.434448</td>\n",
       "      <td>4.698845</td>\n",
       "      <td>63.390839</td>\n",
       "    </tr>\n",
       "    <tr>\n",
       "      <th>W000821</th>\n",
       "      <td>81.902374</td>\n",
       "      <td>297.929932</td>\n",
       "      <td>85.384430</td>\n",
       "      <td>40.103569</td>\n",
       "      <td>117.866501</td>\n",
       "      <td>51.683533</td>\n",
       "      <td>84.953705</td>\n",
       "      <td>85.559906</td>\n",
       "      <td>16.088135</td>\n",
       "      <td>44.267700</td>\n",
       "      <td>...</td>\n",
       "      <td>78.315872</td>\n",
       "      <td>135.948120</td>\n",
       "      <td>268.635162</td>\n",
       "      <td>130.415619</td>\n",
       "      <td>16.927917</td>\n",
       "      <td>118.882126</td>\n",
       "      <td>96.971283</td>\n",
       "      <td>0.000000</td>\n",
       "      <td>3.217163</td>\n",
       "      <td>44.347473</td>\n",
       "    </tr>\n",
       "    <tr>\n",
       "      <th>W000822</th>\n",
       "      <td>514.568909</td>\n",
       "      <td>728.496460</td>\n",
       "      <td>136.374725</td>\n",
       "      <td>217.507782</td>\n",
       "      <td>871.641113</td>\n",
       "      <td>455.921844</td>\n",
       "      <td>195.782288</td>\n",
       "      <td>431.062439</td>\n",
       "      <td>82.915649</td>\n",
       "      <td>156.415039</td>\n",
       "      <td>...</td>\n",
       "      <td>315.701050</td>\n",
       "      <td>22.708435</td>\n",
       "      <td>71.081551</td>\n",
       "      <td>422.445801</td>\n",
       "      <td>489.181824</td>\n",
       "      <td>646.608337</td>\n",
       "      <td>545.463013</td>\n",
       "      <td>1469.946777</td>\n",
       "      <td>4.735535</td>\n",
       "      <td>1822.387085</td>\n",
       "    </tr>\n",
       "    <tr>\n",
       "      <th>Y000013</th>\n",
       "      <td>21.537704</td>\n",
       "      <td>581.380371</td>\n",
       "      <td>520.572021</td>\n",
       "      <td>66.476379</td>\n",
       "      <td>167.799896</td>\n",
       "      <td>215.322266</td>\n",
       "      <td>350.504395</td>\n",
       "      <td>108.343903</td>\n",
       "      <td>113.237061</td>\n",
       "      <td>129.869598</td>\n",
       "      <td>...</td>\n",
       "      <td>374.318420</td>\n",
       "      <td>36.088623</td>\n",
       "      <td>450.895782</td>\n",
       "      <td>199.620453</td>\n",
       "      <td>112.192841</td>\n",
       "      <td>333.690247</td>\n",
       "      <td>108.247375</td>\n",
       "      <td>726.214111</td>\n",
       "      <td>3.258957</td>\n",
       "      <td>2.416992</td>\n",
       "    </tr>\n",
       "    <tr>\n",
       "      <th>Y000031</th>\n",
       "      <td>2038.363281</td>\n",
       "      <td>1290.823608</td>\n",
       "      <td>778.156006</td>\n",
       "      <td>1060.856689</td>\n",
       "      <td>2110.601562</td>\n",
       "      <td>5130.969727</td>\n",
       "      <td>974.589478</td>\n",
       "      <td>669.677185</td>\n",
       "      <td>372.515381</td>\n",
       "      <td>3705.888916</td>\n",
       "      <td>...</td>\n",
       "      <td>2284.638672</td>\n",
       "      <td>389.899261</td>\n",
       "      <td>864.343079</td>\n",
       "      <td>722.412537</td>\n",
       "      <td>149.707886</td>\n",
       "      <td>4251.298828</td>\n",
       "      <td>20159.722656</td>\n",
       "      <td>1049.750732</td>\n",
       "      <td>111.382713</td>\n",
       "      <td>1463.991699</td>\n",
       "    </tr>\n",
       "    <tr>\n",
       "      <th>Y000033</th>\n",
       "      <td>1423.795898</td>\n",
       "      <td>8360.247070</td>\n",
       "      <td>2006.155029</td>\n",
       "      <td>937.445251</td>\n",
       "      <td>7572.834473</td>\n",
       "      <td>7219.430664</td>\n",
       "      <td>8627.049805</td>\n",
       "      <td>531.702026</td>\n",
       "      <td>7487.430176</td>\n",
       "      <td>1076.394165</td>\n",
       "      <td>...</td>\n",
       "      <td>5873.203125</td>\n",
       "      <td>151.587280</td>\n",
       "      <td>12631.403320</td>\n",
       "      <td>2155.599121</td>\n",
       "      <td>589.827454</td>\n",
       "      <td>1045.556519</td>\n",
       "      <td>4074.801270</td>\n",
       "      <td>1098.859497</td>\n",
       "      <td>29.547363</td>\n",
       "      <td>5216.734863</td>\n",
       "    </tr>\n",
       "    <tr>\n",
       "      <th>Y000062</th>\n",
       "      <td>914.749390</td>\n",
       "      <td>1272.091797</td>\n",
       "      <td>500.255646</td>\n",
       "      <td>66.898239</td>\n",
       "      <td>590.647400</td>\n",
       "      <td>324.944489</td>\n",
       "      <td>379.573395</td>\n",
       "      <td>709.554993</td>\n",
       "      <td>43.081360</td>\n",
       "      <td>129.119019</td>\n",
       "      <td>...</td>\n",
       "      <td>559.018677</td>\n",
       "      <td>68.887924</td>\n",
       "      <td>73.885094</td>\n",
       "      <td>218.373413</td>\n",
       "      <td>274.048920</td>\n",
       "      <td>3519.081055</td>\n",
       "      <td>121.972183</td>\n",
       "      <td>2483.382324</td>\n",
       "      <td>9.694603</td>\n",
       "      <td>203.852783</td>\n",
       "    </tr>\n",
       "    <tr>\n",
       "      <th>Y000063</th>\n",
       "      <td>54.784409</td>\n",
       "      <td>416.048767</td>\n",
       "      <td>81.226532</td>\n",
       "      <td>39.512634</td>\n",
       "      <td>95.481400</td>\n",
       "      <td>131.145630</td>\n",
       "      <td>17.100784</td>\n",
       "      <td>367.379028</td>\n",
       "      <td>92.360992</td>\n",
       "      <td>207.060303</td>\n",
       "      <td>...</td>\n",
       "      <td>141.291122</td>\n",
       "      <td>19.139633</td>\n",
       "      <td>27.129303</td>\n",
       "      <td>8.212860</td>\n",
       "      <td>38.637268</td>\n",
       "      <td>557.792114</td>\n",
       "      <td>53.686829</td>\n",
       "      <td>472.598602</td>\n",
       "      <td>11.219955</td>\n",
       "      <td>305.667999</td>\n",
       "    </tr>\n",
       "    <tr>\n",
       "      <th>Y000064</th>\n",
       "      <td>156.170883</td>\n",
       "      <td>291.195129</td>\n",
       "      <td>267.310516</td>\n",
       "      <td>120.216011</td>\n",
       "      <td>131.797150</td>\n",
       "      <td>178.891495</td>\n",
       "      <td>44.553528</td>\n",
       "      <td>220.246994</td>\n",
       "      <td>4.516937</td>\n",
       "      <td>416.516541</td>\n",
       "      <td>...</td>\n",
       "      <td>151.613998</td>\n",
       "      <td>7.790382</td>\n",
       "      <td>184.870239</td>\n",
       "      <td>5.996704</td>\n",
       "      <td>208.596527</td>\n",
       "      <td>449.585144</td>\n",
       "      <td>214.756134</td>\n",
       "      <td>257.088501</td>\n",
       "      <td>1.431885</td>\n",
       "      <td>13.874908</td>\n",
       "    </tr>\n",
       "    <tr>\n",
       "      <th>Y000065</th>\n",
       "      <td>120.184822</td>\n",
       "      <td>1713.452515</td>\n",
       "      <td>441.005188</td>\n",
       "      <td>544.999268</td>\n",
       "      <td>416.484589</td>\n",
       "      <td>39.949654</td>\n",
       "      <td>269.409882</td>\n",
       "      <td>159.129501</td>\n",
       "      <td>12.861664</td>\n",
       "      <td>158.704346</td>\n",
       "      <td>...</td>\n",
       "      <td>133.567535</td>\n",
       "      <td>20.019897</td>\n",
       "      <td>100.475952</td>\n",
       "      <td>158.886597</td>\n",
       "      <td>160.780609</td>\n",
       "      <td>1657.376953</td>\n",
       "      <td>183.108582</td>\n",
       "      <td>1663.826904</td>\n",
       "      <td>17.957870</td>\n",
       "      <td>233.057419</td>\n",
       "    </tr>\n",
       "    <tr>\n",
       "      <th>Y000066</th>\n",
       "      <td>567.969666</td>\n",
       "      <td>120.334625</td>\n",
       "      <td>278.475922</td>\n",
       "      <td>135.098175</td>\n",
       "      <td>20.838074</td>\n",
       "      <td>768.961121</td>\n",
       "      <td>100.262794</td>\n",
       "      <td>1449.458618</td>\n",
       "      <td>1326.035156</td>\n",
       "      <td>168.281555</td>\n",
       "      <td>...</td>\n",
       "      <td>812.675293</td>\n",
       "      <td>441.453827</td>\n",
       "      <td>353.248779</td>\n",
       "      <td>121.849121</td>\n",
       "      <td>17.250244</td>\n",
       "      <td>106.402435</td>\n",
       "      <td>66.545059</td>\n",
       "      <td>90.502426</td>\n",
       "      <td>61.961990</td>\n",
       "      <td>270.790314</td>\n",
       "    </tr>\n",
       "    <tr>\n",
       "      <th>Z000004</th>\n",
       "      <td>28.464783</td>\n",
       "      <td>272.071655</td>\n",
       "      <td>164.488205</td>\n",
       "      <td>94.262543</td>\n",
       "      <td>39.771118</td>\n",
       "      <td>75.188766</td>\n",
       "      <td>510.719391</td>\n",
       "      <td>2.678833</td>\n",
       "      <td>13.297119</td>\n",
       "      <td>176.951141</td>\n",
       "      <td>...</td>\n",
       "      <td>511.559296</td>\n",
       "      <td>6.387573</td>\n",
       "      <td>87.423859</td>\n",
       "      <td>64.184357</td>\n",
       "      <td>83.504333</td>\n",
       "      <td>231.504944</td>\n",
       "      <td>442.116272</td>\n",
       "      <td>461.587677</td>\n",
       "      <td>0.000000</td>\n",
       "      <td>151.368225</td>\n",
       "    </tr>\n",
       "    <tr>\n",
       "      <th>Z000008</th>\n",
       "      <td>0.000000</td>\n",
       "      <td>486.195404</td>\n",
       "      <td>168.765991</td>\n",
       "      <td>231.751923</td>\n",
       "      <td>39.481880</td>\n",
       "      <td>301.667450</td>\n",
       "      <td>247.029556</td>\n",
       "      <td>32.945084</td>\n",
       "      <td>19.265747</td>\n",
       "      <td>21.061310</td>\n",
       "      <td>...</td>\n",
       "      <td>220.620239</td>\n",
       "      <td>12.133850</td>\n",
       "      <td>85.568550</td>\n",
       "      <td>257.516388</td>\n",
       "      <td>104.008957</td>\n",
       "      <td>1174.638062</td>\n",
       "      <td>282.625031</td>\n",
       "      <td>220.507721</td>\n",
       "      <td>21.365967</td>\n",
       "      <td>53.113617</td>\n",
       "    </tr>\n",
       "    <tr>\n",
       "      <th>Z000017</th>\n",
       "      <td>307.887939</td>\n",
       "      <td>263.844482</td>\n",
       "      <td>184.257050</td>\n",
       "      <td>87.515564</td>\n",
       "      <td>217.660797</td>\n",
       "      <td>140.500183</td>\n",
       "      <td>35.626587</td>\n",
       "      <td>200.982849</td>\n",
       "      <td>91.426483</td>\n",
       "      <td>178.723740</td>\n",
       "      <td>...</td>\n",
       "      <td>344.910828</td>\n",
       "      <td>18.567200</td>\n",
       "      <td>253.076675</td>\n",
       "      <td>75.446808</td>\n",
       "      <td>10.015076</td>\n",
       "      <td>2583.783936</td>\n",
       "      <td>139.137360</td>\n",
       "      <td>353.392578</td>\n",
       "      <td>12.877190</td>\n",
       "      <td>393.915649</td>\n",
       "    </tr>\n",
       "    <tr>\n",
       "      <th>Z000018</th>\n",
       "      <td>5.580566</td>\n",
       "      <td>82.660400</td>\n",
       "      <td>25.371384</td>\n",
       "      <td>36.453918</td>\n",
       "      <td>57.872772</td>\n",
       "      <td>30.587891</td>\n",
       "      <td>9.315201</td>\n",
       "      <td>5.488861</td>\n",
       "      <td>21.349457</td>\n",
       "      <td>306.828369</td>\n",
       "      <td>...</td>\n",
       "      <td>50.686646</td>\n",
       "      <td>5.436432</td>\n",
       "      <td>286.881317</td>\n",
       "      <td>66.241570</td>\n",
       "      <td>38.898132</td>\n",
       "      <td>418.114349</td>\n",
       "      <td>580.105225</td>\n",
       "      <td>39.276978</td>\n",
       "      <td>2.754410</td>\n",
       "      <td>13.760345</td>\n",
       "    </tr>\n",
       "  </tbody>\n",
       "</table>\n",
       "<p>1342 rows × 75 columns</p>\n",
       "</div>"
      ],
      "text/plain": [
       "topic_id                   0            1            2            3   \\\n",
       "speaker_bioguide                                                       \n",
       "A000014           1348.919434  3516.661621  1574.261597   960.937378   \n",
       "A000022            549.084473  2261.854004  1489.754150   272.324677   \n",
       "A000055            473.051117  2013.320801   648.001587   240.729568   \n",
       "A000069             54.254456    17.676941     0.000000    12.112305   \n",
       "A000109            268.632751  1254.077271    95.525467   327.239685   \n",
       "A000209            203.453522   218.107361   636.802612    72.133118   \n",
       "A000210           1997.141235  5145.391602   837.425476   654.209656   \n",
       "A000211              3.638916    75.020691    38.297852    10.994629   \n",
       "A000214              6.166443    26.720123    15.448792    16.447266   \n",
       "A000215            729.942932   803.303833   205.957642   581.281433   \n",
       "A000217            679.615051  2383.434570   734.161987   282.471497   \n",
       "A000357           1382.163208  1409.427612   258.654266   467.465118   \n",
       "A000358            856.800598  4461.259766  1383.512939   593.936829   \n",
       "A000359            178.639862   251.916199    49.813087    53.293274   \n",
       "A000361            332.725861    81.616302   242.676300    28.599304   \n",
       "A000362           1012.898499   302.626190   271.672028   227.559204   \n",
       "A000363            204.192657   919.468750   100.191589   124.016846   \n",
       "A000364             31.235229    20.362854    11.280212    30.720322   \n",
       "A000365             78.992798    87.113655   111.269508     0.000000   \n",
       "A000366              8.304947    30.959839    35.560608    17.728699   \n",
       "A000367              0.000000   723.118652     5.742188    16.749390   \n",
       "A000369            185.434052   137.442108    66.859177     4.708099   \n",
       "A000370            215.919586   454.756836   101.234863   123.407684   \n",
       "A000371             56.106628     5.346924     1.068512     6.662582   \n",
       "A000372            128.211960   741.137207    37.310425   115.590515   \n",
       "A000373             79.906677    28.200653     6.902679     0.000000   \n",
       "A000374            119.146210   123.181580    20.132996    23.049316   \n",
       "A000375            198.421356   169.792938    39.805389    55.408875   \n",
       "B000008              0.000000     0.000000    11.144188     6.581726   \n",
       "B000013            690.822083  2779.792480   442.464050  1570.411133   \n",
       "...                       ...          ...          ...          ...   \n",
       "W000804            321.461426   638.792908   342.694275   138.107559   \n",
       "W000805              0.000000     0.000000     0.000000     0.000000   \n",
       "W000806            183.216263   196.214355   172.989716    90.343842   \n",
       "W000807             45.556015   784.020081   248.312393    36.349701   \n",
       "W000808            241.379913    42.440475   159.231903    75.846855   \n",
       "W000809              5.919235   232.164307    71.656937    15.087891   \n",
       "W000810            395.757111  4926.940430   506.693359   223.405533   \n",
       "W000811              7.886108     6.509705     0.000000     4.412720   \n",
       "W000812            171.707336   796.986572    54.079437  1321.128052   \n",
       "W000813            303.747437   341.406342    96.637375   276.847351   \n",
       "W000814            117.802078   456.470825   102.294418   179.439301   \n",
       "W000815            449.053040   270.430206   126.183655   129.182312   \n",
       "W000816             22.000244   497.006866    77.420456   119.414276   \n",
       "W000818              0.000000     0.000000     0.000000     0.000000   \n",
       "W000819            112.743164   144.482925    36.870850   168.396759   \n",
       "W000820             43.329727   304.692444   153.076355   213.217804   \n",
       "W000821             81.902374   297.929932    85.384430    40.103569   \n",
       "W000822            514.568909   728.496460   136.374725   217.507782   \n",
       "Y000013             21.537704   581.380371   520.572021    66.476379   \n",
       "Y000031           2038.363281  1290.823608   778.156006  1060.856689   \n",
       "Y000033           1423.795898  8360.247070  2006.155029   937.445251   \n",
       "Y000062            914.749390  1272.091797   500.255646    66.898239   \n",
       "Y000063             54.784409   416.048767    81.226532    39.512634   \n",
       "Y000064            156.170883   291.195129   267.310516   120.216011   \n",
       "Y000065            120.184822  1713.452515   441.005188   544.999268   \n",
       "Y000066            567.969666   120.334625   278.475922   135.098175   \n",
       "Z000004             28.464783   272.071655   164.488205    94.262543   \n",
       "Z000008              0.000000   486.195404   168.765991   231.751923   \n",
       "Z000017            307.887939   263.844482   184.257050    87.515564   \n",
       "Z000018              5.580566    82.660400    25.371384    36.453918   \n",
       "\n",
       "topic_id                   4            5            6            7   \\\n",
       "speaker_bioguide                                                       \n",
       "A000014           1431.689575   770.114197   658.549194   371.025208   \n",
       "A000022           2325.843750   512.709534   191.480896  1331.155273   \n",
       "A000055            299.441376  7634.675293    85.422455  1161.929077   \n",
       "A000069              0.000000   200.768921    23.621399     4.215576   \n",
       "A000109            461.132416   371.682953   319.462219    39.296143   \n",
       "A000209              6.336823   105.006683    34.176025    17.949081   \n",
       "A000210           1477.536621  1050.253784   584.353699  1874.694946   \n",
       "A000211              0.000000    21.591644    51.110840     0.000000   \n",
       "A000214             31.677429   176.128662     0.000000   144.582031   \n",
       "A000215           1472.128662   323.189026   108.361801     0.000000   \n",
       "A000217           1174.599243   513.852051   120.901482   217.419357   \n",
       "A000357            323.516632   468.485901  2460.035156    87.260071   \n",
       "A000358            412.041260  1991.533691   158.080933   928.207275   \n",
       "A000359            131.061432   326.321350    66.334869    36.984619   \n",
       "A000361             82.260323  2131.521973   759.848938  1355.725098   \n",
       "A000362            441.070312   674.623901    75.367073   458.282959   \n",
       "A000363            799.130432   538.619263    70.935928   394.532562   \n",
       "A000364            223.909332    59.863678    29.205437   140.526611   \n",
       "A000365             13.113281    49.797806    58.715050   174.900665   \n",
       "A000366             53.203369   101.438477    47.343445    18.523590   \n",
       "A000367              4.711884    66.871582    17.557983    18.313477   \n",
       "A000369             72.712952    92.125900    31.919464    62.647552   \n",
       "A000370             53.254486    79.057312   143.194138   788.195190   \n",
       "A000371             22.651062   131.494263    12.323624   358.835175   \n",
       "A000372             66.532440   104.003006    76.865479    42.996841   \n",
       "A000373              9.217125    55.393227     0.000000   100.071640   \n",
       "A000374            278.411163   177.683472   134.053253   188.301514   \n",
       "A000375              4.700470    27.063187    14.185783    17.737473   \n",
       "B000008              6.841736    55.712570    14.702759     0.000000   \n",
       "B000013           1772.660156  3286.399902   396.679626  1209.594360   \n",
       "...                       ...          ...          ...          ...   \n",
       "W000804           1011.735291  2475.613281   182.159958   688.215210   \n",
       "W000805              0.000000     0.000000     0.000000     0.000000   \n",
       "W000806            399.849670   827.650391   190.280380   606.222656   \n",
       "W000807             77.822083   133.534622   401.066193   241.794983   \n",
       "W000808            119.002686    99.106491     9.373192  1227.543213   \n",
       "W000809             15.434143    81.831451    69.056000   147.935028   \n",
       "W000810            869.087463   289.013428   569.442322    58.139618   \n",
       "W000811            149.580566    54.558533     0.000000     0.000000   \n",
       "W000812            202.906067    56.390656    28.018082    73.286194   \n",
       "W000813            179.767029   382.556061    56.638962   470.060059   \n",
       "W000814            147.187927   246.450104   314.524780    16.582954   \n",
       "W000815            403.013092   214.103653    42.820648   278.771484   \n",
       "W000816             49.504089   180.438446    39.542664    99.191696   \n",
       "W000818              0.000000     0.000000     0.000000     0.000000   \n",
       "W000819            850.405518    75.580254    11.255173   138.538055   \n",
       "W000820            100.649841   173.021667    21.232651   130.024231   \n",
       "W000821            117.866501    51.683533    84.953705    85.559906   \n",
       "W000822            871.641113   455.921844   195.782288   431.062439   \n",
       "Y000013            167.799896   215.322266   350.504395   108.343903   \n",
       "Y000031           2110.601562  5130.969727   974.589478   669.677185   \n",
       "Y000033           7572.834473  7219.430664  8627.049805   531.702026   \n",
       "Y000062            590.647400   324.944489   379.573395   709.554993   \n",
       "Y000063             95.481400   131.145630    17.100784   367.379028   \n",
       "Y000064            131.797150   178.891495    44.553528   220.246994   \n",
       "Y000065            416.484589    39.949654   269.409882   159.129501   \n",
       "Y000066             20.838074   768.961121   100.262794  1449.458618   \n",
       "Z000004             39.771118    75.188766   510.719391     2.678833   \n",
       "Z000008             39.481880   301.667450   247.029556    32.945084   \n",
       "Z000017            217.660797   140.500183    35.626587   200.982849   \n",
       "Z000018             57.872772    30.587891     9.315201     5.488861   \n",
       "\n",
       "topic_id                   8            9      ...                65  \\\n",
       "speaker_bioguide                               ...                     \n",
       "A000014           5241.501465  4200.224121     ...        821.387756   \n",
       "A000022            184.813965   822.239502     ...       1480.219727   \n",
       "A000055            300.401733   159.330505     ...       2174.373047   \n",
       "A000069             58.201477    12.624329     ...          0.000000   \n",
       "A000109             43.559891     4.292664     ...       1253.828857   \n",
       "A000209              8.865509     0.000000     ...        408.051941   \n",
       "A000210            383.456543  1671.144897     ...       1340.070679   \n",
       "A000211             20.898438     9.308350     ...         93.535278   \n",
       "A000214              8.427246     0.000000     ...        114.426514   \n",
       "A000215             86.480713   156.961853     ...        296.735291   \n",
       "A000217            251.023285   147.348236     ...        316.721619   \n",
       "A000357            225.416199   334.357727     ...       1210.641235   \n",
       "A000358             78.554352   417.628540     ...        572.762451   \n",
       "A000359             63.019562   283.475342     ...        387.659241   \n",
       "A000361             61.186516   156.180969     ...        990.335938   \n",
       "A000362            176.367188   894.541016     ...        410.194519   \n",
       "A000363            223.891022   217.797791     ...       1853.672485   \n",
       "A000364             48.734299   132.239197     ...          9.738632   \n",
       "A000365             78.404610   236.508667     ...        142.381256   \n",
       "A000366              3.993530     1.422501     ...         45.536438   \n",
       "A000367             10.360718    42.130112     ...         42.273193   \n",
       "A000369             76.825470     7.530762     ...        226.157532   \n",
       "A000370             44.578758    23.072731     ...         83.687408   \n",
       "A000371             12.681976   137.991821     ...        173.796677   \n",
       "A000372             11.010132   134.025452     ...         66.544373   \n",
       "A000373             16.906815    54.662872     ...         74.271240   \n",
       "A000374            376.566589   118.784332     ...         46.528778   \n",
       "A000375             27.543823    63.245209     ...         85.131714   \n",
       "B000008              2.534866     0.000000     ...         64.848755   \n",
       "B000013            719.520447   319.534454     ...       2624.550049   \n",
       "...                       ...          ...     ...               ...   \n",
       "W000804            430.177490  1694.244995     ...       1280.982422   \n",
       "W000805              0.000000     0.000000     ...          0.000000   \n",
       "W000806             35.331604   108.216743     ...        635.132935   \n",
       "W000807             56.083977   315.094604     ...        209.100983   \n",
       "W000808             46.759338    12.804642     ...        298.138733   \n",
       "W000809             20.651871   140.140915     ...        177.800537   \n",
       "W000810              6.169266   179.327438     ...       1018.586670   \n",
       "W000811              2.427979    28.421997     ...         35.435928   \n",
       "W000812             61.804634   137.855652     ...         68.203354   \n",
       "W000813             59.892303   780.037048     ...        252.291290   \n",
       "W000814              5.898865    28.233246     ...        220.271667   \n",
       "W000815            211.239960   379.208984     ...        139.410751   \n",
       "W000816             52.021469   420.348389     ...         89.217270   \n",
       "W000818              0.000000     0.000000     ...          0.000000   \n",
       "W000819             72.096634    37.190468     ...         41.917282   \n",
       "W000820             46.523148     3.537598     ...         74.224945   \n",
       "W000821             16.088135    44.267700     ...         78.315872   \n",
       "W000822             82.915649   156.415039     ...        315.701050   \n",
       "Y000013            113.237061   129.869598     ...        374.318420   \n",
       "Y000031            372.515381  3705.888916     ...       2284.638672   \n",
       "Y000033           7487.430176  1076.394165     ...       5873.203125   \n",
       "Y000062             43.081360   129.119019     ...        559.018677   \n",
       "Y000063             92.360992   207.060303     ...        141.291122   \n",
       "Y000064              4.516937   416.516541     ...        151.613998   \n",
       "Y000065             12.861664   158.704346     ...        133.567535   \n",
       "Y000066           1326.035156   168.281555     ...        812.675293   \n",
       "Z000004             13.297119   176.951141     ...        511.559296   \n",
       "Z000008             19.265747    21.061310     ...        220.620239   \n",
       "Z000017             91.426483   178.723740     ...        344.910828   \n",
       "Z000018             21.349457   306.828369     ...         50.686646   \n",
       "\n",
       "topic_id                   66            67           68           69  \\\n",
       "speaker_bioguide                                                        \n",
       "A000014             56.135895   2035.946289  1119.199829  1800.544189   \n",
       "A000022            137.944336    805.677734   583.712646   603.167603   \n",
       "A000055           1515.252441    142.782288   622.378418    75.604599   \n",
       "A000069              0.000000     62.314148    23.395264   112.716583   \n",
       "A000109             11.231583    329.925354   163.146988   102.852066   \n",
       "A000209              0.000000    146.228943    87.068542   182.525024   \n",
       "A000210            164.425873   1017.445618  2399.590332  2047.261963   \n",
       "A000211              0.000000     15.444580     0.000000     8.233032   \n",
       "A000214              6.094849      2.192871   414.131836    10.377441   \n",
       "A000215             36.000641    108.402008   178.953857   198.646622   \n",
       "A000217            453.643250     89.509705   640.115479   930.740540   \n",
       "A000357             63.446457    189.879913   322.152100   217.110794   \n",
       "A000358             38.363457    438.453949   628.758057   295.681641   \n",
       "A000359              4.836182    171.162155    65.226074    50.260254   \n",
       "A000361             10.972397    108.481842    57.084549     2.927887   \n",
       "A000362             61.405899    106.716141    55.047623    70.998192   \n",
       "A000363            238.160034    137.325821   448.674438    38.234001   \n",
       "A000364              4.101715     40.123352    85.090546     0.000000   \n",
       "A000365             38.343872     88.752396   138.124146     1.581558   \n",
       "A000366              0.000000     11.555664    84.904556    16.007019   \n",
       "A000367              0.000000      0.000000    40.775970     0.000000   \n",
       "A000369              1.248093    129.904404    17.843994    19.785347   \n",
       "A000370             13.830719      1.317673    75.885521    16.977905   \n",
       "A000371             13.381348      7.614197    50.850464    10.475586   \n",
       "A000372             94.108963      4.536285    48.222595    61.818848   \n",
       "A000373             16.272766    326.679504     6.204651     0.000000   \n",
       "A000374              8.991882     52.589233     5.699417     5.185303   \n",
       "A000375              2.556610     16.499985     0.000000     1.688599   \n",
       "B000008              0.000000      0.000000    11.990128    20.234375   \n",
       "B000013           1757.248901    330.780334  1588.509399   466.922729   \n",
       "...                       ...           ...          ...          ...   \n",
       "W000804             85.976257   1080.773560   141.382996    43.815048   \n",
       "W000805              0.000000      0.000000     0.000000     0.000000   \n",
       "W000806             42.357315    150.947067    19.177307    23.428291   \n",
       "W000807              7.278809      0.000000    68.997086    15.331444   \n",
       "W000808             19.098259     65.846191   220.054169    20.336975   \n",
       "W000809            137.310364     65.653656   139.201355    39.184433   \n",
       "W000810            205.292374     73.927856   790.413330   903.769104   \n",
       "W000811              1.382996      0.000000    12.161865     0.000000   \n",
       "W000812              9.251160     31.497162   390.833069    32.191895   \n",
       "W000813             34.110077    123.831055    69.580978    13.591049   \n",
       "W000814              0.000000     87.873657    94.768852    12.568359   \n",
       "W000815             29.222672     78.787292    25.778580    24.443604   \n",
       "W000816             23.396286     59.926117    30.541260    20.304398   \n",
       "W000818              0.000000      0.000000     0.000000     0.000000   \n",
       "W000819             15.474472     13.924164    42.077896    39.186836   \n",
       "W000820              1.583496     75.404053    60.047485    29.456879   \n",
       "W000821            135.948120    268.635162   130.415619    16.927917   \n",
       "W000822             22.708435     71.081551   422.445801   489.181824   \n",
       "Y000013             36.088623    450.895782   199.620453   112.192841   \n",
       "Y000031            389.899261    864.343079   722.412537   149.707886   \n",
       "Y000033            151.587280  12631.403320  2155.599121   589.827454   \n",
       "Y000062             68.887924     73.885094   218.373413   274.048920   \n",
       "Y000063             19.139633     27.129303     8.212860    38.637268   \n",
       "Y000064              7.790382    184.870239     5.996704   208.596527   \n",
       "Y000065             20.019897    100.475952   158.886597   160.780609   \n",
       "Y000066            441.453827    353.248779   121.849121    17.250244   \n",
       "Z000004              6.387573     87.423859    64.184357    83.504333   \n",
       "Z000008             12.133850     85.568550   257.516388   104.008957   \n",
       "Z000017             18.567200    253.076675    75.446808    10.015076   \n",
       "Z000018              5.436432    286.881317    66.241570    38.898132   \n",
       "\n",
       "topic_id                    70            71           72          73  \\\n",
       "speaker_bioguide                                                        \n",
       "A000014            7739.689941   5272.338867  2520.580811   27.163864   \n",
       "A000022           14340.167969    764.299133  1462.430542   49.419128   \n",
       "A000055            1083.712524   4425.603027   600.046814   52.791573   \n",
       "A000069               0.000000      3.771667    11.935303    0.000000   \n",
       "A000109             201.411575    155.494446   206.628189    5.327393   \n",
       "A000209             198.935562     42.745476    12.169846    0.000000   \n",
       "A000210           10635.322266   2567.461182  2045.397461   36.405762   \n",
       "A000211              75.140625    441.670898    59.048004    0.000000   \n",
       "A000214               0.000000     10.651520    64.468018    1.281006   \n",
       "A000215             290.439880    198.783386   403.430023    2.393890   \n",
       "A000217            1103.534180    558.158630  1861.108032   14.071159   \n",
       "A000357            1701.245605   2717.270020  4280.462891    8.188858   \n",
       "A000358            1509.580078   4324.243652   675.252502   43.641907   \n",
       "A000359              92.657562    411.083069   267.808380    1.571182   \n",
       "A000361              33.689209    348.888275    24.733444    6.580574   \n",
       "A000362             225.716660    162.076630   408.117798   11.358353   \n",
       "A000363             236.973099    612.835754   499.107788    3.133698   \n",
       "A000364               9.459229     19.824036     0.000000    0.000000   \n",
       "A000365              62.787109    393.942444    40.920715    0.000000   \n",
       "A000366             197.118164     39.609558    90.768555   16.087402   \n",
       "A000367              80.562744     51.716553    39.260132    0.000000   \n",
       "A000369               0.000000     57.643341    50.893890    3.270248   \n",
       "A000370              87.528229      2.490860   385.391022    6.425674   \n",
       "A000371              18.073242     58.354980   264.834473    0.000000   \n",
       "A000372             329.122009    147.124084   254.101654    8.962250   \n",
       "A000373              99.330811     33.386719   223.276703    4.240860   \n",
       "A000374             153.570312    340.110107    18.996216    1.423584   \n",
       "A000375              95.967529    110.056870   217.555511    0.000000   \n",
       "B000008              39.213135     20.188980    43.359192    0.000000   \n",
       "B000013            1471.059326    771.699951   666.977051  126.100952   \n",
       "...                        ...           ...          ...         ...   \n",
       "W000804             555.554321   4983.859375   211.271057   14.801804   \n",
       "W000805               0.000000     10.036011     0.000000    0.000000   \n",
       "W000806              14.878876    313.632233    45.171989    7.693039   \n",
       "W000807            2538.297363    338.162323   678.051270    0.000000   \n",
       "W000808             666.991394     76.199089  1063.584351   18.658264   \n",
       "W000809             255.770874    302.675201   125.036987    5.391960   \n",
       "W000810             450.947937    386.527954  6373.019043    4.770950   \n",
       "W000811               1.607239      0.000000   141.183655    0.000000   \n",
       "W000812             991.486511    327.306732   335.056702   19.254921   \n",
       "W000813            1968.892456    501.667969   157.231094    3.278564   \n",
       "W000814             690.052673    174.178009   423.457306    6.402710   \n",
       "W000815             876.825378    295.286255   268.233643    0.000000   \n",
       "W000816             980.203491    316.480438   199.676453    5.560974   \n",
       "W000818               0.000000      0.000000     0.000000    0.000000   \n",
       "W000819             315.257233     28.802307   404.532990    1.538086   \n",
       "W000820             199.783722     61.793304   106.434448    4.698845   \n",
       "W000821             118.882126     96.971283     0.000000    3.217163   \n",
       "W000822             646.608337    545.463013  1469.946777    4.735535   \n",
       "Y000013             333.690247    108.247375   726.214111    3.258957   \n",
       "Y000031            4251.298828  20159.722656  1049.750732  111.382713   \n",
       "Y000033            1045.556519   4074.801270  1098.859497   29.547363   \n",
       "Y000062            3519.081055    121.972183  2483.382324    9.694603   \n",
       "Y000063             557.792114     53.686829   472.598602   11.219955   \n",
       "Y000064             449.585144    214.756134   257.088501    1.431885   \n",
       "Y000065            1657.376953    183.108582  1663.826904   17.957870   \n",
       "Y000066             106.402435     66.545059    90.502426   61.961990   \n",
       "Z000004             231.504944    442.116272   461.587677    0.000000   \n",
       "Z000008            1174.638062    282.625031   220.507721   21.365967   \n",
       "Z000017            2583.783936    139.137360   353.392578   12.877190   \n",
       "Z000018             418.114349    580.105225    39.276978    2.754410   \n",
       "\n",
       "topic_id                   74  \n",
       "speaker_bioguide               \n",
       "A000014            834.686523  \n",
       "A000022           1172.055908  \n",
       "A000055           2035.535767  \n",
       "A000069            420.172638  \n",
       "A000109             14.449654  \n",
       "A000209              0.000000  \n",
       "A000210           1308.222046  \n",
       "A000211              0.000000  \n",
       "A000214              0.000000  \n",
       "A000215            277.702087  \n",
       "A000217            841.936157  \n",
       "A000357            290.072418  \n",
       "A000358            136.673691  \n",
       "A000359            105.562134  \n",
       "A000361            168.816589  \n",
       "A000362            600.416321  \n",
       "A000363           1062.118286  \n",
       "A000364              0.000000  \n",
       "A000365            114.621979  \n",
       "A000366             36.020447  \n",
       "A000367             44.011963  \n",
       "A000369             82.769867  \n",
       "A000370             61.904114  \n",
       "A000371            162.095444  \n",
       "A000372             60.555298  \n",
       "A000373             18.822601  \n",
       "A000374            658.655640  \n",
       "A000375             33.216156  \n",
       "B000008             16.018311  \n",
       "B000013           1264.090088  \n",
       "...                       ...  \n",
       "W000804            346.201447  \n",
       "W000805              0.000000  \n",
       "W000806            476.730286  \n",
       "W000807            104.857712  \n",
       "W000808             93.460663  \n",
       "W000809             17.314178  \n",
       "W000810            664.527588  \n",
       "W000811            190.067047  \n",
       "W000812            124.210648  \n",
       "W000813            190.705490  \n",
       "W000814            103.904129  \n",
       "W000815             72.344650  \n",
       "W000816            269.677673  \n",
       "W000818              0.000000  \n",
       "W000819            238.781036  \n",
       "W000820             63.390839  \n",
       "W000821             44.347473  \n",
       "W000822           1822.387085  \n",
       "Y000013              2.416992  \n",
       "Y000031           1463.991699  \n",
       "Y000033           5216.734863  \n",
       "Y000062            203.852783  \n",
       "Y000063            305.667999  \n",
       "Y000064             13.874908  \n",
       "Y000065            233.057419  \n",
       "Y000066            270.790314  \n",
       "Z000004            151.368225  \n",
       "Z000008             53.113617  \n",
       "Z000017            393.915649  \n",
       "Z000018             13.760345  \n",
       "\n",
       "[1342 rows x 75 columns]"
      ]
     },
     "execution_count": 80,
     "metadata": {},
     "output_type": "execute_result"
    }
   ],
   "source": [
    "mp_topics#.head()"
   ]
  },
  {
   "cell_type": "markdown",
   "metadata": {
    "deletable": true,
    "editable": true,
    "nbpresent": {
     "id": "61b97ac7-e01a-416a-9fa9-02d21512d559"
    }
   },
   "source": [
    "#### Now normalise words for each MP and topic by the total number of words the MP has spoken (ignoring stop words, etc)"
   ]
  },
  {
   "cell_type": "code",
   "execution_count": 132,
   "metadata": {
    "collapsed": false,
    "deletable": true,
    "editable": true,
    "nbpresent": {
     "id": "2947711c-9932-42b4-aaca-ad9a8be4f5f9"
    }
   },
   "outputs": [
    {
     "data": {
      "text/html": [
       "<div>\n",
       "<style scoped>\n",
       "    .dataframe tbody tr th:only-of-type {\n",
       "        vertical-align: middle;\n",
       "    }\n",
       "\n",
       "    .dataframe tbody tr th {\n",
       "        vertical-align: top;\n",
       "    }\n",
       "\n",
       "    .dataframe thead th {\n",
       "        text-align: right;\n",
       "    }\n",
       "</style>\n",
       "<table border=\"1\" class=\"dataframe\">\n",
       "  <thead>\n",
       "    <tr style=\"text-align: right;\">\n",
       "      <th>topic_id</th>\n",
       "      <th>healthcare</th>\n",
       "      <th>constitution</th>\n",
       "      <th>african-american history</th>\n",
       "      <th>IRS &amp; trafficking</th>\n",
       "      <th>4</th>\n",
       "      <th>infrastructure &amp; construction</th>\n",
       "      <th>6</th>\n",
       "      <th>african-americans</th>\n",
       "      <th>8</th>\n",
       "      <th>military</th>\n",
       "      <th>...</th>\n",
       "      <th>65</th>\n",
       "      <th>66</th>\n",
       "      <th>67</th>\n",
       "      <th>law</th>\n",
       "      <th>69</th>\n",
       "      <th>terrorism &amp; foreign policy</th>\n",
       "      <th>defense</th>\n",
       "      <th>voting rights &amp; democracy</th>\n",
       "      <th>73</th>\n",
       "      <th>homeland security</th>\n",
       "    </tr>\n",
       "    <tr>\n",
       "      <th>speaker_bioguide</th>\n",
       "      <th></th>\n",
       "      <th></th>\n",
       "      <th></th>\n",
       "      <th></th>\n",
       "      <th></th>\n",
       "      <th></th>\n",
       "      <th></th>\n",
       "      <th></th>\n",
       "      <th></th>\n",
       "      <th></th>\n",
       "      <th></th>\n",
       "      <th></th>\n",
       "      <th></th>\n",
       "      <th></th>\n",
       "      <th></th>\n",
       "      <th></th>\n",
       "      <th></th>\n",
       "      <th></th>\n",
       "      <th></th>\n",
       "      <th></th>\n",
       "      <th></th>\n",
       "    </tr>\n",
       "  </thead>\n",
       "  <tbody>\n",
       "    <tr>\n",
       "      <th>A000014</th>\n",
       "      <td>0.009657</td>\n",
       "      <td>0.025177</td>\n",
       "      <td>0.011271</td>\n",
       "      <td>0.006880</td>\n",
       "      <td>0.010250</td>\n",
       "      <td>0.005514</td>\n",
       "      <td>0.004715</td>\n",
       "      <td>0.002656</td>\n",
       "      <td>0.037526</td>\n",
       "      <td>0.030071</td>\n",
       "      <td>...</td>\n",
       "      <td>0.005881</td>\n",
       "      <td>0.000402</td>\n",
       "      <td>0.014576</td>\n",
       "      <td>0.008013</td>\n",
       "      <td>0.012891</td>\n",
       "      <td>0.055411</td>\n",
       "      <td>0.037747</td>\n",
       "      <td>0.018046</td>\n",
       "      <td>0.000194</td>\n",
       "      <td>0.005976</td>\n",
       "    </tr>\n",
       "    <tr>\n",
       "      <th>A000022</th>\n",
       "      <td>0.004668</td>\n",
       "      <td>0.019228</td>\n",
       "      <td>0.012664</td>\n",
       "      <td>0.002315</td>\n",
       "      <td>0.019772</td>\n",
       "      <td>0.004358</td>\n",
       "      <td>0.001628</td>\n",
       "      <td>0.011316</td>\n",
       "      <td>0.001571</td>\n",
       "      <td>0.006990</td>\n",
       "      <td>...</td>\n",
       "      <td>0.012583</td>\n",
       "      <td>0.001173</td>\n",
       "      <td>0.006849</td>\n",
       "      <td>0.004962</td>\n",
       "      <td>0.005127</td>\n",
       "      <td>0.121904</td>\n",
       "      <td>0.006497</td>\n",
       "      <td>0.012432</td>\n",
       "      <td>0.000420</td>\n",
       "      <td>0.009964</td>\n",
       "    </tr>\n",
       "    <tr>\n",
       "      <th>A000055</th>\n",
       "      <td>0.006493</td>\n",
       "      <td>0.027634</td>\n",
       "      <td>0.008894</td>\n",
       "      <td>0.003304</td>\n",
       "      <td>0.004110</td>\n",
       "      <td>0.104792</td>\n",
       "      <td>0.001172</td>\n",
       "      <td>0.015948</td>\n",
       "      <td>0.004123</td>\n",
       "      <td>0.002187</td>\n",
       "      <td>...</td>\n",
       "      <td>0.029845</td>\n",
       "      <td>0.020798</td>\n",
       "      <td>0.001960</td>\n",
       "      <td>0.008543</td>\n",
       "      <td>0.001038</td>\n",
       "      <td>0.014875</td>\n",
       "      <td>0.060745</td>\n",
       "      <td>0.008236</td>\n",
       "      <td>0.000725</td>\n",
       "      <td>0.027939</td>\n",
       "    </tr>\n",
       "    <tr>\n",
       "      <th>A000069</th>\n",
       "      <td>0.016897</td>\n",
       "      <td>0.005505</td>\n",
       "      <td>0.000000</td>\n",
       "      <td>0.003772</td>\n",
       "      <td>0.000000</td>\n",
       "      <td>0.062526</td>\n",
       "      <td>0.007356</td>\n",
       "      <td>0.001313</td>\n",
       "      <td>0.018126</td>\n",
       "      <td>0.003932</td>\n",
       "      <td>...</td>\n",
       "      <td>0.000000</td>\n",
       "      <td>0.000000</td>\n",
       "      <td>0.019407</td>\n",
       "      <td>0.007286</td>\n",
       "      <td>0.035104</td>\n",
       "      <td>0.000000</td>\n",
       "      <td>0.001175</td>\n",
       "      <td>0.003717</td>\n",
       "      <td>0.000000</td>\n",
       "      <td>0.130855</td>\n",
       "    </tr>\n",
       "    <tr>\n",
       "      <th>A000109</th>\n",
       "      <td>0.009231</td>\n",
       "      <td>0.043096</td>\n",
       "      <td>0.003283</td>\n",
       "      <td>0.011245</td>\n",
       "      <td>0.015847</td>\n",
       "      <td>0.012773</td>\n",
       "      <td>0.010978</td>\n",
       "      <td>0.001350</td>\n",
       "      <td>0.001497</td>\n",
       "      <td>0.000148</td>\n",
       "      <td>...</td>\n",
       "      <td>0.043087</td>\n",
       "      <td>0.000386</td>\n",
       "      <td>0.011338</td>\n",
       "      <td>0.005606</td>\n",
       "      <td>0.003534</td>\n",
       "      <td>0.006921</td>\n",
       "      <td>0.005344</td>\n",
       "      <td>0.007101</td>\n",
       "      <td>0.000183</td>\n",
       "      <td>0.000497</td>\n",
       "    </tr>\n",
       "  </tbody>\n",
       "</table>\n",
       "<p>5 rows × 75 columns</p>\n",
       "</div>"
      ],
      "text/plain": [
       "topic_id          healthcare  constitution  african-american history  \\\n",
       "speaker_bioguide                                                       \n",
       "A000014             0.009657      0.025177                  0.011271   \n",
       "A000022             0.004668      0.019228                  0.012664   \n",
       "A000055             0.006493      0.027634                  0.008894   \n",
       "A000069             0.016897      0.005505                  0.000000   \n",
       "A000109             0.009231      0.043096                  0.003283   \n",
       "\n",
       "topic_id          IRS & trafficking         4  infrastructure & construction  \\\n",
       "speaker_bioguide                                                               \n",
       "A000014                    0.006880  0.010250                       0.005514   \n",
       "A000022                    0.002315  0.019772                       0.004358   \n",
       "A000055                    0.003304  0.004110                       0.104792   \n",
       "A000069                    0.003772  0.000000                       0.062526   \n",
       "A000109                    0.011245  0.015847                       0.012773   \n",
       "\n",
       "topic_id                 6  african-americans         8  military  \\\n",
       "speaker_bioguide                                                    \n",
       "A000014           0.004715           0.002656  0.037526  0.030071   \n",
       "A000022           0.001628           0.011316  0.001571  0.006990   \n",
       "A000055           0.001172           0.015948  0.004123  0.002187   \n",
       "A000069           0.007356           0.001313  0.018126  0.003932   \n",
       "A000109           0.010978           0.001350  0.001497  0.000148   \n",
       "\n",
       "topic_id                ...                65        66        67       law  \\\n",
       "speaker_bioguide        ...                                                   \n",
       "A000014                 ...          0.005881  0.000402  0.014576  0.008013   \n",
       "A000022                 ...          0.012583  0.001173  0.006849  0.004962   \n",
       "A000055                 ...          0.029845  0.020798  0.001960  0.008543   \n",
       "A000069                 ...          0.000000  0.000000  0.019407  0.007286   \n",
       "A000109                 ...          0.043087  0.000386  0.011338  0.005606   \n",
       "\n",
       "topic_id                69  terrorism & foreign policy   defense  \\\n",
       "speaker_bioguide                                                   \n",
       "A000014           0.012891                    0.055411  0.037747   \n",
       "A000022           0.005127                    0.121904  0.006497   \n",
       "A000055           0.001038                    0.014875  0.060745   \n",
       "A000069           0.035104                    0.000000  0.001175   \n",
       "A000109           0.003534                    0.006921  0.005344   \n",
       "\n",
       "topic_id          voting rights & democracy        73  homeland security  \n",
       "speaker_bioguide                                                          \n",
       "A000014                            0.018046  0.000194           0.005976  \n",
       "A000022                            0.012432  0.000420           0.009964  \n",
       "A000055                            0.008236  0.000725           0.027939  \n",
       "A000069                            0.003717  0.000000           0.130855  \n",
       "A000109                            0.007101  0.000183           0.000497  \n",
       "\n",
       "[5 rows x 75 columns]"
      ]
     },
     "execution_count": 132,
     "metadata": {},
     "output_type": "execute_result"
    }
   ],
   "source": [
    "# This gives us the fraction of time MP spent on a particular subject\n",
    "normalised_mp_topics = mp_topics.div(mp_topics.sum(axis=1), axis=0).rename(columns=topic_names)\n",
    "\n",
    "normalised_mp_topics.head()"
   ]
  },
  {
   "cell_type": "code",
   "execution_count": 149,
   "metadata": {
    "collapsed": false,
    "deletable": true,
    "editable": true,
    "nbpresent": {
     "id": "fa080673-8dd2-4dd9-b6c4-7e603f46c1ea"
    },
    "scrolled": true
   },
   "outputs": [
    {
     "data": {
      "text/plain": [
       "['???',\n",
       " 'IRS & trafficking',\n",
       " 'arts',\n",
       " 'community service',\n",
       " 'constitution',\n",
       " 'entrepreneurship',\n",
       " 'financial sector',\n",
       " 'first names',\n",
       " 'gun safety & abortion',\n",
       " 'puerto rico',\n",
       " 'sports',\n",
       " 'tobacco']"
      ]
     },
     "execution_count": 149,
     "metadata": {},
     "output_type": "execute_result"
    }
   ],
   "source": [
    "# These are the labeled topics\n",
    "sorted(list(filter(lambda x: x not in sum(combinations.values(), []), topic_names.values())))"
   ]
  },
  {
   "cell_type": "code",
   "execution_count": 156,
   "metadata": {
    "collapsed": false,
    "deletable": true,
    "editable": true,
    "nbpresent": {
     "id": "04637fce-6f29-48f2-8f76-8bb82bd3fc81"
    },
    "scrolled": true
   },
   "outputs": [],
   "source": [
    "# Let's combine some topics together\n",
    "combinations = {\n",
    "    \"drugs war\": [\"drugs war\"],\n",
    "    \"border enforcement\": [\"border enforcement\"],\n",
    "    \"government budget\": [\"budget\"],\n",
    "    \"congressional terminology\": [\"congressional terminology\", \"congressional terminology+\",\n",
    "                                  \"congressional terminology++\", \"congressional terminology+++\"],\n",
    "    \"affordable housing\": [\"affordable housing\"],\n",
    "    \"african-americans\": [\"african-american history\", \"african-americans\"],\n",
    "    \"honors\": [\"honors\", \"honors+\", \"honors++\"],\n",
    "    \"healthcare\": [\"health insurance & medicare\", \"healthcare\", \"medical research\"],\n",
    "    \"veteran affairs\": [\"veteran affairs\", \"veterans\"],\n",
    "    \"iraq & afghanistan wars\": [\"iraq & afghanistan wars\"],\n",
    "    \"agriculture\": [\"agriculture\"],\n",
    "    \"child welfare\": [\"child welfare\"],\n",
    "    \"military\": [\"military\", \"defense\"],\n",
    "    \"homeland security\": [\"homeland security\", \"cybersecurity\"],\n",
    "    \"human rights in china\": [\"human rights in china\"],\n",
    "    \"foreign policy\": [\"india & pakistan\",  \"terrorism & foreign policy\", \"armenian genocide\"],\n",
    "    \"energy\": [\"energy\"],\n",
    "    \"environment\": [\"nuclear waste\", \"forestry\"],\n",
    "    \"natural disasters\": [\"natural disasters\"],\n",
    "    \"secondary education\": [\"secondary education\"],\n",
    "    \"trade\": [\"trade\"],\n",
    "    \"worker's rights\": [\"worker welfare\", \"unions\"],\n",
    "    \"democracy\": [\"voting rights & democracy\", \"law\"],\n",
    "    \"infrastructure & transportation\": [\"infrastructure & construction\", \"transportation\"],\n",
    "    \"arts\": [\"arts\"],\n",
    "    \"sports\": [\"sports\"]\n",
    "}\n",
    "\n",
    "\"\"\"\n",
    "combinations = {\n",
    "    \"congressional terminology\": [\"congressional terminology\", \"congressional terminology+\",\n",
    "                                  \"congressional terminology++\", \"congressional terminology+++\"],\n",
    "    \"middle east\": [\"israel & palestine\", \"iraq & afghanistan\"],\n",
    "    \"medicare & healthcare\": [\"medicare\", \"medicare+\", \"health insurance\", \"affordable care act (?)\", \"disease prevention\"],\n",
    "    \"veteran affairs\": [\"veteran affairs\", \"veterans\"],\n",
    "    \"honors\": [\"honors\", \"honors+\"],\n",
    "    \"environment\": [\"EPA\", \"wildlife conservation\"],\n",
    "    \"energy\": [\"energy\", \"oil & gas\"],\n",
    "    \"budget\": [\"budget\", \"fiscal policy\", \"tax\"],\n",
    "    \"labor rights\": [\"minimum wages\", \"labor relations\"]\n",
    "}\n",
    "\"\"\"\n",
    "\n",
    "\n",
    "for combination in combinations:\n",
    "    normalised_mp_topics[combination] = normalised_mp_topics[combinations[combination]].sum(axis=1)"
   ]
  },
  {
   "cell_type": "code",
   "execution_count": 157,
   "metadata": {
    "collapsed": true,
    "deletable": true,
    "editable": true,
    "nbpresent": {
     "id": "3c82f22d-3777-4079-a2e7-c5e0aea68380"
    }
   },
   "outputs": [],
   "source": [
    "# Select just a few topics\n",
    "topics_to_save = [\"congressional terminology\", \"middle east\", \"medicare & healthcare\", \"veteran affairs\",\n",
    "                  \"honors\", \"environment\", \"energy\", \"budget\", \"labor rights\", \"african-american civil rights\",\n",
    "                  \"border enforcement\", \"MURICA\", \"arts & culture\", \"agriculture\", \"FDA\", \"FEMA\", \"secondary education\", \"housing\", \"young people\"]"
   ]
  },
  {
   "cell_type": "code",
   "execution_count": 158,
   "metadata": {
    "collapsed": false,
    "deletable": true,
    "editable": true,
    "nbpresent": {
     "id": "2068693b-ffd7-40e8-b6d2-e6de7bb44cea"
    }
   },
   "outputs": [],
   "source": [
    "topics_to_save = list(combinations.keys())"
   ]
  },
  {
   "cell_type": "code",
   "execution_count": 159,
   "metadata": {
    "collapsed": false,
    "deletable": true,
    "editable": true,
    "nbpresent": {
     "id": "3a1e85f4-bb68-4d9b-9c3b-8178d0d44d25"
    },
    "scrolled": true
   },
   "outputs": [],
   "source": [
    "a = normalised_mp_topics\\\n",
    "    .reset_index()\\\n",
    "    .fillna(0)\\\n",
    "    .join(members, on=\"speaker_bioguide\")\n",
    "\n",
    "a = a[topics_to_save + [\"gender\"]].groupby(\"gender\")\\\n",
    "    .median()\\\n",
    "    .T.rename(columns={\"M\":\"male\", \"F\":\"female\"})\n",
    "    \n",
    "a.index.names = [\"topic\"]\n",
    "a.columns.name = \"\"\n",
    "\n",
    "# Use log scale to compress numbers\n",
    "a = np.log10(a)\n",
    "\n",
    "# Save to csv for viz\n",
    "a.to_csv(\"topic_medians.csv\", float_format=\"%.2f\")"
   ]
  },
  {
   "cell_type": "code",
   "execution_count": 160,
   "metadata": {
    "collapsed": false,
    "deletable": true,
    "editable": true,
    "nbpresent": {
     "id": "6a4e57c5-99a8-4cb1-a003-f56aeff49dc9"
    }
   },
   "outputs": [
    {
     "name": "stderr",
     "output_type": "stream",
     "text": [
      "/home/durand/Stuff/Sources/anaconda3/envs/nlp/lib/python3.6/site-packages/ipykernel/__main__.py:7: RuntimeWarning:\n",
      "\n",
      "divide by zero encountered in log10\n",
      "\n"
     ]
    }
   ],
   "source": [
    "a = normalised_mp_topics\\\n",
    "    .reset_index()\\\n",
    "    .fillna(0)\\\n",
    "    .join(members, on=\"speaker_bioguide\")\n",
    "\n",
    "# Sort topics by gender polarisation\n",
    "# Only use topics that have names assigned\n",
    "topic_sorter = list(a[topics_to_save + [\"gender\"]]\\\n",
    "                    .groupby(\"gender\")\\\n",
    "                    .median()\\\n",
    "                    .diff()\\\n",
    "                    .iloc[1]\\\n",
    "                    .sort_values(ascending=False)\\\n",
    "                    .index)\n",
    "# Convert values to log10 to store higher precision with less data\n",
    "a[topics_to_save] = np.log10(a[topics_to_save])\n",
    "\n",
    "a = a.rename(columns={\"speaker_bioguide\":\"id\"})\n",
    "a.gender = (a[\"gender\"] == \"F\").astype(int)\n",
    "a = a[[\"id\", \"full_name\", \"party\", \"gender\"] + topic_sorter]\\\n",
    "    .sort_values([\"party\", \"gender\"])\n",
    "\n",
    "a.to_csv(\"mp_topic_fraction.csv\", index=False, float_format=\"%.2f\")"
   ]
  },
  {
   "cell_type": "code",
   "execution_count": 161,
   "metadata": {
    "collapsed": false,
    "deletable": true,
    "editable": true,
    "nbpresent": {
     "id": "8193d0a2-0dc3-47cc-ae18-682a984355cf"
    },
    "scrolled": false
   },
   "outputs": [
    {
     "data": {
      "text/html": [
       "\n",
       "        <iframe\n",
       "            width=\"1300\"\n",
       "            height=\"1000\"\n",
       "            src=\"violin_plot.html\"\n",
       "            frameborder=\"0\"\n",
       "            allowfullscreen\n",
       "        ></iframe>\n",
       "        "
      ],
      "text/plain": [
       "<IPython.lib.display.IFrame at 0x7fce078ae908>"
      ]
     },
     "execution_count": 161,
     "metadata": {},
     "output_type": "execute_result"
    }
   ],
   "source": [
    "from IPython.display import IFrame\n",
    "IFrame(src=\"violin_plot.html\", width=1300, height=1000)"
   ]
  },
  {
   "cell_type": "markdown",
   "metadata": {
    "deletable": true,
    "editable": true,
    "nbpresent": {
     "id": "1252e27e-2395-4dba-b86e-68e302fccfb7"
    }
   },
   "source": [
    "## How are topics segregated by gender?"
   ]
  },
  {
   "cell_type": "code",
   "execution_count": 162,
   "metadata": {
    "collapsed": false,
    "deletable": true,
    "editable": true,
    "nbpresent": {
     "id": "2aa13387-b9f9-4632-b279-2b7ff5ba372c"
    },
    "scrolled": true
   },
   "outputs": [],
   "source": [
    "clustered_mps = normalised_mp_topics.join(members, how=\"inner\")"
   ]
  },
  {
   "cell_type": "markdown",
   "metadata": {
    "deletable": true,
    "editable": true,
    "nbpresent": {
     "id": "5ae7a8a3-e227-49bc-b374-c0c9618a3525"
    }
   },
   "source": [
    "### All parties"
   ]
  },
  {
   "cell_type": "code",
   "execution_count": 163,
   "metadata": {
    "collapsed": false,
    "deletable": true,
    "editable": true,
    "nbpresent": {
     "id": "e8ce2fee-3c67-445a-8db7-10b5fc735967"
    }
   },
   "outputs": [
    {
     "data": {
      "application/vnd.plotly.v1+json": {
       "data": [
        {
         "marker": {
          "color": "rgba(226, 74, 51, 0.6)",
          "line": {
           "color": "rgba(226, 74, 51, 1.0)",
           "width": 1
          }
         },
         "name": "F",
         "orientation": "v",
         "text": "",
         "type": "bar",
         "x": [
          "congressional terminology",
          "government budget",
          "military",
          "foreign policy",
          "border enforcement",
          "agriculture",
          "trade",
          "iraq & afghanistan wars",
          "drugs war",
          "arts",
          "sports",
          "human rights in china",
          "energy",
          "affordable housing",
          "environment",
          "infrastructure & transportation",
          "natural disasters",
          "democracy",
          "african-americans",
          "secondary education",
          "homeland security",
          "child welfare",
          "veteran affairs",
          "worker's rights",
          "honors",
          "healthcare"
         ],
         "y": [
          "",
          "",
          "",
          "",
          "",
          "",
          "",
          "",
          "",
          "",
          "",
          "",
          "",
          "",
          "",
          "",
          "",
          "",
          "",
          "",
          "",
          "",
          "",
          "",
          "",
          ""
         ]
        },
        {
         "marker": {
          "color": "rgba(62, 111, 176, 0.6)",
          "line": {
           "color": "rgba(62, 111, 176, 1.0)",
           "width": 1
          }
         },
         "name": "M",
         "orientation": "v",
         "text": "",
         "type": "bar",
         "x": [
          "congressional terminology",
          "government budget",
          "military",
          "foreign policy",
          "border enforcement",
          "agriculture",
          "trade",
          "iraq & afghanistan wars",
          "drugs war",
          "arts",
          "sports",
          "human rights in china",
          "energy",
          "affordable housing",
          "environment",
          "infrastructure & transportation",
          "natural disasters",
          "democracy",
          "african-americans",
          "secondary education",
          "homeland security",
          "child welfare",
          "veteran affairs",
          "worker's rights",
          "honors",
          "healthcare"
         ],
         "y": [
          0.054137542843818665,
          0.006961682811379433,
          0.0018512662500143051,
          0.0011372938752174377,
          0.0008032787591218948,
          0.0007753320969641209,
          0.0006380081176757812,
          0.00014081038534641266,
          -8.68096249178052e-05,
          -0.00016053818399086595,
          -0.0003775758668780327,
          -0.00045784073881804943,
          -0.0009603872895240784,
          -0.0018375450745224953,
          -0.001855325885117054,
          -0.0018624141812324524,
          -0.0031731119379401207,
          -0.003545193001627922,
          -0.0040127672255039215,
          -0.005112078040838242,
          -0.006011107936501503,
          -0.00724455900490284,
          -0.0075951144099235535,
          -0.008165356703102589,
          -0.011193349957466125,
          -0.0848597064614296
         ]
        }
       ],
       "layout": {
        "legend": {
         "bgcolor": "#FFFFFF",
         "font": {
          "color": "#666666"
         }
        },
        "paper_bgcolor": "#FFFFFF",
        "plot_bgcolor": "#E5E5E5",
        "titlefont": {
         "color": "#151516"
        },
        "xaxis1": {
         "gridcolor": "#F6F6F6",
         "showgrid": true,
         "tickfont": {
          "color": "#666666"
         },
         "title": "",
         "titlefont": {
          "color": "#666666"
         },
         "zerolinecolor": "#F6F6F6"
        },
        "yaxis1": {
         "gridcolor": "#F6F6F6",
         "showgrid": true,
         "tickfont": {
          "color": "#666666"
         },
         "title": "",
         "titlefont": {
          "color": "#666666"
         },
         "zerolinecolor": "#F6F6F6"
        }
       }
      },
      "text/html": [
       "<div id=\"8c3644c0-b09f-4703-9763-6b7aa53c3b89\" style=\"height: 525px; width: 100%;\" class=\"plotly-graph-div\"></div><script type=\"text/javascript\">require([\"plotly\"], function(Plotly) { window.PLOTLYENV=window.PLOTLYENV || {};window.PLOTLYENV.BASE_URL=\"https://plot.ly\";Plotly.newPlot(\"8c3644c0-b09f-4703-9763-6b7aa53c3b89\", [{\"type\": \"bar\", \"x\": [\"congressional terminology\", \"government budget\", \"military\", \"foreign policy\", \"border enforcement\", \"agriculture\", \"trade\", \"iraq & afghanistan wars\", \"drugs war\", \"arts\", \"sports\", \"human rights in china\", \"energy\", \"affordable housing\", \"environment\", \"infrastructure & transportation\", \"natural disasters\", \"democracy\", \"african-americans\", \"secondary education\", \"homeland security\", \"child welfare\", \"veteran affairs\", \"worker's rights\", \"honors\", \"healthcare\"], \"y\": [\"\", \"\", \"\", \"\", \"\", \"\", \"\", \"\", \"\", \"\", \"\", \"\", \"\", \"\", \"\", \"\", \"\", \"\", \"\", \"\", \"\", \"\", \"\", \"\", \"\", \"\"], \"name\": \"F\", \"text\": \"\", \"marker\": {\"color\": \"rgba(226, 74, 51, 0.6)\", \"line\": {\"color\": \"rgba(226, 74, 51, 1.0)\", \"width\": 1}}, \"orientation\": \"v\"}, {\"type\": \"bar\", \"x\": [\"congressional terminology\", \"government budget\", \"military\", \"foreign policy\", \"border enforcement\", \"agriculture\", \"trade\", \"iraq & afghanistan wars\", \"drugs war\", \"arts\", \"sports\", \"human rights in china\", \"energy\", \"affordable housing\", \"environment\", \"infrastructure & transportation\", \"natural disasters\", \"democracy\", \"african-americans\", \"secondary education\", \"homeland security\", \"child welfare\", \"veteran affairs\", \"worker's rights\", \"honors\", \"healthcare\"], \"y\": [0.054137542843818665, 0.006961682811379433, 0.0018512662500143051, 0.0011372938752174377, 0.0008032787591218948, 0.0007753320969641209, 0.0006380081176757812, 0.00014081038534641266, -8.68096249178052e-05, -0.00016053818399086595, -0.0003775758668780327, -0.00045784073881804943, -0.0009603872895240784, -0.0018375450745224953, -0.001855325885117054, -0.0018624141812324524, -0.0031731119379401207, -0.003545193001627922, -0.0040127672255039215, -0.005112078040838242, -0.006011107936501503, -0.00724455900490284, -0.0075951144099235535, -0.008165356703102589, -0.011193349957466125, -0.0848597064614296], \"name\": \"M\", \"text\": \"\", \"marker\": {\"color\": \"rgba(62, 111, 176, 0.6)\", \"line\": {\"color\": \"rgba(62, 111, 176, 1.0)\", \"width\": 1}}, \"orientation\": \"v\"}], {\"legend\": {\"bgcolor\": \"#FFFFFF\", \"font\": {\"color\": \"#666666\"}}, \"paper_bgcolor\": \"#FFFFFF\", \"plot_bgcolor\": \"#E5E5E5\", \"yaxis1\": {\"tickfont\": {\"color\": \"#666666\"}, \"gridcolor\": \"#F6F6F6\", \"titlefont\": {\"color\": \"#666666\"}, \"zerolinecolor\": \"#F6F6F6\", \"showgrid\": true, \"title\": \"\"}, \"xaxis1\": {\"tickfont\": {\"color\": \"#666666\"}, \"gridcolor\": \"#F6F6F6\", \"titlefont\": {\"color\": \"#666666\"}, \"zerolinecolor\": \"#F6F6F6\", \"showgrid\": true, \"title\": \"\"}, \"titlefont\": {\"color\": \"#151516\"}}, {\"showLink\": true, \"linkText\": \"Export to plot.ly\"})});</script>"
      ],
      "text/vnd.plotly.v1+html": [
       "<div id=\"8c3644c0-b09f-4703-9763-6b7aa53c3b89\" style=\"height: 525px; width: 100%;\" class=\"plotly-graph-div\"></div><script type=\"text/javascript\">require([\"plotly\"], function(Plotly) { window.PLOTLYENV=window.PLOTLYENV || {};window.PLOTLYENV.BASE_URL=\"https://plot.ly\";Plotly.newPlot(\"8c3644c0-b09f-4703-9763-6b7aa53c3b89\", [{\"type\": \"bar\", \"x\": [\"congressional terminology\", \"government budget\", \"military\", \"foreign policy\", \"border enforcement\", \"agriculture\", \"trade\", \"iraq & afghanistan wars\", \"drugs war\", \"arts\", \"sports\", \"human rights in china\", \"energy\", \"affordable housing\", \"environment\", \"infrastructure & transportation\", \"natural disasters\", \"democracy\", \"african-americans\", \"secondary education\", \"homeland security\", \"child welfare\", \"veteran affairs\", \"worker's rights\", \"honors\", \"healthcare\"], \"y\": [\"\", \"\", \"\", \"\", \"\", \"\", \"\", \"\", \"\", \"\", \"\", \"\", \"\", \"\", \"\", \"\", \"\", \"\", \"\", \"\", \"\", \"\", \"\", \"\", \"\", \"\"], \"name\": \"F\", \"text\": \"\", \"marker\": {\"color\": \"rgba(226, 74, 51, 0.6)\", \"line\": {\"color\": \"rgba(226, 74, 51, 1.0)\", \"width\": 1}}, \"orientation\": \"v\"}, {\"type\": \"bar\", \"x\": [\"congressional terminology\", \"government budget\", \"military\", \"foreign policy\", \"border enforcement\", \"agriculture\", \"trade\", \"iraq & afghanistan wars\", \"drugs war\", \"arts\", \"sports\", \"human rights in china\", \"energy\", \"affordable housing\", \"environment\", \"infrastructure & transportation\", \"natural disasters\", \"democracy\", \"african-americans\", \"secondary education\", \"homeland security\", \"child welfare\", \"veteran affairs\", \"worker's rights\", \"honors\", \"healthcare\"], \"y\": [0.054137542843818665, 0.006961682811379433, 0.0018512662500143051, 0.0011372938752174377, 0.0008032787591218948, 0.0007753320969641209, 0.0006380081176757812, 0.00014081038534641266, -8.68096249178052e-05, -0.00016053818399086595, -0.0003775758668780327, -0.00045784073881804943, -0.0009603872895240784, -0.0018375450745224953, -0.001855325885117054, -0.0018624141812324524, -0.0031731119379401207, -0.003545193001627922, -0.0040127672255039215, -0.005112078040838242, -0.006011107936501503, -0.00724455900490284, -0.0075951144099235535, -0.008165356703102589, -0.011193349957466125, -0.0848597064614296], \"name\": \"M\", \"text\": \"\", \"marker\": {\"color\": \"rgba(62, 111, 176, 0.6)\", \"line\": {\"color\": \"rgba(62, 111, 176, 1.0)\", \"width\": 1}}, \"orientation\": \"v\"}], {\"legend\": {\"bgcolor\": \"#FFFFFF\", \"font\": {\"color\": \"#666666\"}}, \"paper_bgcolor\": \"#FFFFFF\", \"plot_bgcolor\": \"#E5E5E5\", \"yaxis1\": {\"tickfont\": {\"color\": \"#666666\"}, \"gridcolor\": \"#F6F6F6\", \"titlefont\": {\"color\": \"#666666\"}, \"zerolinecolor\": \"#F6F6F6\", \"showgrid\": true, \"title\": \"\"}, \"xaxis1\": {\"tickfont\": {\"color\": \"#666666\"}, \"gridcolor\": \"#F6F6F6\", \"titlefont\": {\"color\": \"#666666\"}, \"zerolinecolor\": \"#F6F6F6\", \"showgrid\": true, \"title\": \"\"}, \"titlefont\": {\"color\": \"#151516\"}}, {\"showLink\": true, \"linkText\": \"Export to plot.ly\"})});</script>"
      ]
     },
     "metadata": {},
     "output_type": "display_data"
    }
   ],
   "source": [
    "clustered_mps\\\n",
    "    .groupby(\"gender\")\\\n",
    "    .median()\\\n",
    "    .diff()\\\n",
    "    .rename(columns=lambda x: topic_dict(x))[topic_sorter]\\\n",
    "    .T\\\n",
    "    .iplot(kind=\"bar\")"
   ]
  },
  {
   "cell_type": "markdown",
   "metadata": {
    "deletable": true,
    "editable": true,
    "nbpresent": {
     "id": "2ba6bf81-aa4e-4be2-ba56-77f731289864"
    }
   },
   "source": [
    "### Republicans"
   ]
  },
  {
   "cell_type": "code",
   "execution_count": 91,
   "metadata": {
    "collapsed": false,
    "deletable": true,
    "editable": true,
    "nbpresent": {
     "id": "065f5570-b99a-45ce-8cf0-f528674aeaa2"
    }
   },
   "outputs": [
    {
     "data": {
      "application/vnd.plotly.v1+json": {
       "data": [
        {
         "marker": {
          "color": "rgba(226, 74, 51, 0.6)",
          "line": {
           "color": "rgba(226, 74, 51, 1.0)",
           "width": 1
          }
         },
         "name": "F",
         "orientation": "v",
         "text": "",
         "type": "bar",
         "x": [
          "government budget",
          "congressional terminology",
          "foreign policy",
          "border enforcement",
          "agriculture",
          "trade",
          "iraq & afghanistan wars",
          "drugs war",
          "military",
          "human rights in china",
          "energy",
          "homeland security",
          "affordable housing",
          "environment",
          "infrastructure & transportation",
          "natural disasters",
          "african-americans",
          "democracy",
          "veteran affairs",
          "secondary education",
          "honors",
          "child welfare",
          "worker's rights",
          "healthcare"
         ],
         "y": [
          "",
          "",
          "",
          "",
          "",
          "",
          "",
          "",
          "",
          "",
          "",
          "",
          "",
          "",
          "",
          "",
          "",
          "",
          "",
          "",
          "",
          "",
          "",
          ""
         ]
        },
        {
         "marker": {
          "color": "rgba(62, 111, 176, 0.6)",
          "line": {
           "color": "rgba(62, 111, 176, 1.0)",
           "width": 1
          }
         },
         "name": "M",
         "orientation": "v",
         "text": "",
         "type": "bar",
         "x": [
          "government budget",
          "congressional terminology",
          "foreign policy",
          "border enforcement",
          "agriculture",
          "trade",
          "iraq & afghanistan wars",
          "drugs war",
          "military",
          "human rights in china",
          "energy",
          "homeland security",
          "affordable housing",
          "environment",
          "infrastructure & transportation",
          "natural disasters",
          "african-americans",
          "democracy",
          "veteran affairs",
          "secondary education",
          "honors",
          "child welfare",
          "worker's rights",
          "healthcare"
         ],
         "y": [
          0.010898249223828316,
          0.00736323744058609,
          0.0010826848447322845,
          0.0029740436002612114,
          0.0007981793023645878,
          0.001247047446668148,
          -0.00043322984129190445,
          0.00010197493247687817,
          -0.0007792403921484947,
          -0.0001590178580954671,
          0.0009024105966091156,
          -0.00035442085936665535,
          -0.0005728558171540499,
          0.0005321633070707321,
          -0.0006340537220239639,
          -0.001690851990133524,
          -0.0011393791064620018,
          -0.0002123359590768814,
          -0.009265763685107231,
          0.001967126503586769,
          -0.00827869027853012,
          -0.005730855744332075,
          -0.004594244994223118,
          -0.0258568674325943
         ]
        }
       ],
       "layout": {
        "legend": {
         "bgcolor": "#FFFFFF",
         "font": {
          "color": "#666666"
         }
        },
        "paper_bgcolor": "#FFFFFF",
        "plot_bgcolor": "#E5E5E5",
        "titlefont": {
         "color": "#151516"
        },
        "xaxis1": {
         "gridcolor": "#F6F6F6",
         "showgrid": true,
         "tickfont": {
          "color": "#666666"
         },
         "title": "",
         "titlefont": {
          "color": "#666666"
         },
         "zerolinecolor": "#F6F6F6"
        },
        "yaxis1": {
         "gridcolor": "#F6F6F6",
         "showgrid": true,
         "tickfont": {
          "color": "#666666"
         },
         "title": "",
         "titlefont": {
          "color": "#666666"
         },
         "zerolinecolor": "#F6F6F6"
        }
       }
      },
      "text/html": [
       "<div id=\"0dc57e97-2fa9-4b29-be2b-fdefeb6c503d\" style=\"height: 525px; width: 100%;\" class=\"plotly-graph-div\"></div><script type=\"text/javascript\">require([\"plotly\"], function(Plotly) { window.PLOTLYENV=window.PLOTLYENV || {};window.PLOTLYENV.BASE_URL=\"https://plot.ly\";Plotly.newPlot(\"0dc57e97-2fa9-4b29-be2b-fdefeb6c503d\", [{\"type\": \"bar\", \"x\": [\"government budget\", \"congressional terminology\", \"foreign policy\", \"border enforcement\", \"agriculture\", \"trade\", \"iraq & afghanistan wars\", \"drugs war\", \"military\", \"human rights in china\", \"energy\", \"homeland security\", \"affordable housing\", \"environment\", \"infrastructure & transportation\", \"natural disasters\", \"african-americans\", \"democracy\", \"veteran affairs\", \"secondary education\", \"honors\", \"child welfare\", \"worker's rights\", \"healthcare\"], \"y\": [\"\", \"\", \"\", \"\", \"\", \"\", \"\", \"\", \"\", \"\", \"\", \"\", \"\", \"\", \"\", \"\", \"\", \"\", \"\", \"\", \"\", \"\", \"\", \"\"], \"name\": \"F\", \"text\": \"\", \"marker\": {\"color\": \"rgba(226, 74, 51, 0.6)\", \"line\": {\"color\": \"rgba(226, 74, 51, 1.0)\", \"width\": 1}}, \"orientation\": \"v\"}, {\"type\": \"bar\", \"x\": [\"government budget\", \"congressional terminology\", \"foreign policy\", \"border enforcement\", \"agriculture\", \"trade\", \"iraq & afghanistan wars\", \"drugs war\", \"military\", \"human rights in china\", \"energy\", \"homeland security\", \"affordable housing\", \"environment\", \"infrastructure & transportation\", \"natural disasters\", \"african-americans\", \"democracy\", \"veteran affairs\", \"secondary education\", \"honors\", \"child welfare\", \"worker's rights\", \"healthcare\"], \"y\": [0.010898249223828316, 0.00736323744058609, 0.0010826848447322845, 0.0029740436002612114, 0.0007981793023645878, 0.001247047446668148, -0.00043322984129190445, 0.00010197493247687817, -0.0007792403921484947, -0.0001590178580954671, 0.0009024105966091156, -0.00035442085936665535, -0.0005728558171540499, 0.0005321633070707321, -0.0006340537220239639, -0.001690851990133524, -0.0011393791064620018, -0.0002123359590768814, -0.009265763685107231, 0.001967126503586769, -0.00827869027853012, -0.005730855744332075, -0.004594244994223118, -0.0258568674325943], \"name\": \"M\", \"text\": \"\", \"marker\": {\"color\": \"rgba(62, 111, 176, 0.6)\", \"line\": {\"color\": \"rgba(62, 111, 176, 1.0)\", \"width\": 1}}, \"orientation\": \"v\"}], {\"legend\": {\"bgcolor\": \"#FFFFFF\", \"font\": {\"color\": \"#666666\"}}, \"paper_bgcolor\": \"#FFFFFF\", \"plot_bgcolor\": \"#E5E5E5\", \"yaxis1\": {\"tickfont\": {\"color\": \"#666666\"}, \"gridcolor\": \"#F6F6F6\", \"titlefont\": {\"color\": \"#666666\"}, \"zerolinecolor\": \"#F6F6F6\", \"showgrid\": true, \"title\": \"\"}, \"xaxis1\": {\"tickfont\": {\"color\": \"#666666\"}, \"gridcolor\": \"#F6F6F6\", \"titlefont\": {\"color\": \"#666666\"}, \"zerolinecolor\": \"#F6F6F6\", \"showgrid\": true, \"title\": \"\"}, \"titlefont\": {\"color\": \"#151516\"}}, {\"showLink\": true, \"linkText\": \"Export to plot.ly\"})});</script>"
      ],
      "text/vnd.plotly.v1+html": [
       "<div id=\"0dc57e97-2fa9-4b29-be2b-fdefeb6c503d\" style=\"height: 525px; width: 100%;\" class=\"plotly-graph-div\"></div><script type=\"text/javascript\">require([\"plotly\"], function(Plotly) { window.PLOTLYENV=window.PLOTLYENV || {};window.PLOTLYENV.BASE_URL=\"https://plot.ly\";Plotly.newPlot(\"0dc57e97-2fa9-4b29-be2b-fdefeb6c503d\", [{\"type\": \"bar\", \"x\": [\"government budget\", \"congressional terminology\", \"foreign policy\", \"border enforcement\", \"agriculture\", \"trade\", \"iraq & afghanistan wars\", \"drugs war\", \"military\", \"human rights in china\", \"energy\", \"homeland security\", \"affordable housing\", \"environment\", \"infrastructure & transportation\", \"natural disasters\", \"african-americans\", \"democracy\", \"veteran affairs\", \"secondary education\", \"honors\", \"child welfare\", \"worker's rights\", \"healthcare\"], \"y\": [\"\", \"\", \"\", \"\", \"\", \"\", \"\", \"\", \"\", \"\", \"\", \"\", \"\", \"\", \"\", \"\", \"\", \"\", \"\", \"\", \"\", \"\", \"\", \"\"], \"name\": \"F\", \"text\": \"\", \"marker\": {\"color\": \"rgba(226, 74, 51, 0.6)\", \"line\": {\"color\": \"rgba(226, 74, 51, 1.0)\", \"width\": 1}}, \"orientation\": \"v\"}, {\"type\": \"bar\", \"x\": [\"government budget\", \"congressional terminology\", \"foreign policy\", \"border enforcement\", \"agriculture\", \"trade\", \"iraq & afghanistan wars\", \"drugs war\", \"military\", \"human rights in china\", \"energy\", \"homeland security\", \"affordable housing\", \"environment\", \"infrastructure & transportation\", \"natural disasters\", \"african-americans\", \"democracy\", \"veteran affairs\", \"secondary education\", \"honors\", \"child welfare\", \"worker's rights\", \"healthcare\"], \"y\": [0.010898249223828316, 0.00736323744058609, 0.0010826848447322845, 0.0029740436002612114, 0.0007981793023645878, 0.001247047446668148, -0.00043322984129190445, 0.00010197493247687817, -0.0007792403921484947, -0.0001590178580954671, 0.0009024105966091156, -0.00035442085936665535, -0.0005728558171540499, 0.0005321633070707321, -0.0006340537220239639, -0.001690851990133524, -0.0011393791064620018, -0.0002123359590768814, -0.009265763685107231, 0.001967126503586769, -0.00827869027853012, -0.005730855744332075, -0.004594244994223118, -0.0258568674325943], \"name\": \"M\", \"text\": \"\", \"marker\": {\"color\": \"rgba(62, 111, 176, 0.6)\", \"line\": {\"color\": \"rgba(62, 111, 176, 1.0)\", \"width\": 1}}, \"orientation\": \"v\"}], {\"legend\": {\"bgcolor\": \"#FFFFFF\", \"font\": {\"color\": \"#666666\"}}, \"paper_bgcolor\": \"#FFFFFF\", \"plot_bgcolor\": \"#E5E5E5\", \"yaxis1\": {\"tickfont\": {\"color\": \"#666666\"}, \"gridcolor\": \"#F6F6F6\", \"titlefont\": {\"color\": \"#666666\"}, \"zerolinecolor\": \"#F6F6F6\", \"showgrid\": true, \"title\": \"\"}, \"xaxis1\": {\"tickfont\": {\"color\": \"#666666\"}, \"gridcolor\": \"#F6F6F6\", \"titlefont\": {\"color\": \"#666666\"}, \"zerolinecolor\": \"#F6F6F6\", \"showgrid\": true, \"title\": \"\"}, \"titlefont\": {\"color\": \"#151516\"}}, {\"showLink\": true, \"linkText\": \"Export to plot.ly\"})});</script>"
      ]
     },
     "metadata": {},
     "output_type": "display_data"
    }
   ],
   "source": [
    "clustered_mps\\\n",
    "    .query(\"party=='Republican'\")\\\n",
    "    .groupby(\"gender\")\\\n",
    "    .median()\\\n",
    "    .diff()\\\n",
    "    .rename(columns=lambda x: topic_dict(x))[topic_sorter]\\\n",
    "    .T\\\n",
    "    .iplot(kind=\"bar\")"
   ]
  },
  {
   "cell_type": "markdown",
   "metadata": {
    "deletable": true,
    "editable": true,
    "nbpresent": {
     "id": "992cafc9-1b67-42af-be71-a08bd11b7b53"
    }
   },
   "source": [
    "### Democrats"
   ]
  },
  {
   "cell_type": "code",
   "execution_count": 92,
   "metadata": {
    "collapsed": false,
    "deletable": true,
    "editable": true,
    "nbpresent": {
     "id": "b7650635-c651-495c-bd78-9bce001cfad5"
    }
   },
   "outputs": [
    {
     "data": {
      "application/vnd.plotly.v1+json": {
       "data": [
        {
         "marker": {
          "color": "rgba(226, 74, 51, 0.6)",
          "line": {
           "color": "rgba(226, 74, 51, 1.0)",
           "width": 1
          }
         },
         "name": "F",
         "orientation": "v",
         "text": "",
         "type": "bar",
         "x": [
          "government budget",
          "congressional terminology",
          "foreign policy",
          "border enforcement",
          "agriculture",
          "trade",
          "iraq & afghanistan wars",
          "drugs war",
          "military",
          "human rights in china",
          "energy",
          "homeland security",
          "affordable housing",
          "environment",
          "infrastructure & transportation",
          "natural disasters",
          "african-americans",
          "democracy",
          "veteran affairs",
          "secondary education",
          "honors",
          "child welfare",
          "worker's rights",
          "healthcare"
         ],
         "y": [
          "",
          "",
          "",
          "",
          "",
          "",
          "",
          "",
          "",
          "",
          "",
          "",
          "",
          "",
          "",
          "",
          "",
          "",
          "",
          "",
          "",
          "",
          "",
          ""
         ]
        },
        {
         "marker": {
          "color": "rgba(62, 111, 176, 0.6)",
          "line": {
           "color": "rgba(62, 111, 176, 1.0)",
           "width": 1
          }
         },
         "name": "M",
         "orientation": "v",
         "text": "",
         "type": "bar",
         "x": [
          "government budget",
          "congressional terminology",
          "foreign policy",
          "border enforcement",
          "agriculture",
          "trade",
          "iraq & afghanistan wars",
          "drugs war",
          "military",
          "human rights in china",
          "energy",
          "homeland security",
          "affordable housing",
          "environment",
          "infrastructure & transportation",
          "natural disasters",
          "african-americans",
          "democracy",
          "veteran affairs",
          "secondary education",
          "honors",
          "child welfare",
          "worker's rights",
          "healthcare"
         ],
         "y": [
          0.003811303526163101,
          0.004532933235168457,
          0.00027149543166160583,
          -0.00020481925457715988,
          0.0005226992070674896,
          0.002382407896220684,
          0.0005736174061894417,
          -0.00022645620629191399,
          -0.0005339514464139938,
          -7.906416431069374e-05,
          -0.0024225604720413685,
          -0.0030569559894502163,
          -0.0017561470158398151,
          -0.0019901590421795845,
          -0.002368762157857418,
          -0.0032077967189252377,
          -0.004045888781547546,
          -0.00427497923374176,
          -0.0034834668040275574,
          -0.006644373759627342,
          0.0013373643159866333,
          -0.007224363274872303,
          -0.008599606342613697,
          -0.03527555614709854
         ]
        }
       ],
       "layout": {
        "legend": {
         "bgcolor": "#FFFFFF",
         "font": {
          "color": "#666666"
         }
        },
        "paper_bgcolor": "#FFFFFF",
        "plot_bgcolor": "#E5E5E5",
        "titlefont": {
         "color": "#151516"
        },
        "xaxis1": {
         "gridcolor": "#F6F6F6",
         "showgrid": true,
         "tickfont": {
          "color": "#666666"
         },
         "title": "",
         "titlefont": {
          "color": "#666666"
         },
         "zerolinecolor": "#F6F6F6"
        },
        "yaxis1": {
         "gridcolor": "#F6F6F6",
         "showgrid": true,
         "tickfont": {
          "color": "#666666"
         },
         "title": "",
         "titlefont": {
          "color": "#666666"
         },
         "zerolinecolor": "#F6F6F6"
        }
       }
      },
      "text/html": [
       "<div id=\"04a7c92f-0f0e-4219-8e3b-efd8ec5d202f\" style=\"height: 525px; width: 100%;\" class=\"plotly-graph-div\"></div><script type=\"text/javascript\">require([\"plotly\"], function(Plotly) { window.PLOTLYENV=window.PLOTLYENV || {};window.PLOTLYENV.BASE_URL=\"https://plot.ly\";Plotly.newPlot(\"04a7c92f-0f0e-4219-8e3b-efd8ec5d202f\", [{\"type\": \"bar\", \"x\": [\"government budget\", \"congressional terminology\", \"foreign policy\", \"border enforcement\", \"agriculture\", \"trade\", \"iraq & afghanistan wars\", \"drugs war\", \"military\", \"human rights in china\", \"energy\", \"homeland security\", \"affordable housing\", \"environment\", \"infrastructure & transportation\", \"natural disasters\", \"african-americans\", \"democracy\", \"veteran affairs\", \"secondary education\", \"honors\", \"child welfare\", \"worker's rights\", \"healthcare\"], \"y\": [\"\", \"\", \"\", \"\", \"\", \"\", \"\", \"\", \"\", \"\", \"\", \"\", \"\", \"\", \"\", \"\", \"\", \"\", \"\", \"\", \"\", \"\", \"\", \"\"], \"name\": \"F\", \"text\": \"\", \"marker\": {\"color\": \"rgba(226, 74, 51, 0.6)\", \"line\": {\"color\": \"rgba(226, 74, 51, 1.0)\", \"width\": 1}}, \"orientation\": \"v\"}, {\"type\": \"bar\", \"x\": [\"government budget\", \"congressional terminology\", \"foreign policy\", \"border enforcement\", \"agriculture\", \"trade\", \"iraq & afghanistan wars\", \"drugs war\", \"military\", \"human rights in china\", \"energy\", \"homeland security\", \"affordable housing\", \"environment\", \"infrastructure & transportation\", \"natural disasters\", \"african-americans\", \"democracy\", \"veteran affairs\", \"secondary education\", \"honors\", \"child welfare\", \"worker's rights\", \"healthcare\"], \"y\": [0.003811303526163101, 0.004532933235168457, 0.00027149543166160583, -0.00020481925457715988, 0.0005226992070674896, 0.002382407896220684, 0.0005736174061894417, -0.00022645620629191399, -0.0005339514464139938, -7.906416431069374e-05, -0.0024225604720413685, -0.0030569559894502163, -0.0017561470158398151, -0.0019901590421795845, -0.002368762157857418, -0.0032077967189252377, -0.004045888781547546, -0.00427497923374176, -0.0034834668040275574, -0.006644373759627342, 0.0013373643159866333, -0.007224363274872303, -0.008599606342613697, -0.03527555614709854], \"name\": \"M\", \"text\": \"\", \"marker\": {\"color\": \"rgba(62, 111, 176, 0.6)\", \"line\": {\"color\": \"rgba(62, 111, 176, 1.0)\", \"width\": 1}}, \"orientation\": \"v\"}], {\"legend\": {\"bgcolor\": \"#FFFFFF\", \"font\": {\"color\": \"#666666\"}}, \"paper_bgcolor\": \"#FFFFFF\", \"plot_bgcolor\": \"#E5E5E5\", \"yaxis1\": {\"tickfont\": {\"color\": \"#666666\"}, \"gridcolor\": \"#F6F6F6\", \"titlefont\": {\"color\": \"#666666\"}, \"zerolinecolor\": \"#F6F6F6\", \"showgrid\": true, \"title\": \"\"}, \"xaxis1\": {\"tickfont\": {\"color\": \"#666666\"}, \"gridcolor\": \"#F6F6F6\", \"titlefont\": {\"color\": \"#666666\"}, \"zerolinecolor\": \"#F6F6F6\", \"showgrid\": true, \"title\": \"\"}, \"titlefont\": {\"color\": \"#151516\"}}, {\"showLink\": true, \"linkText\": \"Export to plot.ly\"})});</script>"
      ],
      "text/vnd.plotly.v1+html": [
       "<div id=\"04a7c92f-0f0e-4219-8e3b-efd8ec5d202f\" style=\"height: 525px; width: 100%;\" class=\"plotly-graph-div\"></div><script type=\"text/javascript\">require([\"plotly\"], function(Plotly) { window.PLOTLYENV=window.PLOTLYENV || {};window.PLOTLYENV.BASE_URL=\"https://plot.ly\";Plotly.newPlot(\"04a7c92f-0f0e-4219-8e3b-efd8ec5d202f\", [{\"type\": \"bar\", \"x\": [\"government budget\", \"congressional terminology\", \"foreign policy\", \"border enforcement\", \"agriculture\", \"trade\", \"iraq & afghanistan wars\", \"drugs war\", \"military\", \"human rights in china\", \"energy\", \"homeland security\", \"affordable housing\", \"environment\", \"infrastructure & transportation\", \"natural disasters\", \"african-americans\", \"democracy\", \"veteran affairs\", \"secondary education\", \"honors\", \"child welfare\", \"worker's rights\", \"healthcare\"], \"y\": [\"\", \"\", \"\", \"\", \"\", \"\", \"\", \"\", \"\", \"\", \"\", \"\", \"\", \"\", \"\", \"\", \"\", \"\", \"\", \"\", \"\", \"\", \"\", \"\"], \"name\": \"F\", \"text\": \"\", \"marker\": {\"color\": \"rgba(226, 74, 51, 0.6)\", \"line\": {\"color\": \"rgba(226, 74, 51, 1.0)\", \"width\": 1}}, \"orientation\": \"v\"}, {\"type\": \"bar\", \"x\": [\"government budget\", \"congressional terminology\", \"foreign policy\", \"border enforcement\", \"agriculture\", \"trade\", \"iraq & afghanistan wars\", \"drugs war\", \"military\", \"human rights in china\", \"energy\", \"homeland security\", \"affordable housing\", \"environment\", \"infrastructure & transportation\", \"natural disasters\", \"african-americans\", \"democracy\", \"veteran affairs\", \"secondary education\", \"honors\", \"child welfare\", \"worker's rights\", \"healthcare\"], \"y\": [0.003811303526163101, 0.004532933235168457, 0.00027149543166160583, -0.00020481925457715988, 0.0005226992070674896, 0.002382407896220684, 0.0005736174061894417, -0.00022645620629191399, -0.0005339514464139938, -7.906416431069374e-05, -0.0024225604720413685, -0.0030569559894502163, -0.0017561470158398151, -0.0019901590421795845, -0.002368762157857418, -0.0032077967189252377, -0.004045888781547546, -0.00427497923374176, -0.0034834668040275574, -0.006644373759627342, 0.0013373643159866333, -0.007224363274872303, -0.008599606342613697, -0.03527555614709854], \"name\": \"M\", \"text\": \"\", \"marker\": {\"color\": \"rgba(62, 111, 176, 0.6)\", \"line\": {\"color\": \"rgba(62, 111, 176, 1.0)\", \"width\": 1}}, \"orientation\": \"v\"}], {\"legend\": {\"bgcolor\": \"#FFFFFF\", \"font\": {\"color\": \"#666666\"}}, \"paper_bgcolor\": \"#FFFFFF\", \"plot_bgcolor\": \"#E5E5E5\", \"yaxis1\": {\"tickfont\": {\"color\": \"#666666\"}, \"gridcolor\": \"#F6F6F6\", \"titlefont\": {\"color\": \"#666666\"}, \"zerolinecolor\": \"#F6F6F6\", \"showgrid\": true, \"title\": \"\"}, \"xaxis1\": {\"tickfont\": {\"color\": \"#666666\"}, \"gridcolor\": \"#F6F6F6\", \"titlefont\": {\"color\": \"#666666\"}, \"zerolinecolor\": \"#F6F6F6\", \"showgrid\": true, \"title\": \"\"}, \"titlefont\": {\"color\": \"#151516\"}}, {\"showLink\": true, \"linkText\": \"Export to plot.ly\"})});</script>"
      ]
     },
     "metadata": {},
     "output_type": "display_data"
    }
   ],
   "source": [
    "clustered_mps\\\n",
    "    .query(\"party=='Democrat'\")\\\n",
    "    .groupby(\"gender\")\\\n",
    "    .median()\\\n",
    "    .diff()\\\n",
    "    .rename(columns=lambda x: topic_dict(x))[topic_sorter]\\\n",
    "    .T\\\n",
    "    .iplot(kind=\"bar\")"
   ]
  },
  {
   "cell_type": "markdown",
   "metadata": {
    "deletable": true,
    "editable": true,
    "nbpresent": {
     "id": "776595ba-e87b-4db9-b7cd-a076ba693e57"
    }
   },
   "source": [
    "## Total words spoken by each gender over time"
   ]
  },
  {
   "cell_type": "code",
   "execution_count": 29,
   "metadata": {
    "collapsed": false,
    "deletable": true,
    "editable": true,
    "nbpresent": {
     "id": "c0ac0794-4e2b-4aa6-998e-e78dacf069e8"
    }
   },
   "outputs": [
    {
     "data": {
      "application/vnd.plotly.v1+json": {
       "data": [
        {
         "marker": {
          "color": "rgba(226, 74, 51, 0.6)",
          "line": {
           "color": "rgba(226, 74, 51, 1.0)",
           "width": 1
          }
         },
         "name": "('n_words', 'F')",
         "orientation": "v",
         "text": "",
         "type": "bar",
         "x": [
          "1994-12-31",
          "1995-12-31",
          "1996-12-31",
          "1997-12-31",
          "1998-12-31",
          "1999-12-31",
          "2000-12-31",
          "2001-12-31",
          "2002-12-31",
          "2003-12-31",
          "2004-12-31",
          "2005-12-31",
          "2006-12-31",
          "2007-12-31",
          "2008-12-31",
          "2009-12-31",
          "2010-12-31",
          "2011-12-31",
          "2012-12-31",
          "2013-12-31",
          "2014-12-31",
          "2015-12-31",
          "2016-12-31",
          "2017-12-31",
          "2018-12-31"
         ],
         "y": [
          0.0896841924066789,
          0.12845201984464993,
          0.1318158154780555,
          0.13123131539188385,
          0.13144276618764492,
          0.150711816337474,
          0.1442554786773916,
          0.1727707519622726,
          0.16427995777726193,
          0.17256857740739626,
          0.1685865603392261,
          0.18829797588249253,
          0.18647272897305978,
          0.19631279664224893,
          0.20429608754882198,
          0.18588772607934656,
          0.2016705957817186,
          0.21121593729781324,
          0.2006121264748349,
          0.2169827367578166,
          0.21620793632140356,
          0.2409767213764497,
          0.2470801621634126,
          0.2476441129070048,
          0.2954341621626272
         ]
        },
        {
         "marker": {
          "color": "rgba(62, 111, 176, 0.6)",
          "line": {
           "color": "rgba(62, 111, 176, 1.0)",
           "width": 1
          }
         },
         "name": "('n_words', 'M')",
         "orientation": "v",
         "text": "",
         "type": "bar",
         "x": [
          "1994-12-31",
          "1995-12-31",
          "1996-12-31",
          "1997-12-31",
          "1998-12-31",
          "1999-12-31",
          "2000-12-31",
          "2001-12-31",
          "2002-12-31",
          "2003-12-31",
          "2004-12-31",
          "2005-12-31",
          "2006-12-31",
          "2007-12-31",
          "2008-12-31",
          "2009-12-31",
          "2010-12-31",
          "2011-12-31",
          "2012-12-31",
          "2013-12-31",
          "2014-12-31",
          "2015-12-31",
          "2016-12-31",
          "2017-12-31",
          "2018-12-31"
         ],
         "y": [
          0.9103158075933211,
          0.8715479801553501,
          0.8681841845219446,
          0.8687686846081162,
          0.8685572338123551,
          0.849288183662526,
          0.8557445213226084,
          0.8272292480377273,
          0.8357200422227381,
          0.8274314225926037,
          0.8314134396607739,
          0.8117020241175075,
          0.8135272710269402,
          0.8036872033577511,
          0.795703912451178,
          0.8141122739206534,
          0.7983294042182815,
          0.7887840627021867,
          0.7993878735251652,
          0.7830172632421833,
          0.7837920636785964,
          0.7590232786235502,
          0.7529198378365874,
          0.7523558870929952,
          0.7045658378373728
         ]
        }
       ],
       "layout": {
        "barmode": "stack",
        "legend": {
         "bgcolor": "#FFFFFF",
         "font": {
          "color": "#666666"
         },
         "traceorder": "normal"
        },
        "paper_bgcolor": "#FFFFFF",
        "plot_bgcolor": "#E5E5E5",
        "titlefont": {
         "color": "#151516"
        },
        "xaxis1": {
         "gridcolor": "#F6F6F6",
         "showgrid": true,
         "tickfont": {
          "color": "#666666"
         },
         "title": "",
         "titlefont": {
          "color": "#666666"
         },
         "zerolinecolor": "#F6F6F6"
        },
        "yaxis1": {
         "gridcolor": "#F6F6F6",
         "showgrid": true,
         "tickfont": {
          "color": "#666666"
         },
         "title": "",
         "titlefont": {
          "color": "#666666"
         },
         "zerolinecolor": "#F6F6F6"
        }
       }
      },
      "text/html": [
       "<div id=\"4d63cf25-8815-4ed1-8f21-1097e0bab214\" style=\"height: 525px; width: 100%;\" class=\"plotly-graph-div\"></div><script type=\"text/javascript\">require([\"plotly\"], function(Plotly) { window.PLOTLYENV=window.PLOTLYENV || {};window.PLOTLYENV.BASE_URL=\"https://plot.ly\";Plotly.newPlot(\"4d63cf25-8815-4ed1-8f21-1097e0bab214\", [{\"type\": \"bar\", \"x\": [\"1994-12-31\", \"1995-12-31\", \"1996-12-31\", \"1997-12-31\", \"1998-12-31\", \"1999-12-31\", \"2000-12-31\", \"2001-12-31\", \"2002-12-31\", \"2003-12-31\", \"2004-12-31\", \"2005-12-31\", \"2006-12-31\", \"2007-12-31\", \"2008-12-31\", \"2009-12-31\", \"2010-12-31\", \"2011-12-31\", \"2012-12-31\", \"2013-12-31\", \"2014-12-31\", \"2015-12-31\", \"2016-12-31\", \"2017-12-31\", \"2018-12-31\"], \"y\": [0.0896841924066789, 0.12845201984464993, 0.1318158154780555, 0.13123131539188385, 0.13144276618764492, 0.150711816337474, 0.1442554786773916, 0.1727707519622726, 0.16427995777726193, 0.17256857740739626, 0.1685865603392261, 0.18829797588249253, 0.18647272897305978, 0.19631279664224893, 0.20429608754882198, 0.18588772607934656, 0.2016705957817186, 0.21121593729781324, 0.2006121264748349, 0.2169827367578166, 0.21620793632140356, 0.2409767213764497, 0.2470801621634126, 0.2476441129070048, 0.2954341621626272], \"name\": \"('n_words', 'F')\", \"text\": \"\", \"marker\": {\"color\": \"rgba(226, 74, 51, 0.6)\", \"line\": {\"color\": \"rgba(226, 74, 51, 1.0)\", \"width\": 1}}, \"orientation\": \"v\"}, {\"type\": \"bar\", \"x\": [\"1994-12-31\", \"1995-12-31\", \"1996-12-31\", \"1997-12-31\", \"1998-12-31\", \"1999-12-31\", \"2000-12-31\", \"2001-12-31\", \"2002-12-31\", \"2003-12-31\", \"2004-12-31\", \"2005-12-31\", \"2006-12-31\", \"2007-12-31\", \"2008-12-31\", \"2009-12-31\", \"2010-12-31\", \"2011-12-31\", \"2012-12-31\", \"2013-12-31\", \"2014-12-31\", \"2015-12-31\", \"2016-12-31\", \"2017-12-31\", \"2018-12-31\"], \"y\": [0.9103158075933211, 0.8715479801553501, 0.8681841845219446, 0.8687686846081162, 0.8685572338123551, 0.849288183662526, 0.8557445213226084, 0.8272292480377273, 0.8357200422227381, 0.8274314225926037, 0.8314134396607739, 0.8117020241175075, 0.8135272710269402, 0.8036872033577511, 0.795703912451178, 0.8141122739206534, 0.7983294042182815, 0.7887840627021867, 0.7993878735251652, 0.7830172632421833, 0.7837920636785964, 0.7590232786235502, 0.7529198378365874, 0.7523558870929952, 0.7045658378373728], \"name\": \"('n_words', 'M')\", \"text\": \"\", \"marker\": {\"color\": \"rgba(62, 111, 176, 0.6)\", \"line\": {\"color\": \"rgba(62, 111, 176, 1.0)\", \"width\": 1}}, \"orientation\": \"v\"}], {\"legend\": {\"bgcolor\": \"#FFFFFF\", \"font\": {\"color\": \"#666666\"}, \"traceorder\": \"normal\"}, \"paper_bgcolor\": \"#FFFFFF\", \"plot_bgcolor\": \"#E5E5E5\", \"yaxis1\": {\"tickfont\": {\"color\": \"#666666\"}, \"gridcolor\": \"#F6F6F6\", \"titlefont\": {\"color\": \"#666666\"}, \"zerolinecolor\": \"#F6F6F6\", \"showgrid\": true, \"title\": \"\"}, \"xaxis1\": {\"tickfont\": {\"color\": \"#666666\"}, \"gridcolor\": \"#F6F6F6\", \"titlefont\": {\"color\": \"#666666\"}, \"zerolinecolor\": \"#F6F6F6\", \"showgrid\": true, \"title\": \"\"}, \"titlefont\": {\"color\": \"#151516\"}, \"barmode\": \"stack\"}, {\"showLink\": true, \"linkText\": \"Export to plot.ly\"})});</script>"
      ],
      "text/vnd.plotly.v1+html": [
       "<div id=\"4d63cf25-8815-4ed1-8f21-1097e0bab214\" style=\"height: 525px; width: 100%;\" class=\"plotly-graph-div\"></div><script type=\"text/javascript\">require([\"plotly\"], function(Plotly) { window.PLOTLYENV=window.PLOTLYENV || {};window.PLOTLYENV.BASE_URL=\"https://plot.ly\";Plotly.newPlot(\"4d63cf25-8815-4ed1-8f21-1097e0bab214\", [{\"type\": \"bar\", \"x\": [\"1994-12-31\", \"1995-12-31\", \"1996-12-31\", \"1997-12-31\", \"1998-12-31\", \"1999-12-31\", \"2000-12-31\", \"2001-12-31\", \"2002-12-31\", \"2003-12-31\", \"2004-12-31\", \"2005-12-31\", \"2006-12-31\", \"2007-12-31\", \"2008-12-31\", \"2009-12-31\", \"2010-12-31\", \"2011-12-31\", \"2012-12-31\", \"2013-12-31\", \"2014-12-31\", \"2015-12-31\", \"2016-12-31\", \"2017-12-31\", \"2018-12-31\"], \"y\": [0.0896841924066789, 0.12845201984464993, 0.1318158154780555, 0.13123131539188385, 0.13144276618764492, 0.150711816337474, 0.1442554786773916, 0.1727707519622726, 0.16427995777726193, 0.17256857740739626, 0.1685865603392261, 0.18829797588249253, 0.18647272897305978, 0.19631279664224893, 0.20429608754882198, 0.18588772607934656, 0.2016705957817186, 0.21121593729781324, 0.2006121264748349, 0.2169827367578166, 0.21620793632140356, 0.2409767213764497, 0.2470801621634126, 0.2476441129070048, 0.2954341621626272], \"name\": \"('n_words', 'F')\", \"text\": \"\", \"marker\": {\"color\": \"rgba(226, 74, 51, 0.6)\", \"line\": {\"color\": \"rgba(226, 74, 51, 1.0)\", \"width\": 1}}, \"orientation\": \"v\"}, {\"type\": \"bar\", \"x\": [\"1994-12-31\", \"1995-12-31\", \"1996-12-31\", \"1997-12-31\", \"1998-12-31\", \"1999-12-31\", \"2000-12-31\", \"2001-12-31\", \"2002-12-31\", \"2003-12-31\", \"2004-12-31\", \"2005-12-31\", \"2006-12-31\", \"2007-12-31\", \"2008-12-31\", \"2009-12-31\", \"2010-12-31\", \"2011-12-31\", \"2012-12-31\", \"2013-12-31\", \"2014-12-31\", \"2015-12-31\", \"2016-12-31\", \"2017-12-31\", \"2018-12-31\"], \"y\": [0.9103158075933211, 0.8715479801553501, 0.8681841845219446, 0.8687686846081162, 0.8685572338123551, 0.849288183662526, 0.8557445213226084, 0.8272292480377273, 0.8357200422227381, 0.8274314225926037, 0.8314134396607739, 0.8117020241175075, 0.8135272710269402, 0.8036872033577511, 0.795703912451178, 0.8141122739206534, 0.7983294042182815, 0.7887840627021867, 0.7993878735251652, 0.7830172632421833, 0.7837920636785964, 0.7590232786235502, 0.7529198378365874, 0.7523558870929952, 0.7045658378373728], \"name\": \"('n_words', 'M')\", \"text\": \"\", \"marker\": {\"color\": \"rgba(62, 111, 176, 0.6)\", \"line\": {\"color\": \"rgba(62, 111, 176, 1.0)\", \"width\": 1}}, \"orientation\": \"v\"}], {\"legend\": {\"bgcolor\": \"#FFFFFF\", \"font\": {\"color\": \"#666666\"}, \"traceorder\": \"normal\"}, \"paper_bgcolor\": \"#FFFFFF\", \"plot_bgcolor\": \"#E5E5E5\", \"yaxis1\": {\"tickfont\": {\"color\": \"#666666\"}, \"gridcolor\": \"#F6F6F6\", \"titlefont\": {\"color\": \"#666666\"}, \"zerolinecolor\": \"#F6F6F6\", \"showgrid\": true, \"title\": \"\"}, \"xaxis1\": {\"tickfont\": {\"color\": \"#666666\"}, \"gridcolor\": \"#F6F6F6\", \"titlefont\": {\"color\": \"#666666\"}, \"zerolinecolor\": \"#F6F6F6\", \"showgrid\": true, \"title\": \"\"}, \"titlefont\": {\"color\": \"#151516\"}, \"barmode\": \"stack\"}, {\"showLink\": true, \"linkText\": \"Export to plot.ly\"})});</script>"
      ]
     },
     "metadata": {},
     "output_type": "display_data"
    }
   ],
   "source": [
    "total_words = speeches.join(members[[\"gender\"]], on=\"speaker_bioguide\").groupby([\"date\", \"gender\"]).sum()[[\"n_words\"]].reset_index().set_index(\"date\")\n",
    "total_words = total_words.pivot(columns=\"gender\").resample(\"A\").sum().fillna(0)\n",
    "total_words.div(total_words.sum(axis=1), axis=0).iplot(kind=\"bar\", barmode=\"stack\")"
   ]
  },
  {
   "cell_type": "code",
   "execution_count": null,
   "metadata": {
    "collapsed": true,
    "deletable": true,
    "editable": true
   },
   "outputs": [],
   "source": []
  },
  {
   "cell_type": "code",
   "execution_count": null,
   "metadata": {
    "collapsed": true,
    "deletable": true,
    "editable": true
   },
   "outputs": [],
   "source": []
  }
 ],
 "metadata": {
  "anaconda-cloud": {},
  "kernel_info": {
   "name": "python3"
  },
  "kernelspec": {
   "display_name": "Python [conda env:nlp]",
   "language": "python",
   "name": "conda-env-nlp-py"
  },
  "language_info": {
   "codemirror_mode": {
    "name": "ipython",
    "version": 3
   },
   "file_extension": ".py",
   "mimetype": "text/x-python",
   "name": "python",
   "nbconvert_exporter": "python",
   "pygments_lexer": "ipython3",
   "version": "3.6.1"
  },
  "nbpresent": {
   "slides": {
    "113ea10e-7d28-47cd-aa56-ce36016b7fc7": {
     "id": "113ea10e-7d28-47cd-aa56-ce36016b7fc7",
     "prev": "8bf8c196-e670-44f6-9b60-11d9b67aa7b1",
     "regions": {
      "9e0448ee-b9a4-4f83-a6bd-a79e29a0051f": {
       "attrs": {
        "height": 0.8,
        "width": 0.8,
        "x": 0.1,
        "y": 0.1
       },
       "content": {
        "cell": "29fa65c3-cffc-456a-a935-1f3bc46717ed",
        "part": "whole"
       },
       "id": "9e0448ee-b9a4-4f83-a6bd-a79e29a0051f"
      }
     }
    },
    "21e66ef6-73f4-43b6-9af3-5278259dffd7": {
     "id": "21e66ef6-73f4-43b6-9af3-5278259dffd7",
     "prev": "db62fa48-3352-4ccf-96e9-38966540679d",
     "regions": {
      "b30ed608-4970-4126-bd06-a75cfcf5ede4": {
       "attrs": {
        "height": 0.8,
        "width": 0.8,
        "x": 0.1,
        "y": 0.1
       },
       "content": {
        "cell": "699df618-4c70-4c54-a12c-90735ea4b701",
        "part": "whole"
       },
       "id": "b30ed608-4970-4126-bd06-a75cfcf5ede4"
      }
     }
    },
    "24fbb7f7-63a6-4982-9457-01ee5685fbba": {
     "id": "24fbb7f7-63a6-4982-9457-01ee5685fbba",
     "prev": "a1266969-d3f3-4379-8840-d08bcf0c967a",
     "regions": {
      "9f149c0e-6806-4615-8d14-7623ad82cb4a": {
       "attrs": {
        "height": 0.8,
        "width": 0.8,
        "x": 0.1,
        "y": 0.1
       },
       "content": {
        "cell": "8193d0a2-0dc3-47cc-ae18-682a984355cf",
        "part": "whole"
       },
       "id": "9f149c0e-6806-4615-8d14-7623ad82cb4a"
      }
     }
    },
    "2946533e-eb9d-4171-8ab6-6dbb858a34a0": {
     "id": "2946533e-eb9d-4171-8ab6-6dbb858a34a0",
     "prev": "b9ffdf03-8127-4943-9bdd-52aff1d92155",
     "regions": {
      "3995c344-238b-4ba6-bda0-57ee6fdea74d": {
       "attrs": {
        "height": 0.8,
        "width": 0.8,
        "x": 0.1,
        "y": 0.1
       },
       "content": {
        "cell": "fa080673-8dd2-4dd9-b6c4-7e603f46c1ea",
        "part": "whole"
       },
       "id": "3995c344-238b-4ba6-bda0-57ee6fdea74d"
      }
     }
    },
    "2ac9a07a-6b57-489c-a239-bf1ea1d2deea": {
     "id": "2ac9a07a-6b57-489c-a239-bf1ea1d2deea",
     "prev": "24fbb7f7-63a6-4982-9457-01ee5685fbba",
     "regions": {
      "5d88fec5-7b00-4264-a91c-0614051bd678": {
       "attrs": {
        "height": 0.8,
        "width": 0.8,
        "x": 0.1,
        "y": 0.1
       },
       "content": {
        "cell": "e4b194b6-38ca-4bef-a1c1-f1886e3b83a7",
        "part": "whole"
       },
       "id": "5d88fec5-7b00-4264-a91c-0614051bd678"
      }
     }
    },
    "2b597412-bafd-4960-9d58-4c5f8d04b7ae": {
     "id": "2b597412-bafd-4960-9d58-4c5f8d04b7ae",
     "prev": "7817d296-400b-4292-84eb-8badfbe95fb7",
     "regions": {
      "21a44f92-1a6d-44d5-b9c2-066e9c93c2f3": {
       "attrs": {
        "height": 0.8,
        "width": 0.8,
        "x": 0.1,
        "y": 0.1
       },
       "content": {
        "cell": "f0b8f2a1-4951-49de-9e70-342f2e3b5985",
        "part": "whole"
       },
       "id": "21a44f92-1a6d-44d5-b9c2-066e9c93c2f3"
      }
     }
    },
    "2c1975f7-f182-4342-a9f1-060021df6585": {
     "id": "2c1975f7-f182-4342-a9f1-060021df6585",
     "prev": "9d6f51dc-40af-47c9-bd6b-0200931fcf92",
     "regions": {
      "af9242e0-89b2-473d-b2df-3047097ede25": {
       "attrs": {
        "height": 0.8,
        "width": 0.8,
        "x": 0.1,
        "y": 0.1
       },
       "content": {
        "cell": "a39b37cf-ee7c-45aa-a8ea-865dd01d00b2",
        "part": "whole"
       },
       "id": "af9242e0-89b2-473d-b2df-3047097ede25"
      }
     }
    },
    "307f26c5-0901-437d-a844-9072c34be4c6": {
     "id": "307f26c5-0901-437d-a844-9072c34be4c6",
     "prev": "3762787a-a035-4e8b-a7e5-654a92d73a4a",
     "regions": {
      "f3d7d92d-6081-4bea-b30e-462e9cee551c": {
       "attrs": {
        "height": 0.8,
        "width": 0.8,
        "x": 0.1,
        "y": 0.1
       },
       "content": {
        "cell": "b7650635-c651-495c-bd78-9bce001cfad5",
        "part": "whole"
       },
       "id": "f3d7d92d-6081-4bea-b30e-462e9cee551c"
      }
     }
    },
    "33b5adc8-76b3-4575-bd6d-a3dca74414b9": {
     "id": "33b5adc8-76b3-4575-bd6d-a3dca74414b9",
     "prev": null,
     "regions": {
      "78c40700-0b0f-4b9c-9a8f-3532dcb31df2": {
       "attrs": {
        "height": 0.8,
        "width": 0.8,
        "x": 0.1,
        "y": 0.1
       },
       "content": {
        "cell": "f7cf4803-9f51-4045-94af-4d7cb8aa7271",
        "part": "whole"
       },
       "id": "78c40700-0b0f-4b9c-9a8f-3532dcb31df2"
      }
     }
    },
    "3762787a-a035-4e8b-a7e5-654a92d73a4a": {
     "id": "3762787a-a035-4e8b-a7e5-654a92d73a4a",
     "prev": "83f9a142-97f9-4c75-853a-4717ab623bbc",
     "regions": {
      "8e00a0cf-2a51-4bc8-9a5b-7f4052cb1f53": {
       "attrs": {
        "height": 0.8,
        "width": 0.8,
        "x": 0.1,
        "y": 0.1
       },
       "content": {
        "cell": "992cafc9-1b67-42af-be71-a08bd11b7b53",
        "part": "whole"
       },
       "id": "8e00a0cf-2a51-4bc8-9a5b-7f4052cb1f53"
      }
     }
    },
    "3ddb27cb-c47b-4c4a-a138-2b40966bceb8": {
     "id": "3ddb27cb-c47b-4c4a-a138-2b40966bceb8",
     "prev": "f1e55021-812f-4af4-aa17-288b2513dc0b",
     "regions": {
      "62cc9e49-bbc4-481f-93ac-045dcf787607": {
       "attrs": {
        "height": 0.8,
        "width": 0.8,
        "x": 0.1,
        "y": 0.1
       },
       "content": {
        "cell": "6239f433-7a63-4389-8ff5-a7acdf799003",
        "part": "whole"
       },
       "id": "62cc9e49-bbc4-481f-93ac-045dcf787607"
      }
     }
    },
    "3ede6a82-3a40-4ede-bae8-a15718e7582a": {
     "id": "3ede6a82-3a40-4ede-bae8-a15718e7582a",
     "prev": "916896d3-4347-438e-b528-3acf699a3d2d",
     "regions": {
      "6162a311-1e31-43ff-872b-e125f30bc957": {
       "attrs": {
        "height": 0.8,
        "width": 0.8,
        "x": 0.1,
        "y": 0.1
       },
       "content": {
        "cell": "921752e5-d28e-4ff8-b021-9af0cdce54ea",
        "part": "whole"
       },
       "id": "6162a311-1e31-43ff-872b-e125f30bc957"
      }
     }
    },
    "3fa6803c-51e3-4d26-bf42-2017147e4408": {
     "id": "3fa6803c-51e3-4d26-bf42-2017147e4408",
     "prev": "45c10373-41db-4f64-a450-4c0ce0a6be01",
     "regions": {
      "4676e5b9-7169-4e31-9fd6-a8552e31ba74": {
       "attrs": {
        "height": 0.8,
        "width": 0.8,
        "x": 0.1,
        "y": 0.1
       },
       "content": {
        "cell": "f52cf5c2-6408-4273-bd57-d2c4a8354778",
        "part": "whole"
       },
       "id": "4676e5b9-7169-4e31-9fd6-a8552e31ba74"
      }
     }
    },
    "444bbd79-bb4c-4848-ad79-590c8c7ac452": {
     "id": "444bbd79-bb4c-4848-ad79-590c8c7ac452",
     "prev": "3ddb27cb-c47b-4c4a-a138-2b40966bceb8",
     "regions": {
      "f4856f3e-ce6c-449b-bf9f-51aee940901d": {
       "attrs": {
        "height": 0.8,
        "width": 0.8,
        "x": 0.1,
        "y": 0.1
       },
       "content": {
        "cell": "0e9117da-0215-4662-91c7-15c4f5b2c579",
        "part": "whole"
       },
       "id": "f4856f3e-ce6c-449b-bf9f-51aee940901d"
      }
     }
    },
    "45c10373-41db-4f64-a450-4c0ce0a6be01": {
     "id": "45c10373-41db-4f64-a450-4c0ce0a6be01",
     "prev": "e478cafb-4c3a-447e-9d7c-bced7c9c7bec",
     "regions": {
      "ca19c1ce-7222-42e8-b02c-312caf3606a8": {
       "attrs": {
        "height": 0.8,
        "width": 0.8,
        "x": 0.1,
        "y": 0.1
       },
       "content": {
        "cell": "94b48f26-02ff-4179-a5bc-b30744f83fca",
        "part": "whole"
       },
       "id": "ca19c1ce-7222-42e8-b02c-312caf3606a8"
      }
     },
     "theme": null
    },
    "526b9602-a1d6-4228-a020-7887a965444a": {
     "id": "526b9602-a1d6-4228-a020-7887a965444a",
     "prev": "998cca8b-04e0-42b4-8af3-665cd93b1d63",
     "regions": {
      "bd80fb84-46cd-4d0a-b46d-e29151443970": {
       "attrs": {
        "height": 0.8,
        "width": 0.8,
        "x": 0.1,
        "y": 0.1
       },
       "content": {
        "cell": "457d4c0d-b53b-4e40-b84a-c9d7e11ea6dc",
        "part": "whole"
       },
       "id": "bd80fb84-46cd-4d0a-b46d-e29151443970"
      }
     }
    },
    "532adca3-5bf0-410a-92cc-afd549f9b21c": {
     "id": "532adca3-5bf0-410a-92cc-afd549f9b21c",
     "prev": "745bc2d4-aa94-448b-a3a3-4148ca8cdbb4",
     "regions": {
      "6a066f1f-d6c5-4289-b3c5-28ef9a93f92c": {
       "attrs": {
        "height": 0.8,
        "width": 0.8,
        "x": 0.1,
        "y": 0.1
       },
       "content": {
        "cell": "1ba6f340-5e02-4aa9-a3b0-dd083f21f6ba",
        "part": "whole"
       },
       "id": "6a066f1f-d6c5-4289-b3c5-28ef9a93f92c"
      }
     }
    },
    "591fd6c8-0072-422b-b315-9fe718b63ca7": {
     "id": "591fd6c8-0072-422b-b315-9fe718b63ca7",
     "prev": "3fa6803c-51e3-4d26-bf42-2017147e4408",
     "regions": {
      "b6a8f23f-c66a-444b-a9b6-d82f9e562e76": {
       "attrs": {
        "height": 0.8,
        "width": 0.8,
        "x": 0.1,
        "y": 0.1
       },
       "content": {
        "cell": "3305f331-8862-4204-b100-6123eb7468bd",
        "part": "whole"
       },
       "id": "b6a8f23f-c66a-444b-a9b6-d82f9e562e76"
      }
     }
    },
    "5a7750af-4b92-47bd-a5b8-93c926f0360f": {
     "id": "5a7750af-4b92-47bd-a5b8-93c926f0360f",
     "prev": "a499f9e2-0d99-4178-b8da-bcc2a8eece69",
     "regions": {
      "46924c22-d9aa-4d87-9513-76ef073643e1": {
       "attrs": {
        "height": 0.8,
        "width": 0.8,
        "x": 0.1,
        "y": 0.1
       },
       "content": {
        "cell": "e8ce2fee-3c67-445a-8db7-10b5fc735967",
        "part": "whole"
       },
       "id": "46924c22-d9aa-4d87-9513-76ef073643e1"
      }
     }
    },
    "5f41250f-dbfb-4528-98b8-bdce49a6b1ce": {
     "id": "5f41250f-dbfb-4528-98b8-bdce49a6b1ce",
     "prev": "2c1975f7-f182-4342-a9f1-060021df6585",
     "regions": {
      "9c2c0a31-c53c-48ee-a566-01781e60540d": {
       "attrs": {
        "height": 0.8,
        "width": 0.8,
        "x": 0.1,
        "y": 0.1
       },
       "content": {
        "cell": "6ce3e492-ac07-4baf-bb48-a9702337ce21",
        "part": "whole"
       },
       "id": "9c2c0a31-c53c-48ee-a566-01781e60540d"
      }
     }
    },
    "6b37a8c7-40e0-4506-8e0a-a0a36430d1d0": {
     "id": "6b37a8c7-40e0-4506-8e0a-a0a36430d1d0",
     "prev": "444bbd79-bb4c-4848-ad79-590c8c7ac452",
     "regions": {
      "ec3e0417-e40f-472b-97e1-52e166aa1a5e": {
       "attrs": {
        "height": 0.8,
        "width": 0.8,
        "x": 0.1,
        "y": 0.1
       },
       "content": {
        "cell": "cb002e19-7617-42aa-8ccd-2d8e42d6316c",
        "part": "whole"
       },
       "id": "ec3e0417-e40f-472b-97e1-52e166aa1a5e"
      }
     }
    },
    "745bc2d4-aa94-448b-a3a3-4148ca8cdbb4": {
     "id": "745bc2d4-aa94-448b-a3a3-4148ca8cdbb4",
     "prev": "113ea10e-7d28-47cd-aa56-ce36016b7fc7",
     "regions": {
      "8de741d3-d812-4c22-b462-87babb663a82": {
       "attrs": {
        "height": 0.8,
        "width": 0.8,
        "x": 0.1,
        "y": 0.1
       },
       "content": {
        "cell": "8ab10a4b-dfe1-4309-8003-09fd2520ee82",
        "part": "whole"
       },
       "id": "8de741d3-d812-4c22-b462-87babb663a82"
      }
     }
    },
    "779acc70-c68b-41af-a09e-ff4878c3da42": {
     "id": "779acc70-c68b-41af-a09e-ff4878c3da42",
     "prev": "5f41250f-dbfb-4528-98b8-bdce49a6b1ce",
     "regions": {
      "5b748eae-e3fd-4f19-9704-30c89aedb07d": {
       "attrs": {
        "height": 0.8,
        "width": 0.8,
        "x": 0.1,
        "y": 0.1
       },
       "content": {
        "cell": "b4337786-da62-46a7-a707-6bbbe2b0d230",
        "part": "whole"
       },
       "id": "5b748eae-e3fd-4f19-9704-30c89aedb07d"
      }
     }
    },
    "7817d296-400b-4292-84eb-8badfbe95fb7": {
     "id": "7817d296-400b-4292-84eb-8badfbe95fb7",
     "prev": "21e66ef6-73f4-43b6-9af3-5278259dffd7",
     "regions": {
      "1e5f2f19-75d0-4370-b621-0a1eb16e3c19": {
       "attrs": {
        "height": 0.8,
        "width": 0.8,
        "x": 0.1,
        "y": 0.1
       },
       "content": {
        "cell": "16ed1c10-5d7d-4ee8-b342-f95e2b311320",
        "part": "whole"
       },
       "id": "1e5f2f19-75d0-4370-b621-0a1eb16e3c19"
      }
     }
    },
    "83f9a142-97f9-4c75-853a-4717ab623bbc": {
     "id": "83f9a142-97f9-4c75-853a-4717ab623bbc",
     "prev": "e9d4ce8f-00c0-40ba-9468-029ce5996563",
     "regions": {
      "9416fbf9-57c5-4252-be63-a17445f06bd6": {
       "attrs": {
        "height": 0.8,
        "width": 0.8,
        "x": 0.1,
        "y": 0.1
       },
       "content": {
        "cell": "065f5570-b99a-45ce-8cf0-f528674aeaa2",
        "part": "whole"
       },
       "id": "9416fbf9-57c5-4252-be63-a17445f06bd6"
      }
     }
    },
    "8b3c2c3c-7d4f-4cab-8abb-4610692a6937": {
     "id": "8b3c2c3c-7d4f-4cab-8abb-4610692a6937",
     "prev": "3ede6a82-3a40-4ede-bae8-a15718e7582a",
     "regions": {
      "7c2b8b5e-f58a-493b-b79d-729350b3b719": {
       "attrs": {
        "height": 0.8,
        "width": 0.8,
        "x": 0.1,
        "y": 0.1
       },
       "content": {
        "cell": "71358f52-7a72-40c4-bdce-4273be5ad7f5",
        "part": "whole"
       },
       "id": "7c2b8b5e-f58a-493b-b79d-729350b3b719"
      }
     }
    },
    "8bf8c196-e670-44f6-9b60-11d9b67aa7b1": {
     "id": "8bf8c196-e670-44f6-9b60-11d9b67aa7b1",
     "prev": "6b37a8c7-40e0-4506-8e0a-a0a36430d1d0",
     "regions": {
      "e22f0220-0f96-470a-8a92-22d221930122": {
       "attrs": {
        "height": 0.8,
        "width": 0.8,
        "x": 0.1,
        "y": 0.1
       },
       "content": {
        "cell": "127b7395-e2e5-49a5-bb7f-6dd6fcbdff7c",
        "part": "whole"
       },
       "id": "e22f0220-0f96-470a-8a92-22d221930122"
      }
     }
    },
    "916896d3-4347-438e-b528-3acf699a3d2d": {
     "id": "916896d3-4347-438e-b528-3acf699a3d2d",
     "prev": "2ac9a07a-6b57-489c-a239-bf1ea1d2deea",
     "regions": {
      "4783f1ff-1f91-44e1-83b4-363d026da857": {
       "attrs": {
        "height": 0.8,
        "width": 0.8,
        "x": 0.1,
        "y": 0.1
       },
       "content": {
        "cell": "393bc347-81ee-4c40-b75e-01587eb81760",
        "part": "whole"
       },
       "id": "4783f1ff-1f91-44e1-83b4-363d026da857"
      }
     }
    },
    "998cca8b-04e0-42b4-8af3-665cd93b1d63": {
     "id": "998cca8b-04e0-42b4-8af3-665cd93b1d63",
     "prev": "de13a10d-a171-42f1-abd6-11097dd4095c",
     "regions": {
      "20504160-0aef-4b1a-a954-c9b4e3c86c87": {
       "attrs": {
        "height": 0.8,
        "width": 0.8,
        "x": 0.1,
        "y": 0.1
       },
       "content": {
        "cell": "a522eb26-f34b-416d-8d66-aae6d3806f29",
        "part": "whole"
       },
       "id": "20504160-0aef-4b1a-a954-c9b4e3c86c87"
      }
     }
    },
    "9c972af9-a73d-4f12-b137-b65c3744a18d": {
     "id": "9c972af9-a73d-4f12-b137-b65c3744a18d",
     "prev": "307f26c5-0901-437d-a844-9072c34be4c6",
     "regions": {
      "7457944c-4d42-4fa2-9475-24205d108490": {
       "attrs": {
        "height": 0.8,
        "width": 0.8,
        "x": 0.1,
        "y": 0.1
       },
       "content": {
        "cell": "776595ba-e87b-4db9-b7cd-a076ba693e57",
        "part": "whole"
       },
       "id": "7457944c-4d42-4fa2-9475-24205d108490"
      }
     }
    },
    "9d6f51dc-40af-47c9-bd6b-0200931fcf92": {
     "id": "9d6f51dc-40af-47c9-bd6b-0200931fcf92",
     "prev": "d8b7dc86-5459-4f0b-ad12-2e860e0ab32c",
     "regions": {
      "0ab0df2f-6750-4508-959b-635d4a2854a8": {
       "attrs": {
        "height": 0.8,
        "width": 0.8,
        "x": 0.1,
        "y": 0.1
       },
       "content": {
        "cell": "0aa90464-c6e2-42b2-984b-1020f0de5e72",
        "part": "whole"
       },
       "id": "0ab0df2f-6750-4508-959b-635d4a2854a8"
      }
     }
    },
    "a1266969-d3f3-4379-8840-d08bcf0c967a": {
     "id": "a1266969-d3f3-4379-8840-d08bcf0c967a",
     "prev": "e5db9f4f-0c5e-49f7-8fad-dc340d680651",
     "regions": {
      "5f800185-6d64-475f-83e7-73eaefc49a03": {
       "attrs": {
        "height": 0.8,
        "width": 0.8,
        "x": 0.1,
        "y": 0.1
       },
       "content": {
        "cell": "6a4e57c5-99a8-4cb1-a003-f56aeff49dc9",
        "part": "whole"
       },
       "id": "5f800185-6d64-475f-83e7-73eaefc49a03"
      }
     }
    },
    "a499f9e2-0d99-4178-b8da-bcc2a8eece69": {
     "id": "a499f9e2-0d99-4178-b8da-bcc2a8eece69",
     "prev": "c4e6fc80-2ac9-460d-9f30-2000dd97d930",
     "regions": {
      "3b9b85f5-29fd-4890-90fb-0552b332e34e": {
       "attrs": {
        "height": 0.8,
        "width": 0.8,
        "x": 0.1,
        "y": 0.1
       },
       "content": {
        "cell": "5ae7a8a3-e227-49bc-b374-c0c9618a3525",
        "part": "whole"
       },
       "id": "3b9b85f5-29fd-4890-90fb-0552b332e34e"
      }
     }
    },
    "a74a279c-b4be-41b4-9914-bd5350f1e7d3": {
     "id": "a74a279c-b4be-41b4-9914-bd5350f1e7d3",
     "prev": "eb6dc453-111c-46be-ada1-868705c2ed3a",
     "regions": {
      "c83a58ff-444d-4ae9-8fb5-362a1a06cf1e": {
       "attrs": {
        "height": 0.8,
        "width": 0.8,
        "x": 0.1,
        "y": 0.1
       },
       "content": {
        "cell": "3c82f22d-3777-4079-a2e7-c5e0aea68380",
        "part": "whole"
       },
       "id": "c83a58ff-444d-4ae9-8fb5-362a1a06cf1e"
      }
     }
    },
    "ab7d88b9-79ae-40a9-8c1d-1302f5321cbd": {
     "id": "ab7d88b9-79ae-40a9-8c1d-1302f5321cbd",
     "prev": "a74a279c-b4be-41b4-9914-bd5350f1e7d3",
     "regions": {
      "8908760d-e059-44ef-ab4c-13a6ffa15964": {
       "attrs": {
        "height": 0.8,
        "width": 0.8,
        "x": 0.1,
        "y": 0.1
       },
       "content": {
        "cell": "2068693b-ffd7-40e8-b6d2-e6de7bb44cea",
        "part": "whole"
       },
       "id": "8908760d-e059-44ef-ab4c-13a6ffa15964"
      }
     }
    },
    "abceae0b-bdd2-433b-a80d-ff96dd887d64": {
     "id": "abceae0b-bdd2-433b-a80d-ff96dd887d64",
     "prev": "2b597412-bafd-4960-9d58-4c5f8d04b7ae",
     "regions": {
      "1fa5ea81-7049-46db-84ef-ecdf4fd604f0": {
       "attrs": {
        "height": 0.8,
        "width": 0.8,
        "x": 0.1,
        "y": 0.1
       },
       "content": {
        "cell": "1252e27e-2395-4dba-b86e-68e302fccfb7",
        "part": "whole"
       },
       "id": "1fa5ea81-7049-46db-84ef-ecdf4fd604f0"
      }
     }
    },
    "ad57a526-6cd4-424d-9ac9-6fec1a442822": {
     "id": "ad57a526-6cd4-424d-9ac9-6fec1a442822",
     "prev": "f1bc0f4d-c121-40ef-93c4-3eba9e33c021",
     "regions": {
      "21d2f4e1-a40a-4b2c-9ae4-7f7f621899fc": {
       "attrs": {
        "height": 0.8,
        "width": 0.8,
        "x": 0.1,
        "y": 0.1
       },
       "content": {
        "cell": "61b97ac7-e01a-416a-9fa9-02d21512d559",
        "part": "whole"
       },
       "id": "21d2f4e1-a40a-4b2c-9ae4-7f7f621899fc"
      }
     }
    },
    "b9ffdf03-8127-4943-9bdd-52aff1d92155": {
     "id": "b9ffdf03-8127-4943-9bdd-52aff1d92155",
     "prev": "ad57a526-6cd4-424d-9ac9-6fec1a442822",
     "regions": {
      "a2e5201f-1760-4393-874b-a43188eb831e": {
       "attrs": {
        "height": 0.8,
        "width": 0.8,
        "x": 0.1,
        "y": 0.1
       },
       "content": {
        "cell": "2947711c-9932-42b4-aaca-ad9a8be4f5f9",
        "part": "whole"
       },
       "id": "a2e5201f-1760-4393-874b-a43188eb831e"
      }
     }
    },
    "c4e6fc80-2ac9-460d-9f30-2000dd97d930": {
     "id": "c4e6fc80-2ac9-460d-9f30-2000dd97d930",
     "prev": "abceae0b-bdd2-433b-a80d-ff96dd887d64",
     "regions": {
      "65bd107f-3b75-451e-8dd5-bfff7bdad380": {
       "attrs": {
        "height": 0.8,
        "width": 0.8,
        "x": 0.1,
        "y": 0.1
       },
       "content": {
        "cell": "2aa13387-b9f9-4632-b279-2b7ff5ba372c",
        "part": "whole"
       },
       "id": "65bd107f-3b75-451e-8dd5-bfff7bdad380"
      }
     }
    },
    "c6e5651a-34e9-4e0e-a450-fd7f25558fd1": {
     "id": "c6e5651a-34e9-4e0e-a450-fd7f25558fd1",
     "prev": "779acc70-c68b-41af-a09e-ff4878c3da42",
     "regions": {
      "2fc71f54-ba10-4fc4-b3fe-f338d26bd756": {
       "attrs": {
        "height": 0.8,
        "width": 0.8,
        "x": 0.1,
        "y": 0.1
       },
       "content": {
        "cell": "0f0e7260-aad7-40a6-84ef-090559689f19",
        "part": "whole"
       },
       "id": "2fc71f54-ba10-4fc4-b3fe-f338d26bd756"
      }
     }
    },
    "d2aa8a69-c062-4e7b-b564-26db8b5bff98": {
     "id": "d2aa8a69-c062-4e7b-b564-26db8b5bff98",
     "prev": "9c972af9-a73d-4f12-b137-b65c3744a18d",
     "regions": {
      "3881ef5c-b377-4408-b508-bc49806ba140": {
       "attrs": {
        "height": 0.8,
        "width": 0.8,
        "x": 0.1,
        "y": 0.1
       },
       "content": {
        "cell": "c0ac0794-4e2b-4aa6-998e-e78dacf069e8",
        "part": "whole"
       },
       "id": "3881ef5c-b377-4408-b508-bc49806ba140"
      }
     }
    },
    "d8b7dc86-5459-4f0b-ad12-2e860e0ab32c": {
     "id": "d8b7dc86-5459-4f0b-ad12-2e860e0ab32c",
     "prev": "532adca3-5bf0-410a-92cc-afd549f9b21c",
     "regions": {
      "2b957561-02a9-411b-893f-84029926f3b0": {
       "attrs": {
        "height": 0.8,
        "width": 0.8,
        "x": 0.1,
        "y": 0.1
       },
       "content": {
        "cell": "5637be31-1b9f-4e57-8247-859ed2eb4f0a",
        "part": "whole"
       },
       "id": "2b957561-02a9-411b-893f-84029926f3b0"
      }
     }
    },
    "db62fa48-3352-4ccf-96e9-38966540679d": {
     "id": "db62fa48-3352-4ccf-96e9-38966540679d",
     "prev": "e2436612-4df4-4efa-86f0-6122cc733275",
     "regions": {
      "f2c66122-1f26-4f0e-9066-1b5b62685809": {
       "attrs": {
        "height": 0.8,
        "width": 0.8,
        "x": 0.1,
        "y": 0.1
       },
       "content": {
        "cell": "09981bf2-78c0-4fda-9e87-af5edf93c124",
        "part": "whole"
       },
       "id": "f2c66122-1f26-4f0e-9066-1b5b62685809"
      }
     }
    },
    "de13a10d-a171-42f1-abd6-11097dd4095c": {
     "id": "de13a10d-a171-42f1-abd6-11097dd4095c",
     "prev": "8b3c2c3c-7d4f-4cab-8abb-4610692a6937",
     "regions": {
      "a4fddc07-5902-4f28-8591-4e40b0d56a5f": {
       "attrs": {
        "height": 0.8,
        "width": 0.8,
        "x": 0.1,
        "y": 0.1
       },
       "content": {
        "cell": "234e2d1c-c4cd-4545-9f3b-6db09a2871fd",
        "part": "whole"
       },
       "id": "a4fddc07-5902-4f28-8591-4e40b0d56a5f"
      }
     }
    },
    "e2436612-4df4-4efa-86f0-6122cc733275": {
     "id": "e2436612-4df4-4efa-86f0-6122cc733275",
     "prev": "526b9602-a1d6-4228-a020-7887a965444a",
     "regions": {
      "1f1af8f8-970c-4f19-9a42-80f2ec541839": {
       "attrs": {
        "height": 0.8,
        "width": 0.8,
        "x": 0.1,
        "y": 0.1
       },
       "content": {
        "cell": "3d59935f-a072-43b6-ad59-4482886eac33",
        "part": "whole"
       },
       "id": "1f1af8f8-970c-4f19-9a42-80f2ec541839"
      }
     }
    },
    "e478cafb-4c3a-447e-9d7c-bced7c9c7bec": {
     "id": "e478cafb-4c3a-447e-9d7c-bced7c9c7bec",
     "prev": "f6999dd9-3434-4bf5-980c-6235ad01cc1a",
     "regions": {
      "d1e88033-3b7b-454a-ae2f-5cff2ba38cc8": {
       "attrs": {
        "height": 0.8,
        "width": 0.8,
        "x": 0.1,
        "y": 0.1
       },
       "content": {
        "cell": "e2a8890a-addb-416e-bd5a-e9db610bfee8",
        "part": "whole"
       },
       "id": "d1e88033-3b7b-454a-ae2f-5cff2ba38cc8"
      }
     }
    },
    "e5db9f4f-0c5e-49f7-8fad-dc340d680651": {
     "id": "e5db9f4f-0c5e-49f7-8fad-dc340d680651",
     "prev": "ab7d88b9-79ae-40a9-8c1d-1302f5321cbd",
     "regions": {
      "38092461-64f4-4241-81f0-e46b2563274b": {
       "attrs": {
        "height": 0.8,
        "width": 0.8,
        "x": 0.1,
        "y": 0.1
       },
       "content": {
        "cell": "3a1e85f4-bb68-4d9b-9c3b-8178d0d44d25",
        "part": "whole"
       },
       "id": "38092461-64f4-4241-81f0-e46b2563274b"
      }
     }
    },
    "e9d4ce8f-00c0-40ba-9468-029ce5996563": {
     "id": "e9d4ce8f-00c0-40ba-9468-029ce5996563",
     "prev": "5a7750af-4b92-47bd-a5b8-93c926f0360f",
     "regions": {
      "996baeb0-e301-475c-9d64-8e39cad41c2a": {
       "attrs": {
        "height": 0.8,
        "width": 0.8,
        "x": 0.1,
        "y": 0.1
       },
       "content": {
        "cell": "2ba6bf81-aa4e-4be2-ba56-77f731289864",
        "part": "whole"
       },
       "id": "996baeb0-e301-475c-9d64-8e39cad41c2a"
      }
     }
    },
    "eb6dc453-111c-46be-ada1-868705c2ed3a": {
     "id": "eb6dc453-111c-46be-ada1-868705c2ed3a",
     "prev": "2946533e-eb9d-4171-8ab6-6dbb858a34a0",
     "regions": {
      "e3053e68-a582-47c8-97c3-55567384c107": {
       "attrs": {
        "height": 0.8,
        "width": 0.8,
        "x": 0.1,
        "y": 0.1
       },
       "content": {
        "cell": "04637fce-6f29-48f2-8f76-8bb82bd3fc81",
        "part": "whole"
       },
       "id": "e3053e68-a582-47c8-97c3-55567384c107"
      }
     }
    },
    "f1bc0f4d-c121-40ef-93c4-3eba9e33c021": {
     "id": "f1bc0f4d-c121-40ef-93c4-3eba9e33c021",
     "prev": "c6e5651a-34e9-4e0e-a450-fd7f25558fd1",
     "regions": {
      "a2171f25-17e0-4cb3-9864-766d9089a00e": {
       "attrs": {
        "height": 0.8,
        "width": 0.8,
        "x": 0.1,
        "y": 0.1
       },
       "content": {
        "cell": "96d628c9-83a7-4ce2-8a41-388649dcbc64",
        "part": "whole"
       },
       "id": "a2171f25-17e0-4cb3-9864-766d9089a00e"
      }
     }
    },
    "f1e55021-812f-4af4-aa17-288b2513dc0b": {
     "id": "f1e55021-812f-4af4-aa17-288b2513dc0b",
     "prev": "f463cf0e-c19e-43db-9fc5-b661354e992b",
     "regions": {
      "71954221-e2eb-4623-a935-034edbe5e86d": {
       "attrs": {
        "height": 0.8,
        "width": 0.8,
        "x": 0.1,
        "y": 0.1
       },
       "content": {
        "cell": "bebfa287-2750-4bee-9651-eba5f6b2b4d6",
        "part": "whole"
       },
       "id": "71954221-e2eb-4623-a935-034edbe5e86d"
      }
     }
    },
    "f463cf0e-c19e-43db-9fc5-b661354e992b": {
     "id": "f463cf0e-c19e-43db-9fc5-b661354e992b",
     "prev": "591fd6c8-0072-422b-b315-9fe718b63ca7",
     "regions": {
      "0b975007-6c3a-421b-8a68-8bd0fc4cfef4": {
       "attrs": {
        "height": 0.8,
        "width": 0.8,
        "x": 0.1,
        "y": 0.1
       },
       "content": {
        "cell": "c1f6fff0-65b1-4d95-8508-07f033067af0",
        "part": "whole"
       },
       "id": "0b975007-6c3a-421b-8a68-8bd0fc4cfef4"
      }
     }
    },
    "f6999dd9-3434-4bf5-980c-6235ad01cc1a": {
     "id": "f6999dd9-3434-4bf5-980c-6235ad01cc1a",
     "prev": "33b5adc8-76b3-4575-bd6d-a3dca74414b9",
     "regions": {
      "0f01f3d5-2e89-4143-bbff-a1ce18d83c34": {
       "attrs": {
        "height": 0.8,
        "width": 0.8,
        "x": 0.1,
        "y": 0.1
       },
       "content": {
        "cell": "34dd49ee-9e49-46bb-a1fe-fff6b6903503",
        "part": "whole"
       },
       "id": "0f01f3d5-2e89-4143-bbff-a1ce18d83c34"
      }
     }
    }
   },
   "themes": {}
  },
  "nteract": {
   "version": "0.8.4"
  },
  "toc": {
   "nav_menu": {},
   "number_sections": true,
   "sideBar": false,
   "skip_h1_title": true,
   "toc_cell": true,
   "toc_position": {
    "height": "40px",
    "left": "1470px",
    "right": "20px",
    "top": "52px",
    "width": "237px"
   },
   "toc_section_display": "none",
   "toc_window_display": true
  }
 },
 "nbformat": 4,
 "nbformat_minor": 1
}
