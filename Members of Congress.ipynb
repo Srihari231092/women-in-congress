{
 "cells": [
  {
   "cell_type": "markdown",
   "metadata": {
    "deletable": true,
    "editable": true,
    "toc": true
   },
   "source": [
    "<h1>Table of Contents<span class=\"tocSkip\"></span></h1>\n",
    "<div class=\"toc\" style=\"margin-top: 1em;\"><ul class=\"toc-item\"><li><span><a href=\"#Women-in-the-House-of-Representatives\" data-toc-modified-id=\"Women-in-the-House-of-Representatives-1\"><span class=\"toc-item-num\">1&nbsp;&nbsp;</span>Women in the House of Representatives</a></span><ul class=\"toc-item\"><li><span><a href=\"#Read-table-from-wikipedia\" data-toc-modified-id=\"Read-table-from-wikipedia-1.1\"><span class=\"toc-item-num\">1.1&nbsp;&nbsp;</span>Read table from wikipedia</a></span></li><li><span><a href=\"#Go-row-by-row-and-extract-information-about-each-rep\" data-toc-modified-id=\"Go-row-by-row-and-extract-information-about-each-rep-1.2\"><span class=\"toc-item-num\">1.2&nbsp;&nbsp;</span>Go row by row and extract information about each rep</a></span></li><li><span><a href=\"#In-order-to-visualise-the-data-like-below,-we-need-to-sort-the-rep-terms-appropriately\" data-toc-modified-id=\"In-order-to-visualise-the-data-like-below,-we-need-to-sort-the-rep-terms-appropriately-1.3\"><span class=\"toc-item-num\">1.3&nbsp;&nbsp;</span>In order to visualise the data like below, we need to sort the rep terms appropriately</a></span></li><li><span><a href=\"#Save-rep-data-to-a-csv-to-be-plotted-in-the-visualisation-later\" data-toc-modified-id=\"Save-rep-data-to-a-csv-to-be-plotted-in-the-visualisation-later-1.4\"><span class=\"toc-item-num\">1.4&nbsp;&nbsp;</span>Save rep data to a csv to be plotted in the visualisation later</a></span></li></ul></li><li><span><a href=\"#Women-in-the-Senate\" data-toc-modified-id=\"Women-in-the-Senate-2\"><span class=\"toc-item-num\">2&nbsp;&nbsp;</span>Women in the Senate</a></span><ul class=\"toc-item\"><li><span><a href=\"#Go-row-by-row-and-extract-information-about-each-senator\" data-toc-modified-id=\"Go-row-by-row-and-extract-information-about-each-senator-2.1\"><span class=\"toc-item-num\">2.1&nbsp;&nbsp;</span>Go row by row and extract information about each senator</a></span></li><li><span><a href=\"#In-order-to-visualise-the-data,-we-need-to-sort-the-senator-terms-appropriately\" data-toc-modified-id=\"In-order-to-visualise-the-data,-we-need-to-sort-the-senator-terms-appropriately-2.2\"><span class=\"toc-item-num\">2.2&nbsp;&nbsp;</span>In order to visualise the data, we need to sort the senator terms appropriately</a></span></li><li><span><a href=\"#Save-data-to-a-csv-to-be-plotted-in-the-visualisation-later\" data-toc-modified-id=\"Save-data-to-a-csv-to-be-plotted-in-the-visualisation-later-2.3\"><span class=\"toc-item-num\">2.3&nbsp;&nbsp;</span>Save data to a csv to be plotted in the visualisation later</a></span></li></ul></li><li><span><a href=\"#Total-number-of-women-serving-over-time\" data-toc-modified-id=\"Total-number-of-women-serving-over-time-3\"><span class=\"toc-item-num\">3&nbsp;&nbsp;</span>Total number of women serving over time</a></span></li><li><span><a href=\"#Data-for-all-congressmen-and-women\" data-toc-modified-id=\"Data-for-all-congressmen-and-women-4\"><span class=\"toc-item-num\">4&nbsp;&nbsp;</span>Data for all congressmen and women</a></span></li></ul></div>"
   ]
  },
  {
   "cell_type": "code",
   "execution_count": 1,
   "metadata": {
    "collapsed": true,
    "deletable": true,
    "editable": true
   },
   "outputs": [],
   "source": [
    "import pandas as pd\n",
    "import requests\n",
    "from bs4 import BeautifulSoup"
   ]
  },
  {
   "cell_type": "markdown",
   "metadata": {},
   "source": [
    "## Women in the House of Representatives"
   ]
  },
  {
   "cell_type": "markdown",
   "metadata": {},
   "source": [
    "### Read table from wikipedia"
   ]
  },
  {
   "cell_type": "code",
   "execution_count": 187,
   "metadata": {
    "collapsed": true,
    "deletable": true,
    "editable": true
   },
   "outputs": [],
   "source": [
    "req = requests.get(\"https://en.wikipedia.org/wiki/Women_in_the_United_States_House_of_Representatives\")\n",
    "\n",
    "soup = BeautifulSoup(req.content, 'lxml')\n",
    "wikitables = soup.findAll(\"table\", {\"class\": [\"wikitable\"]})"
   ]
  },
  {
   "cell_type": "markdown",
   "metadata": {},
   "source": [
    "### Go row by row and extract information about each rep"
   ]
  },
  {
   "cell_type": "code",
   "execution_count": 188,
   "metadata": {
    "collapsed": false,
    "deletable": true,
    "editable": true
   },
   "outputs": [],
   "source": [
    "def extract_info(row):\n",
    "    img = None\n",
    "    name = None\n",
    "    party = None\n",
    "    district = None\n",
    "    name_wiki = None\n",
    "    if len(row.findAll(\"td\")) == 6:\n",
    "        img, name, party, district, time_served, notes = row.findAll(\"td\")\n",
    "    elif len(row.findAll(\"td\")) == 3:\n",
    "        district, time_served, notes = row.findAll(\"td\")\n",
    "    elif len(row.findAll(\"td\")) == 2:\n",
    "        time_served, notes = row.findAll(\"td\")\n",
    "    else:\n",
    "        return None\n",
    "\n",
    "    if img != None:\n",
    "        img = img.find(\"a\")[\"href\"]\n",
    "\n",
    "    if name != None:\n",
    "        name_wiki = name.find(\"a\")[\"href\"]\n",
    "        name = name.find(\"a\").text\n",
    "        \n",
    "    if party != None:\n",
    "        party = party.find(\"a\").text\n",
    "\n",
    "    if district != None:\n",
    "        district = district.find(\"a\").text\n",
    "\n",
    "    try:\n",
    "        term_start = pd.to_datetime(list(filter(lambda x: \",\" in x.text, time_served.findAll(\"span\")))[0].text)\n",
    "    except:\n",
    "        if len(time_served.findAll(\"span\")) == 3:\n",
    "            term_start = pd.to_datetime(time_served.findAll(\"span\")[0].findAll(\"span\")[-1].text)\n",
    "\n",
    "    term_end = time_served.text.split(\"\\n\")[-1]\n",
    "    #print(term_end)\n",
    "    if term_end == \"present\":\n",
    "        term_end = pd.to_datetime(\"2020-01-01\") # Change to latest possible term end (could be 2018 for some reps...)\n",
    "    else:\n",
    "        try:\n",
    "            term_end = pd.to_datetime(term_end)\n",
    "        except:\n",
    "            term_end = pd.to_datetime(time_served.findAll(\"span\")[-1].text)\n",
    "    notes = notes.text\n",
    "    \n",
    "    return {\"image\":img, \"name_wiki\":name_wiki,\n",
    "            \"name\":name, \"party\":party, \"district\":district,\n",
    "            \"term_start\":term_start, \"term_end\":term_end, \"notes\":notes}"
   ]
  },
  {
   "cell_type": "code",
   "execution_count": 189,
   "metadata": {
    "collapsed": false
   },
   "outputs": [],
   "source": [
    "# Map over each row in the table, extracting info about each rep\n",
    "df = list(map(extract_info, wikitables[2].findAll(\"tr\")))\n",
    "\n",
    "# Convert list into a dataframe, removing empty rows and filling empty cells based on data in the row above\n",
    "women_reps = pd.DataFrame.from_records(filter(None, df)).fillna(method=\"pad\")\n",
    "\n",
    "# Make a clean version of the rep's name, removing punctuation and underscores and making it lowercaase\n",
    "women_reps[\"clean_name\"] = women_reps[\"name_wiki\"].str.replace(\"/wiki/\", \"\").str.replace('[^\\w\\s]','').str.replace(\"_\", \"\").str.lower()\n",
    "\n",
    "# Sort according to the rep's start date\n",
    "women_reps = women_reps.sort_values(\"term_start\")"
   ]
  },
  {
   "cell_type": "markdown",
   "metadata": {},
   "source": [
    "### In order to visualise the data like below, we need to sort the rep terms appropriately"
   ]
  },
  {
   "cell_type": "markdown",
   "metadata": {},
   "source": [
    "![](https://i.imgur.com/gc5yGMv.png)"
   ]
  },
  {
   "cell_type": "code",
   "execution_count": 228,
   "metadata": {
    "collapsed": false,
    "deletable": true,
    "editable": true
   },
   "outputs": [],
   "source": [
    "def decimal_date(date):\n",
    "    \"\"\"Return a decimal version of the date\"\"\"\n",
    "    return date.year + (date.dayofyear-1)/365.25\n",
    "\n",
    "# Initialise array to store stream data\n",
    "streams = []\n",
    "stream_list = []\n",
    "\n",
    "# Iterate over each rep\n",
    "for i, row in women_reps.iterrows():\n",
    "    # Start at the bottom\n",
    "    streams.append(0)\n",
    "    # Loop through each stream currently stored\n",
    "    for stream_id, stream in enumerate(streams):\n",
    "        # If the start date of the rep's term is greater than the date stored for this stream\n",
    "        if decimal_date(row.term_start) >= stream:\n",
    "            # We have found the right spot to put the rep's line\n",
    "            streams[stream_id] = decimal_date(row.term_end)\n",
    "            stream_list.append(stream_id+1)\n",
    "            break\n",
    "        # otherwise, continue looping\n",
    "\n",
    "# Finally, add the stream data to the dataframe\n",
    "women_reps[\"stream\"] = stream_list"
   ]
  },
  {
   "cell_type": "code",
   "execution_count": 229,
   "metadata": {
    "collapsed": false
   },
   "outputs": [
    {
     "data": {
      "text/html": [
       "<div>\n",
       "<style scoped>\n",
       "    .dataframe tbody tr th:only-of-type {\n",
       "        vertical-align: middle;\n",
       "    }\n",
       "\n",
       "    .dataframe tbody tr th {\n",
       "        vertical-align: top;\n",
       "    }\n",
       "\n",
       "    .dataframe thead th {\n",
       "        text-align: right;\n",
       "    }\n",
       "</style>\n",
       "<table border=\"1\" class=\"dataframe\">\n",
       "  <thead>\n",
       "    <tr style=\"text-align: right;\">\n",
       "      <th></th>\n",
       "      <th>district</th>\n",
       "      <th>image</th>\n",
       "      <th>name</th>\n",
       "      <th>name_wiki</th>\n",
       "      <th>notes</th>\n",
       "      <th>party</th>\n",
       "      <th>term_end</th>\n",
       "      <th>term_start</th>\n",
       "      <th>clean_name</th>\n",
       "      <th>stream</th>\n",
       "    </tr>\n",
       "  </thead>\n",
       "  <tbody>\n",
       "    <tr>\n",
       "      <th>0</th>\n",
       "      <td>Montana at-large</td>\n",
       "      <td>/wiki/File:Jeannette_Rankin_cph.3b13863.jpg</td>\n",
       "      <td>Jeannette Rankin</td>\n",
       "      <td>/wiki/Jeannette_Rankin</td>\n",
       "      <td>First woman elected to a national office\\nReti...</td>\n",
       "      <td>Republican</td>\n",
       "      <td>1919-03-04</td>\n",
       "      <td>1917-03-04</td>\n",
       "      <td>jeannetterankin</td>\n",
       "      <td>1</td>\n",
       "    </tr>\n",
       "    <tr>\n",
       "      <th>2</th>\n",
       "      <td>Oklahoma's 2nd</td>\n",
       "      <td>/wiki/File:A.M._Robertson.jpg</td>\n",
       "      <td>Alice Robertson</td>\n",
       "      <td>/wiki/Alice_Mary_Robertson</td>\n",
       "      <td>First woman to defeat an incumbent congressman...</td>\n",
       "      <td>Republican</td>\n",
       "      <td>1923-03-04</td>\n",
       "      <td>1921-03-04</td>\n",
       "      <td>alicemaryrobertson</td>\n",
       "      <td>1</td>\n",
       "    </tr>\n",
       "    <tr>\n",
       "      <th>3</th>\n",
       "      <td>Illinois at-large</td>\n",
       "      <td>/wiki/File:Mrs-winifred-huck.jpg</td>\n",
       "      <td>Winnifred Huck</td>\n",
       "      <td>/wiki/Winnifred_Sprague_Mason_Huck</td>\n",
       "      <td>Succeeded her father in a special election\\nFi...</td>\n",
       "      <td>Republican</td>\n",
       "      <td>1923-03-04</td>\n",
       "      <td>1922-11-07</td>\n",
       "      <td>winnifredspraguemasonhuck</td>\n",
       "      <td>2</td>\n",
       "    </tr>\n",
       "    <tr>\n",
       "      <th>4</th>\n",
       "      <td>California's 5th</td>\n",
       "      <td>/wiki/File:Mae_Nolan.jpg</td>\n",
       "      <td>Mae Nolan</td>\n",
       "      <td>/wiki/Mae_Nolan</td>\n",
       "      <td>Succeeded her husband\\nRetired</td>\n",
       "      <td>Republican</td>\n",
       "      <td>1925-03-04</td>\n",
       "      <td>1923-01-23</td>\n",
       "      <td>maenolan</td>\n",
       "      <td>3</td>\n",
       "    </tr>\n",
       "    <tr>\n",
       "      <th>5</th>\n",
       "      <td>California's 4th</td>\n",
       "      <td>/wiki/File:Florence_Prag_Kahn.jpg</td>\n",
       "      <td>Florence Kahn</td>\n",
       "      <td>/wiki/Florence_Prag_Kahn</td>\n",
       "      <td>First woman to be reelected\\nFirst Jewish woma...</td>\n",
       "      <td>Republican</td>\n",
       "      <td>1937-01-03</td>\n",
       "      <td>1925-03-04</td>\n",
       "      <td>florencepragkahn</td>\n",
       "      <td>1</td>\n",
       "    </tr>\n",
       "  </tbody>\n",
       "</table>\n",
       "</div>"
      ],
      "text/plain": [
       "            district                                        image  \\\n",
       "0   Montana at-large  /wiki/File:Jeannette_Rankin_cph.3b13863.jpg   \n",
       "2     Oklahoma's 2nd                /wiki/File:A.M._Robertson.jpg   \n",
       "3  Illinois at-large             /wiki/File:Mrs-winifred-huck.jpg   \n",
       "4   California's 5th                     /wiki/File:Mae_Nolan.jpg   \n",
       "5   California's 4th            /wiki/File:Florence_Prag_Kahn.jpg   \n",
       "\n",
       "               name                           name_wiki  \\\n",
       "0  Jeannette Rankin              /wiki/Jeannette_Rankin   \n",
       "2   Alice Robertson          /wiki/Alice_Mary_Robertson   \n",
       "3    Winnifred Huck  /wiki/Winnifred_Sprague_Mason_Huck   \n",
       "4         Mae Nolan                     /wiki/Mae_Nolan   \n",
       "5     Florence Kahn            /wiki/Florence_Prag_Kahn   \n",
       "\n",
       "                                               notes       party   term_end  \\\n",
       "0  First woman elected to a national office\\nReti...  Republican 1919-03-04   \n",
       "2  First woman to defeat an incumbent congressman...  Republican 1923-03-04   \n",
       "3  Succeeded her father in a special election\\nFi...  Republican 1923-03-04   \n",
       "4                     Succeeded her husband\\nRetired  Republican 1925-03-04   \n",
       "5  First woman to be reelected\\nFirst Jewish woma...  Republican 1937-01-03   \n",
       "\n",
       "  term_start                 clean_name  stream  \n",
       "0 1917-03-04            jeannetterankin       1  \n",
       "2 1921-03-04         alicemaryrobertson       1  \n",
       "3 1922-11-07  winnifredspraguemasonhuck       2  \n",
       "4 1923-01-23                   maenolan       3  \n",
       "5 1925-03-04           florencepragkahn       1  "
      ]
     },
     "execution_count": 229,
     "metadata": {},
     "output_type": "execute_result"
    }
   ],
   "source": [
    "women_reps.head()"
   ]
  },
  {
   "cell_type": "markdown",
   "metadata": {},
   "source": [
    "### Save rep data to a csv to be plotted in the visualisation later"
   ]
  },
  {
   "cell_type": "code",
   "execution_count": 230,
   "metadata": {
    "collapsed": false
   },
   "outputs": [],
   "source": [
    "women_reps[[\"name\", \"district\", \"term_start\", \"term_end\", \"party\", \"clean_name\", \"stream\"]].reset_index().rename(columns={\"index\":\"id\"}).to_csv(\"women_reps.csv\", index=False)"
   ]
  },
  {
   "cell_type": "markdown",
   "metadata": {},
   "source": [
    "## Women in the Senate"
   ]
  },
  {
   "cell_type": "code",
   "execution_count": 407,
   "metadata": {
    "collapsed": true,
    "deletable": true,
    "editable": true
   },
   "outputs": [],
   "source": [
    "req = requests.get(\"https://en.wikipedia.org/wiki/Women_in_the_United_States_Senate\")\n",
    "\n",
    "soup = BeautifulSoup(req.content, 'lxml')\n",
    "wikitables = soup.findAll(\"table\", {\"class\": [\"wikitable\"]})"
   ]
  },
  {
   "cell_type": "markdown",
   "metadata": {
    "deletable": true,
    "editable": true
   },
   "source": [
    "### Go row by row and extract information about each senator"
   ]
  },
  {
   "cell_type": "code",
   "execution_count": 416,
   "metadata": {
    "collapsed": false,
    "deletable": true,
    "editable": true
   },
   "outputs": [],
   "source": [
    "def extract_info(row):\n",
    "    if len(row.findAll(\"td\")) == 9:\n",
    "        img, name, state, term_start, term_end, placeholder, placeholder, placeholder, party = row.findAll(\"td\")\n",
    "    else:\n",
    "        return None\n",
    "\n",
    "    img = img.find(\"a\")[\"href\"]\n",
    "\n",
    "    name_wiki = name.find(\"a\")[\"href\"]\n",
    "    name = name.find(\"a\").text\n",
    "        \n",
    "    party = party.find(\"a\").text\n",
    "    state = state.find(\"a\").text\n",
    "    term_start = pd.to_datetime(term_start.findAll(\"span\")[-1].text)\n",
    "    \n",
    "    try:\n",
    "        term_end = term_end.findAll(\"span\")[-1].text\n",
    "    except IndexError:\n",
    "        term_end = term_end.text\n",
    "    \n",
    "    if term_end == \"present\":\n",
    "        term_end = pd.to_datetime(\"2020-01-01\") # Change to latest possible term end (could be 2018 for some reps...)\n",
    "    else:\n",
    "        term_end = pd.to_datetime(term_end.replace(\"—\", \"\"))\n",
    "    \n",
    "    return {\"image\":img, \"name_wiki\":name_wiki,\n",
    "            \"name\":name, \"party\":party, \"state\":state,\n",
    "            \"term_start\":term_start, \"term_end\":term_end}"
   ]
  },
  {
   "cell_type": "code",
   "execution_count": 417,
   "metadata": {
    "collapsed": false,
    "deletable": true,
    "editable": true,
    "scrolled": true
   },
   "outputs": [],
   "source": [
    "# Map over each row in the table, extracting info about each rep\n",
    "df = list(map(extract_info, wikitables[2].findAll(\"tr\")))\n",
    "\n",
    "# Convert list into a dataframe, removing empty rows and filling empty cells based on data in the row above\n",
    "women_senators = pd.DataFrame.from_records(filter(None, df)).fillna(method=\"pad\")\n",
    "\n",
    "# Make a clean version of the rep's name, removing punctuation and underscores and making it lowercaase\n",
    "women_senators[\"clean_name\"] = women_senators[\"name_wiki\"].str.replace(\"/wiki/\", \"\").str.replace('[^\\w\\s]','').str.replace(\"_\", \"\").str.lower()\n",
    "\n",
    "# Sort according to the rep's start date\n",
    "women_senators = women_senators.sort_values(\"term_start\")"
   ]
  },
  {
   "cell_type": "markdown",
   "metadata": {
    "deletable": true,
    "editable": true
   },
   "source": [
    "### In order to visualise the data, we need to sort the senator terms appropriately"
   ]
  },
  {
   "cell_type": "code",
   "execution_count": 426,
   "metadata": {
    "collapsed": false,
    "deletable": true,
    "editable": true
   },
   "outputs": [],
   "source": [
    "def decimal_date(date):\n",
    "    \"\"\"Return a decimal version of the date\"\"\"\n",
    "    return date.year + (date.dayofyear-1)/365.25\n",
    "\n",
    "# Initialise array to store stream data\n",
    "streams = []\n",
    "stream_list = []\n",
    "\n",
    "# Iterate over each rep\n",
    "for i, row in women_senators.iterrows():\n",
    "    # Start at the bottom\n",
    "    streams.append(0)\n",
    "    # Loop through each stream currently stored\n",
    "    for stream_id, stream in enumerate(streams):\n",
    "        # If the start date of the rep's term is greater than the date stored for this stream\n",
    "        if decimal_date(row.term_start) >= stream:\n",
    "            # We have found the right spot to put the rep's line\n",
    "            streams[stream_id] = decimal_date(row.term_end)\n",
    "            stream_list.append(stream_id+1)\n",
    "            break\n",
    "        # otherwise, continue looping\n",
    "\n",
    "# Finally, add the stream data to the dataframe\n",
    "women_senators[\"stream\"] = stream_list"
   ]
  },
  {
   "cell_type": "code",
   "execution_count": 427,
   "metadata": {
    "collapsed": false,
    "deletable": true,
    "editable": true
   },
   "outputs": [
    {
     "data": {
      "text/html": [
       "<div>\n",
       "<style scoped>\n",
       "    .dataframe tbody tr th:only-of-type {\n",
       "        vertical-align: middle;\n",
       "    }\n",
       "\n",
       "    .dataframe tbody tr th {\n",
       "        vertical-align: top;\n",
       "    }\n",
       "\n",
       "    .dataframe thead th {\n",
       "        text-align: right;\n",
       "    }\n",
       "</style>\n",
       "<table border=\"1\" class=\"dataframe\">\n",
       "  <thead>\n",
       "    <tr style=\"text-align: right;\">\n",
       "      <th></th>\n",
       "      <th>image</th>\n",
       "      <th>name</th>\n",
       "      <th>name_wiki</th>\n",
       "      <th>party</th>\n",
       "      <th>state</th>\n",
       "      <th>term_end</th>\n",
       "      <th>term_start</th>\n",
       "      <th>clean_name</th>\n",
       "      <th>stream</th>\n",
       "    </tr>\n",
       "  </thead>\n",
       "  <tbody>\n",
       "    <tr>\n",
       "      <th>0</th>\n",
       "      <td>/wiki/File:Reb_Felton-Geo_Senate.jpg</td>\n",
       "      <td>Rebecca Felton</td>\n",
       "      <td>/wiki/Rebecca_Latimer_Felton</td>\n",
       "      <td>Democratic</td>\n",
       "      <td>Georgia</td>\n",
       "      <td>1922-11-22</td>\n",
       "      <td>1922-11-21</td>\n",
       "      <td>rebeccalatimerfelton</td>\n",
       "      <td>1</td>\n",
       "    </tr>\n",
       "    <tr>\n",
       "      <th>1</th>\n",
       "      <td>/wiki/File:Hattie_Caraway_1914.jpg</td>\n",
       "      <td>Hattie Caraway</td>\n",
       "      <td>/wiki/Hattie_Caraway</td>\n",
       "      <td>Democratic</td>\n",
       "      <td>Arkansas</td>\n",
       "      <td>1945-01-03</td>\n",
       "      <td>1931-12-09</td>\n",
       "      <td>hattiecaraway</td>\n",
       "      <td>1</td>\n",
       "    </tr>\n",
       "    <tr>\n",
       "      <th>2</th>\n",
       "      <td>/wiki/File:RoseLong.jpg</td>\n",
       "      <td>Rose Long</td>\n",
       "      <td>/wiki/Rose_McConnell_Long</td>\n",
       "      <td>Democratic</td>\n",
       "      <td>Louisiana</td>\n",
       "      <td>1937-01-03</td>\n",
       "      <td>1936-01-31</td>\n",
       "      <td>rosemcconnelllong</td>\n",
       "      <td>2</td>\n",
       "    </tr>\n",
       "    <tr>\n",
       "      <th>3</th>\n",
       "      <td>/wiki/File:SenatorDixieBibbGraves.jpg</td>\n",
       "      <td>Dixie Graves</td>\n",
       "      <td>/wiki/Dixie_Bibb_Graves</td>\n",
       "      <td>Democratic</td>\n",
       "      <td>Alabama</td>\n",
       "      <td>1938-01-10</td>\n",
       "      <td>1937-08-20</td>\n",
       "      <td>dixiebibbgraves</td>\n",
       "      <td>2</td>\n",
       "    </tr>\n",
       "    <tr>\n",
       "      <th>4</th>\n",
       "      <td>/wiki/File:Gladys_Pyle.jpg</td>\n",
       "      <td>Gladys Pyle</td>\n",
       "      <td>/wiki/Gladys_Pyle</td>\n",
       "      <td>Republican</td>\n",
       "      <td>South Dakota</td>\n",
       "      <td>1939-01-03</td>\n",
       "      <td>1938-11-09</td>\n",
       "      <td>gladyspyle</td>\n",
       "      <td>2</td>\n",
       "    </tr>\n",
       "  </tbody>\n",
       "</table>\n",
       "</div>"
      ],
      "text/plain": [
       "                                   image            name  \\\n",
       "0   /wiki/File:Reb_Felton-Geo_Senate.jpg  Rebecca Felton   \n",
       "1     /wiki/File:Hattie_Caraway_1914.jpg  Hattie Caraway   \n",
       "2                /wiki/File:RoseLong.jpg       Rose Long   \n",
       "3  /wiki/File:SenatorDixieBibbGraves.jpg    Dixie Graves   \n",
       "4             /wiki/File:Gladys_Pyle.jpg     Gladys Pyle   \n",
       "\n",
       "                      name_wiki       party         state   term_end  \\\n",
       "0  /wiki/Rebecca_Latimer_Felton  Democratic       Georgia 1922-11-22   \n",
       "1          /wiki/Hattie_Caraway  Democratic      Arkansas 1945-01-03   \n",
       "2     /wiki/Rose_McConnell_Long  Democratic     Louisiana 1937-01-03   \n",
       "3       /wiki/Dixie_Bibb_Graves  Democratic       Alabama 1938-01-10   \n",
       "4             /wiki/Gladys_Pyle  Republican  South Dakota 1939-01-03   \n",
       "\n",
       "  term_start            clean_name  stream  \n",
       "0 1922-11-21  rebeccalatimerfelton       1  \n",
       "1 1931-12-09         hattiecaraway       1  \n",
       "2 1936-01-31     rosemcconnelllong       2  \n",
       "3 1937-08-20       dixiebibbgraves       2  \n",
       "4 1938-11-09            gladyspyle       2  "
      ]
     },
     "execution_count": 427,
     "metadata": {},
     "output_type": "execute_result"
    }
   ],
   "source": [
    "women_senators.head()"
   ]
  },
  {
   "cell_type": "markdown",
   "metadata": {
    "deletable": true,
    "editable": true
   },
   "source": [
    "### Save data to a csv to be plotted in the visualisation later"
   ]
  },
  {
   "cell_type": "code",
   "execution_count": 428,
   "metadata": {
    "collapsed": true,
    "deletable": true,
    "editable": true
   },
   "outputs": [],
   "source": [
    "women_senators[[\"name\", \"state\", \"term_start\", \"term_end\", \"party\", \"clean_name\", \"stream\"]]\\\n",
    "    .reset_index()\\\n",
    "    .rename(columns={\"index\":\"id\"})\\\n",
    "    .to_csv(\"women_senators.csv\", index=False)"
   ]
  },
  {
   "cell_type": "markdown",
   "metadata": {},
   "source": [
    "## Total number of women serving over time"
   ]
  },
  {
   "cell_type": "code",
   "execution_count": 794,
   "metadata": {
    "collapsed": true,
    "deletable": true,
    "editable": true
   },
   "outputs": [],
   "source": [
    "def get_total_number_of_women(df, date):\n",
    "    \n",
    "    row_dict = df.loc[(date > df.term_start) & (date <= df.term_end)].groupby(\"party\").count()[\"clean_name\"].to_dict()\n",
    "    row_dict[\"date\"] = date\n",
    "    \n",
    "    return row_dict\n",
    "\n",
    "num_women = pd.DataFrame(list(map(lambda x: get_total_number_of_women(women_reps, x),\n",
    "                                  pd.date_range(start=\"1915-03-01\", end=\"2019-03-01\", freq=\"6MS\"))))\n",
    "\n",
    "num_women = num_women.rename(columns={\"Democratic\":\"dem_reps\", \"Republican\":\"rep_reps\"}).fillna(0)"
   ]
  },
  {
   "cell_type": "code",
   "execution_count": 795,
   "metadata": {
    "collapsed": false
   },
   "outputs": [],
   "source": [
    "num_women = pd.DataFrame(list(map(lambda x: get_total_number_of_women(women_senators, x), num_women[\"date\"])))\\\n",
    "    .fillna(0)\\\n",
    "    .rename(columns={\"Democratic\":\"dem_sens\", \"Republican\":\"rep_sens\"})\\\n",
    "    .join(num_women.set_index(\"date\"), on=\"date\")\n",
    "\n",
    "num_women[[\"dem_reps\", \"rep_reps\", \"dem_sens\", \"rep_sens\"]] = num_women[[\"dem_reps\", \"rep_reps\", \"dem_sens\", \"rep_sens\"]].astype(int)\n",
    "\n",
    "num_women = num_women.set_index(\"date\")"
   ]
  },
  {
   "cell_type": "code",
   "execution_count": 796,
   "metadata": {
    "collapsed": false
   },
   "outputs": [],
   "source": [
    "# Calculate totals\n",
    "num_women[\"total_women_sens\"] = num_women[\"dem_sens\"] + num_women[\"rep_sens\"]\n",
    "num_women[\"total_women_reps\"] = num_women[\"dem_reps\"] + num_women[\"rep_reps\"]"
   ]
  },
  {
   "cell_type": "code",
   "execution_count": 797,
   "metadata": {
    "collapsed": false
   },
   "outputs": [],
   "source": [
    "# Save to csv\n",
    "num_women.to_csv(\"number_women_over_time.csv\")"
   ]
  },
  {
   "cell_type": "markdown",
   "metadata": {},
   "source": [
    "## Data for all congressmen and women"
   ]
  },
  {
   "cell_type": "markdown",
   "metadata": {},
   "source": [
    "Download data of all congressmen and women in history"
   ]
  },
  {
   "cell_type": "code",
   "execution_count": 657,
   "metadata": {
    "collapsed": true
   },
   "outputs": [],
   "source": [
    "from pandas.io.json import json_normalize\n",
    "\n",
    "congress_url = requests.get(\"https://theunitedstates.io/congress-legislators/legislators-historical.json\").json()\n",
    "congress_url.extend(requests.get(\"https://theunitedstates.io/congress-legislators/legislators-current.json\").json())\n",
    "congress_members = json_normalize(congress_url)[[ \"name.official_full\", \"bio.birthday\", \"bio.gender\", \"id.wikidata\", \"id.thomas\", \"id.wikipedia\", \"name.first\", \"name.last\", \"terms\"]]"
   ]
  },
  {
   "cell_type": "markdown",
   "metadata": {},
   "source": [
    "Create a single row for each member-term"
   ]
  },
  {
   "cell_type": "code",
   "execution_count": 658,
   "metadata": {
    "collapsed": false,
    "deletable": true,
    "editable": true
   },
   "outputs": [],
   "source": [
    "# Pretty inefficient to be honest but doesn't take more than a minute\n",
    "def flatten_nested_df(congress_member):\n",
    "    return pd.DataFrame(congress_member[1][\"terms\"]).apply(lambda row: row.append(congress_member[1].drop(\"terms\")), axis=1)#.to_dict(\"records\")\n",
    "\n",
    "from multiprocessing import Pool\n",
    "pool = Pool(16)\n",
    "\n",
    "congress_members = pd.concat(list(pool.map(flatten_nested_df, congress_members.iterrows())))"
   ]
  },
  {
   "cell_type": "code",
   "execution_count": 659,
   "metadata": {
    "collapsed": false
   },
   "outputs": [],
   "source": [
    "# Drop unneeded data\n",
    "congress_members = congress_members.drop([\"fax\", \"office\", \"contact_form\", \"address\", \"phone\", \"party_affiliations\"], axis=1)\n",
    "# Set start date as type date\n",
    "congress_members[\"start\"] = pd.to_datetime(congress_members[\"start\"])"
   ]
  },
  {
   "cell_type": "code",
   "execution_count": 660,
   "metadata": {
    "collapsed": false
   },
   "outputs": [],
   "source": [
    "# Filter out any members that served before 1915\n",
    "congress_members = congress_members.query(\"start > '1915-01-01'\")\n",
    "\n",
    "congress_members = congress_members.rename(columns={\"bio.birthday\":\"dob\", \"bio.gender\":\"gender\", \"id.thomas\":\"thomas_id\",\n",
    "                                 \"id.wikidata\":\"wikidata_id\", \"name.first\":\"first_name\", \"name.last\":\"last_name\",\n",
    "                                \"name.official_full\": \"full_name\", \"start\":\"term_start\", \"end\":\"term_end\"})\n",
    "\n",
    "congress_members[\"gender\"] = congress_members[\"gender\"].astype(\"category\")\n",
    "congress_members[\"type\"] = congress_members[\"type\"].astype(\"category\")\n",
    "congress_members[\"term_end\"] = pd.to_datetime(congress_members[\"term_end\"])\n",
    "congress_members[\"dob\"] = pd.to_datetime(congress_members[\"dob\"])"
   ]
  },
  {
   "cell_type": "code",
   "execution_count": 693,
   "metadata": {
    "collapsed": false,
    "scrolled": true
   },
   "outputs": [],
   "source": [
    "# Save to HDF\n",
    "congress_members.to_hdf(\"list_of_members.h5\", \"members\", format=\"table\")"
   ]
  },
  {
   "cell_type": "markdown",
   "metadata": {},
   "source": [
    "Get total number of members in congress by party and presidential term\n",
    "\n",
    "Source: https://en.wikipedia.org/wiki/Party_divisions_of_United_States_Congresses"
   ]
  },
  {
   "cell_type": "code",
   "execution_count": 785,
   "metadata": {
    "collapsed": false
   },
   "outputs": [],
   "source": [
    "num_members_ = \"\"\"date\ttotal_sens\tdem_sens\trep_sens\tother_sens\ttotal_reps\tdem_reps\trep_reps\tother_reps\n",
    "1913-04-03\t96\t51\t44\t1\t435\t290\t127\t18\n",
    "1913-04-03\t96\t56\t39\t1\t435\t231\t193\t8\n",
    "1913-04-03\t96\t53\t42\t1\t435\t210\t216\t9\n",
    "1913-04-03\t96\t47\t48\t1\t435\t191\t237\t7\n",
    "1921-04-03\t96\t37\t59\t0\t435\t132\t300\t1\n",
    "1923-02-08\t96\t43\t51\t2\t435\t207\t225\t3\n",
    "1923-02-08\t96\t40\t54\t1\t435\t183\t247\t5\n",
    "1923-02-08\t96\t47\t48\t1\t435\t195\t237\t3\n",
    "1929-04-03\t96\t39\t56\t1\t435\t163\t267\t1\n",
    "1929-04-03\t96\t47\t48\t1\t435\t217\t217\t1\n",
    "1933-04-03\t96\t59\t36\t1\t435\t313\t117\t5\n",
    "1933-04-03\t96\t69\t25\t2\t435\t322\t103\t10\n",
    "1933-04-03\t96\t75\t17\t4\t435\t333\t89\t13\n",
    "1933-04-03\t96\t69\t23\t4\t435\t262\t169\t4\n",
    "1933-04-03\t96\t66\t28\t2\t435\t267\t162\t6\n",
    "1933-04-03\t96\t57\t38\t1\t435\t222\t209\t4\n",
    "1945-12-04\t96\t57\t38\t1\t435\t243\t190\t2\n",
    "1945-12-04\t96\t45\t51\t0\t435\t188\t246\t1\n",
    "1945-12-04\t96\t54\t42\t0\t435\t263\t171\t1\n",
    "1945-12-04\t96\t48\t47\t1\t435\t234\t199\t2\n",
    "1953-01-20\t96\t46\t48\t2\t435\t213\t221\t1\n",
    "1953-01-20\t96\t48\t47\t1\t435\t232\t203\t0\n",
    "1953-01-20\t96\t49\t47\t0\t435\t234\t201\t0\n",
    "1953-01-20\t98\t64\t34\t0\t437\t283\t153\t1\n",
    "1961-01-20\t100\t64\t36\t0\t437\t262\t175\t0\n",
    "1963-11-22\t100\t67\t33\t0\t435\t258\t176\t0\n",
    "1963-11-22\t100\t68\t32\t0\t435\t295\t140\t0\n",
    "1963-11-22\t100\t64\t36\t0\t435\t247\t187\t0\n",
    "1969-01-20\t100\t58\t42\t0\t435\t243\t192\t0\n",
    "1969-01-20\t100\t54\t44\t2\t435\t255\t180\t0\n",
    "1974-09-08\t100\t56\t42\t2\t435\t242\t192\t1\n",
    "1974-09-08\t100\t61\t37\t2\t435\t291\t144\t0\n",
    "1977-01-20\t100\t61\t38\t1\t435\t292\t143\t0\n",
    "1977-01-20\t100\t58\t41\t1\t435\t277\t158\t0\n",
    "1981-01-20\t100\t46\t53\t1\t435\t242\t192\t1\n",
    "1981-01-20\t100\t46\t54\t0\t435\t269\t166\t0\n",
    "1981-01-20\t100\t47\t53\t0\t435\t253\t182\t0\n",
    "1981-01-20\t100\t55\t45\t0\t435\t258\t177\t0\n",
    "1989-01-20\t100\t55\t45\t0\t435\t260\t175\t0\n",
    "1989-01-20\t100\t56\t44\t0\t435\t267\t167\t1\n",
    "1993-01-20\t100\t57\t43\t0\t435\t258\t176\t1\n",
    "1993-01-20\t100\t47\t53\t0\t435\t204\t230\t1\n",
    "1993-01-20\t100\t45\t55\t0\t435\t207\t226\t2\n",
    "1993-01-20\t100\t45\t55\t0\t435\t211\t223\t1\n",
    "2001-01-20\t100\t50\t50\t0\t435\t212\t221\t2\n",
    "2001-01-20\t100\t48\t51\t1\t435\t205\t229\t1\n",
    "2001-01-20\t100\t44\t55\t1\t435\t202\t231\t1\n",
    "2001-01-20\t100\t49\t49\t2\t435\t236\t199\t0\n",
    "2009-01-20\t100\t57\t41\t2\t435\t257\t178\t0\n",
    "2009-01-20\t100\t51\t47\t2\t435\t193\t242\t0\n",
    "2009-01-20\t100\t53\t45\t2\t435\t201\t234\t0\n",
    "2009-01-20\t100\t44\t54\t2\t435\t188\t247\t0\n",
    "2017-01-20\t100\t46\t52\t2\t435\t194\t241\t0\n",
    "2021-01-20\t100\t46\t52\t2\t435\t194\t241\t0\"\"\"\n",
    "\n",
    "from io import StringIO\n",
    "num_members = pd.read_csv(StringIO(num_members_), sep=\"\\t\")\n",
    "\n",
    "num_members.groupby(\"date\").mean().astype(int).to_csv(\"total_members_over_time.csv\")"
   ]
  },
  {
   "cell_type": "markdown",
   "metadata": {},
   "source": [
    "Do the same for Presidential info"
   ]
  },
  {
   "cell_type": "code",
   "execution_count": 750,
   "metadata": {
    "collapsed": false
   },
   "outputs": [],
   "source": [
    "presidents_csv = \"\"\"president,term_start\n",
    "Woodrow Wilson,1913-04-03\n",
    "Warren G. Harding,1921-04-03\n",
    "Calvin Coolidge,1923-02-08\n",
    "Herbert Hoover,1929-04-03\n",
    "Franklin D. Roosevelt,1933-04-03\n",
    "Harry S. Truman,1945-12-04\n",
    "Dwight D. Eisenhower,1953-01-20\n",
    "John F. Kennedy,1961-01-20\n",
    "Lyndon B. Johnson,1963-11-22\n",
    "Richard Nixon,1969-01-20\n",
    "Gerald Ford,1974-09-08\n",
    "Jimmy Carter,1977-01-20\n",
    "Ronald Reagan,1981-01-20\n",
    "George H. W. Bush,1989-01-20\n",
    "Bill Clinton,1993-01-20\n",
    "George W. Bush,2001-01-20\n",
    "Barack Obama,2009-01-20\n",
    "Donald Trump,2017-01-20\n",
    ",2021-01-20\"\"\"\n",
    "\n",
    "from io import StringIO\n",
    "presidents = pd.read_csv(StringIO(presidents_csv))\n",
    "\n",
    "presidents[\"term_start\"] = pd.to_datetime(presidents[\"term_start\"])"
   ]
  }
 ],
 "metadata": {
  "anaconda-cloud": {},
  "kernelspec": {
   "display_name": "Python [conda env:nlp]",
   "language": "python",
   "name": "conda-env-nlp-py"
  },
  "language_info": {
   "codemirror_mode": {
    "name": "ipython",
    "version": 3
   },
   "file_extension": ".py",
   "mimetype": "text/x-python",
   "name": "python",
   "nbconvert_exporter": "python",
   "pygments_lexer": "ipython3",
   "version": "3.6.1"
  },
  "toc": {
   "nav_menu": {},
   "number_sections": true,
   "sideBar": false,
   "skip_h1_title": true,
   "toc_cell": true,
   "toc_position": {
    "height": "46px",
    "left": "924px",
    "right": "20px",
    "top": "52.2693px",
    "width": "600px"
   },
   "toc_section_display": "block",
   "toc_window_display": true
  }
 },
 "nbformat": 4,
 "nbformat_minor": 2
}
